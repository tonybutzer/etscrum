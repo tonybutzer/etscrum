{
 "cells": [
  {
   "cell_type": "markdown",
   "metadata": {
    "slideshow": {
     "slide_type": "slide"
    }
   },
   "source": [
    "# EvapoTranspiration Science needs an ARD Cloud\n",
    "\n",
    "## Conclusions\n",
    "\n",
    "- A **mathematical proof** is an inferential argument for a mathematical statement, showing that the stated assumptions logically **guarantee the conclusion**. \n",
    "\n",
    "### That is what this ET case study is:\n",
    "- #### a mathematical proof the Pangeo and ARD improve the science experience.\n"
   ]
  },
  {
   "cell_type": "markdown",
   "metadata": {
    "slideshow": {
     "slide_type": "slide"
    }
   },
   "source": [
    "# c1 - Ryan Abernathey is RIGHT about data lakes and Pangeo\n",
    "\n",
    "#### The Future of Data-driven Discovery in the Cloud - Ryan Abernathey (Columbia University)\n",
    "- youtube"
   ]
  },
  {
   "cell_type": "markdown",
   "metadata": {
    "slideshow": {
     "slide_type": "slide"
    }
   },
   "source": [
    "# c2 -  Chris Holmes is RIGHT about no more portals and about COGs\n",
    "\n",
    "### The State of SpatioTemporal Asset Catalogs (Sprint #3)--Chris Holmes"
   ]
  },
  {
   "cell_type": "markdown",
   "metadata": {
    "slideshow": {
     "slide_type": "slide"
    }
   },
   "source": [
    "# c3 - The cloud can be used to:\n",
    "- #  Accelerate Science.\n",
    "\n",
    "### By using the cloud and scalable storage --\n",
    "\n",
    "## We did one months worth of ET science in one day.\n",
    "\n",
    "# ONE DAY!\n",
    "\n",
    "# c4 - Pangeo plus ARD in COGs **IS THE WAY** to do Science"
   ]
  },
  {
   "cell_type": "markdown",
   "metadata": {
    "slideshow": {
     "slide_type": "slide"
    }
   },
   "source": [
    "# 0--ARD-ET-Talk\n",
    "\n",
    "# Overview\n",
    "\n",
    "### Passions\n",
    "#### Key Technologies that Allow Scaling\n",
    "- ## *AWS Cloud*\n",
    "- #### Linux/Terraform\n",
    "- #### Docker\n",
    "- ## *Jupyter*\n",
    "- #### PANGEO, Open Data Cube and The BROWSER\n",
    "- #### Python and github\n",
    "\n",
    "\n",
    "#### Evaporation and Transpiration in The Cloud\n",
    "\n",
    "- #### What?\n",
    "- #### Why?\n",
    "- #### How? ( Philosophy and Guiding Principles)\n",
    "- #### Who?\n",
    "- ## *What does this work have to do with ARD?*"
   ]
  },
  {
   "cell_type": "markdown",
   "metadata": {
    "slideshow": {
     "slide_type": "slide"
    }
   },
   "source": [
    "## Practical Example/Case Study of Derived Data \n",
    "### ET Products\n",
    "\n",
    "#### ET Inputs; ET Processing; ET Outputs\n",
    "\n",
    "### Data Storage\n",
    "- #### Strategy\n",
    "- #### Costs\n",
    "\n",
    "### Compute\n",
    "- #### Strategy\n",
    "- #### Costs\n",
    "\n",
    "#### What's Next? -- Remaining Work"
   ]
  },
  {
   "cell_type": "markdown",
   "metadata": {
    "slideshow": {
     "slide_type": "slide"
    }
   },
   "source": [
    "# That is the outline for the talk \n",
    "\n",
    "## I have 10 Minutes - wish me luck\n",
    "\n",
    "### Mission impossible theme \n",
    "\n",
    "#### Dun dun duhdun ...."
   ]
  },
  {
   "cell_type": "markdown",
   "metadata": {
    "slideshow": {
     "slide_type": "slide"
    }
   },
   "source": [
    "## Key Technologies that Allow Scaling\n",
    "- ### AWS Cloud - (Pictures Below)\n",
    "    - S3 - Simple Scalable Storage - Its also Ubiquitous or Omnipresent\n",
    "    - So many AWS ways to scale compute - so little time.\n",
    "        - we use **bash shell scripts and docker containers** - today\n",
    "        - baby steps\n",
    "---\n",
    "- ### Jupyter - Really immerse yourself\n",
    "    - Very Easy to setup for an individual or even a group of scientists\n",
    "    - Does Many Things\n",
    "        - Python simple IDE\n",
    "        - Can do simple Presentations - **LIKE THIS ONE**\n",
    "        - Easy to Share\n",
    "        - and Now ... drumroll please .... . . . \n",
    "# Jupyter builds web deployable dashboards\n",
    "---\n",
    "## Many exciting and competing python packages\n",
    "- ### Panel \n",
    "- Voila\n",
    "- Plotly Dash\n",
    "- Panel package\n",
    "    - DashBoards created in minutes\n",
    "    - **Builds web apps/sites even your jupyter hating mom will love**\n"
   ]
  },
  {
   "cell_type": "markdown",
   "metadata": {
    "slideshow": {
     "slide_type": "slide"
    }
   },
   "source": [
    "- what goes here?\n",
    "    - slides of the cloud\n",
    "    - slides of human scaling"
   ]
  },
  {
   "cell_type": "markdown",
   "metadata": {
    "slideshow": {
     "slide_type": "slide"
    }
   },
   "source": [
    "# What\n",
    "## Evaporation and Transpiration in The Cloud\n",
    "### Affects Water Balance ok -- so its imporatant stuff"
   ]
  },
  {
   "cell_type": "markdown",
   "metadata": {
    "slideshow": {
     "slide_type": "slide"
    }
   },
   "source": [
    "## Why?\n",
    "\n",
    "- drb pictures here"
   ]
  },
  {
   "cell_type": "markdown",
   "metadata": {
    "slideshow": {
     "slide_type": "slide"
    }
   },
   "source": [
    "## How?\n",
    "### How Strategy\n",
    "\n",
    "### In short - we used Pangeo and our outputs are COGs\n",
    "#### Total IMMERSIVE approach\n",
    "#### Half way home to having our data be classified as ARD\n",
    "\n",
    "#### Instead of smoke and mirrors\n",
    "- ### We used GITHUB and TEXT\n",
    "---\n",
    "- lean agile philosophy\n",
    "    - allows us to scale\n",
    "    - avoid Yaks and Yak Shaving\n",
    "    - lean how -- very few technical items - s3[0], ec-2[0], docker, jupyter, python\n",
    "- lots of old dog tricks to scale humans\n",
    "- immersive strategy - live in the clouds\n",
    "- consistent just in time training for the scientists\n",
    "    - lots of jupyter sessions \n",
    "        - with git for memory enhancement \n",
    "        - and code plus outputs for mental stickiness.\n",
    "- open source approach \n",
    "    - eliminate all proprietary code\n",
    "    - insulate AWS cloud dependencies - cloud agnostic"
   ]
  },
  {
   "cell_type": "markdown",
   "metadata": {
    "slideshow": {
     "slide_type": "subslide"
    }
   },
   "source": [
    "### How Scaling\n",
    "\n",
    "- pictures here of tiles and chips\n",
    "\n",
    "- then we glue them back together with \n",
    "    - ## xarray merge"
   ]
  },
  {
   "cell_type": "markdown",
   "metadata": {
    "slideshow": {
     "slide_type": "slide"
    }
   },
   "source": [
    "## Who?\n",
    "\n",
    "1. Stefanie Kagone - VegET Scientist\n",
    "2. Gabriel Senay - Physical Scientist\n",
    "3. Gabe Parrish - Python prototyper"
   ]
  },
  {
   "cell_type": "markdown",
   "metadata": {
    "slideshow": {
     "slide_type": "slide"
    }
   },
   "source": [
    "## What does this have to do with ARD?\n",
    "\n",
    "### A whole bunch actually, we plan to consume available ARD\n",
    "- Landsat Collection-2\n",
    "- Modis NDVI\n",
    "- [OTHER,]\n",
    "---\n",
    "### We also plan to produce ARD for downstream modelers\n",
    "- All of our products to be staged in AWS\n",
    "    - COGS\n",
    "    - with a STAC catalog - we may need to phone a friend.\n",
    "- We may partner with someone to create Climatology ARD\n",
    "- or -- We may just produce this on the fly to save storage costs\n",
    "---\n",
    "### We also want to allow take home data cubes  \n",
    "- spatial temporal AOI based data cubes of ET"
   ]
  },
  {
   "cell_type": "markdown",
   "metadata": {
    "slideshow": {
     "slide_type": "slide"
    }
   },
   "source": [
    "## Practical Example/Case Study of Derived Data "
   ]
  },
  {
   "cell_type": "markdown",
   "metadata": {
    "slideshow": {
     "slide_type": "slide"
    }
   },
   "source": [
    "### ET Products"
   ]
  },
  {
   "cell_type": "markdown",
   "metadata": {
    "slideshow": {
     "slide_type": "slide"
    }
   },
   "source": [
    "### ET Inputs"
   ]
  },
  {
   "cell_type": "markdown",
   "metadata": {
    "slideshow": {
     "slide_type": "slide"
    }
   },
   "source": [
    "### ET Processing"
   ]
  },
  {
   "cell_type": "markdown",
   "metadata": {
    "slideshow": {
     "slide_type": "slide"
    }
   },
   "source": [
    "### ET Outputs"
   ]
  },
  {
   "cell_type": "markdown",
   "metadata": {
    "slideshow": {
     "slide_type": "slide"
    }
   },
   "source": [
    "### Data Storage\n",
    "#### Strategy\n",
    "#### Costs"
   ]
  },
  {
   "cell_type": "markdown",
   "metadata": {
    "slideshow": {
     "slide_type": "slide"
    }
   },
   "source": [
    "### Compute\n",
    "#### Strategy\n",
    "#### Costs"
   ]
  },
  {
   "cell_type": "markdown",
   "metadata": {
    "slideshow": {
     "slide_type": "slide"
    }
   },
   "source": [
    "## What's Next -- Remaining Work\n",
    "\n",
    "### Visualization Dashboards\n",
    "- examples - take a python-jupyter detour with me\n",
    "    - pie chart\n",
    "    - ET Annual Explorer\n",
    "- notional\n",
    "    - Scott Henderson's - animations using COGS, Overview based VRTs and widgets\n",
    "    - HUC12 basin summary data\n",
    "    - Annual Map Products\n",
    "    - Gabriel Senay defined outputs on demand\n",
    "    "
   ]
  },
  {
   "cell_type": "markdown",
   "metadata": {
    "slideshow": {
     "slide_type": "subslide"
    }
   },
   "source": [
    "    \n",
    "### Now we need STAC -- because:\n",
    "picture here\n",
    "\n",
    "- 8 Million tifs - 20 terabytes - just one model\n",
    "- aws s3 ls --human --recursive --summary\n",
    "    - ## Took over One HOUR to run\n",
    "---\n",
    "### Cost Containment Strategies\n",
    "- Glacier\n",
    "- byte data plus scaling factor - instead of 64 bit floats\n",
    "- automated hierarchical storage \n",
    "- Reserved instances\n",
    "- Spot instances\n",
    "\n",
    "### Customer self-service websites\n",
    "- Jekyll or sphinx based web site\n",
    "\n",
    "### Production Routine Processing - forward processing\n",
    "- Dashboard based docker orchetration operator console"
   ]
  },
  {
   "cell_type": "markdown",
   "metadata": {
    "slideshow": {
     "slide_type": "subslide"
    }
   },
   "source": [
    "### Variable Resolution\n",
    "- Modis at 250 meters\n",
    "- Landsat at 30 meters\n",
    "\n",
    "### North America\n",
    "\n",
    "### The Globe\n",
    "\n",
    "### VegET Complete in AWS - what about AWS based SSEBop?\n",
    "\n",
    "### Promote the PANGEO Vision in practical ways\n",
    "- Training and seminars - Science Outreach\n",
    "- Real world implementations\n",
    "\n",
    "### Cloud Interoperability Google Earth Engine and AWS"
   ]
  },
  {
   "cell_type": "markdown",
   "metadata": {
    "slideshow": {
     "slide_type": "slide"
    }
   },
   "source": [
    "### Evaporation and Transpiration in The PANGEO/ARD Cloud - \n",
    "\n",
    "# A Better way to do Science!\n",
    "\n",
    "- tony butzer\n",
    "    - tonybutzer@gmail.com"
   ]
  },
  {
   "cell_type": "markdown",
   "metadata": {
    "slideshow": {
     "slide_type": "slide"
    }
   },
   "source": [
    "# Demo Time"
   ]
  },
  {
   "cell_type": "code",
   "execution_count": null,
   "metadata": {},
   "outputs": [],
   "source": []
  }
 ],
 "metadata": {
  "celltoolbar": "Slideshow",
  "kernelspec": {
   "display_name": "Python 3",
   "language": "python",
   "name": "python3"
  },
  "language_info": {
   "codemirror_mode": {
    "name": "ipython",
    "version": 3
   },
   "file_extension": ".py",
   "mimetype": "text/x-python",
   "name": "python",
   "nbconvert_exporter": "python",
   "pygments_lexer": "ipython3",
   "version": "3.7.3"
  }
 },
 "nbformat": 4,
 "nbformat_minor": 4
}
