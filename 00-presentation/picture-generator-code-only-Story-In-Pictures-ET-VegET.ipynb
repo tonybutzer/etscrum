{
 "cells": [
  {
   "cell_type": "code",
   "execution_count": 1,
   "metadata": {},
   "outputs": [
    {
     "name": "stdout",
     "output_type": "stream",
     "text": [
      "01-et-infra-cartoon.png\t\t    delaware-row3-geojson.PNG\r\n",
      "50-cloud-boardman-oregon-aws.PNG    great-skew.jpg\r\n",
      "50-cloud-data-center-guts.PNG\t    imgo.jpg\r\n",
      "50-cloud-region-cost-variances.PNG  lpdaac_data.png\r\n",
      "Rich_Signell_s.jpg\t\t    modis-ndvi-day1-day200.png\r\n",
      "africa-costs.PNG\t\t    precipitation_sioux_falls_by_way_xarray.PNG\r\n",
      "africa_scene_depth_heatmap.PNG\t    row0.jpg\r\n",
      "air_temp_day_1.PNG\t\t    row2.jpg\r\n",
      "costsAWS-mar14.png\t\t    steffi_south.PNG\r\n",
      "delaware-and-east-tiles-ndvi.PNG\r\n"
     ]
    }
   ],
   "source": [
    "! ls assets-1/"
   ]
  },
  {
   "cell_type": "code",
   "execution_count": 2,
   "metadata": {},
   "outputs": [
    {
     "name": "stdout",
     "output_type": "stream",
     "text": [
      "/home/jovyan\r\n"
     ]
    }
   ],
   "source": [
    "!pwd"
   ]
  },
  {
   "cell_type": "code",
   "execution_count": 3,
   "metadata": {},
   "outputs": [],
   "source": [
    "! ip -h a | grep inet | grep 10.12"
   ]
  },
  {
   "cell_type": "code",
   "execution_count": 4,
   "metadata": {},
   "outputs": [],
   "source": [
    "import glob\n",
    "assets1 = glob.glob(\"./assets-1/*.*\")\n",
    "assets1.sort()\n"
   ]
  },
  {
   "cell_type": "code",
   "execution_count": 5,
   "metadata": {},
   "outputs": [
    {
     "name": "stdout",
     "output_type": "stream",
     "text": [
      "<img src=\"./bonus-slides/case-study-1.PNG\" width=\"800\">\n",
      "<img src=\"./bonus-slides/case-study-2.PNG\" width=\"800\">\n",
      "<img src=\"./bonus-slides/cloud-platform-bakeoff.PNG\" width=\"800\">\n",
      "<img src=\"./bonus-slides/data-lake.PNG\" width=\"800\">\n",
      "<img src=\"./bonus-slides/data-portals-what-we-did-b4.PNG\" width=\"800\">\n",
      "<img src=\"./bonus-slides/devops-and-data-ops.PNG\" width=\"800\">\n",
      "<img src=\"./bonus-slides/et-movie.PNG\" width=\"800\">\n",
      "<img src=\"./bonus-slides/et-viewer-non-trap.PNG\" width=\"800\">\n",
      "<img src=\"./bonus-slides/future-pangeo-move-the-scientist-to the data.PNG\" width=\"800\">\n",
      "<img src=\"./bonus-slides/happy-cloud.gif\" width=\"800\">\n",
      "<img src=\"./bonus-slides/iluv-thecloud.PNG\" width=\"800\">\n",
      "<img src=\"./bonus-slides/map-reduce.PNG\" width=\"800\">\n",
      "<img src=\"./bonus-slides/pangeo-nasa.PNG\" width=\"800\">\n",
      "<img src=\"./bonus-slides/questions-stump-the-geek.PNG\" width=\"800\">\n",
      "<img src=\"./bonus-slides/scientist.PNG\" width=\"800\">\n",
      "<img src=\"./bonus-slides/t3-ec2-instance.PNG\" width=\"800\">\n",
      "<img src=\"./bonus-slides/this-open-et.PNG\" width=\"800\">\n"
     ]
    }
   ],
   "source": [
    "import glob\n",
    "assets1 = glob.glob(\"./bonus-slides/*.*\")\n",
    "assets1.sort()\n",
    "for asset in assets1:\n",
    "    #print(f'![{asset}]({asset})')\n",
    "    print(f'<img src=\"{asset}\" width=\"800\">')"
   ]
  },
  {
   "cell_type": "code",
   "execution_count": 6,
   "metadata": {
    "scrolled": true
   },
   "outputs": [
    {
     "name": "stdout",
     "output_type": "stream",
     "text": [
      "![./bonus-slides/case-study-1.PNG](./bonus-slides/case-study-1.PNG)\n",
      "![./bonus-slides/case-study-2.PNG](./bonus-slides/case-study-2.PNG)\n",
      "![./bonus-slides/cloud-platform-bakeoff.PNG](./bonus-slides/cloud-platform-bakeoff.PNG)\n",
      "![./bonus-slides/data-lake.PNG](./bonus-slides/data-lake.PNG)\n",
      "![./bonus-slides/data-portals-what-we-did-b4.PNG](./bonus-slides/data-portals-what-we-did-b4.PNG)\n",
      "![./bonus-slides/devops-and-data-ops.PNG](./bonus-slides/devops-and-data-ops.PNG)\n",
      "![./bonus-slides/et-movie.PNG](./bonus-slides/et-movie.PNG)\n",
      "![./bonus-slides/et-viewer-non-trap.PNG](./bonus-slides/et-viewer-non-trap.PNG)\n",
      "![./bonus-slides/future-pangeo-move-the-scientist-to the data.PNG](./bonus-slides/future-pangeo-move-the-scientist-to the data.PNG)\n",
      "![./bonus-slides/happy-cloud.gif](./bonus-slides/happy-cloud.gif)\n",
      "![./bonus-slides/iluv-thecloud.PNG](./bonus-slides/iluv-thecloud.PNG)\n",
      "![./bonus-slides/map-reduce.PNG](./bonus-slides/map-reduce.PNG)\n",
      "![./bonus-slides/pangeo-nasa.PNG](./bonus-slides/pangeo-nasa.PNG)\n",
      "![./bonus-slides/questions-stump-the-geek.PNG](./bonus-slides/questions-stump-the-geek.PNG)\n",
      "![./bonus-slides/scientist.PNG](./bonus-slides/scientist.PNG)\n",
      "![./bonus-slides/t3-ec2-instance.PNG](./bonus-slides/t3-ec2-instance.PNG)\n",
      "![./bonus-slides/this-open-et.PNG](./bonus-slides/this-open-et.PNG)\n"
     ]
    }
   ],
   "source": [
    "for asset in assets1:\n",
    "    print(f'![{asset}]({asset})')"
   ]
  },
  {
   "cell_type": "markdown",
   "metadata": {
    "slideshow": {
     "slide_type": "slide"
    }
   },
   "source": [
    "<img src=\"./bonus-slides/iluv-thecloud.PNG\" width=\"800\">"
   ]
  },
  {
   "cell_type": "markdown",
   "metadata": {
    "slideshow": {
     "slide_type": "slide"
    }
   },
   "source": [
    "<img src=\"./bonus-slides/et-movie.PNG\" width=\"400\">\n",
    "<img src=\"./bonus-slides/happy-cloud.gif\" width=\"400\">\n",
    "<img src=\"./bonus-slides/case-study-1.PNG\" width=\"200\">\n",
    "<img src=\"./bonus-slides/this-open-et.PNG\" width=\"800\">\n",
    "<img src=\"./bonus-slides/case-study-2.PNG\" width=\"300\">"
   ]
  },
  {
   "cell_type": "markdown",
   "metadata": {
    "slideshow": {
     "slide_type": "slide"
    }
   },
   "source": [
    "<img src=\"./bonus-slides/scientist.PNG\" width=\"300\">\n",
    "<img src=\"./bonus-slides/data-lake.PNG\" width=\"500\">\n",
    "<img src=\"./bonus-slides/pangeo-nasa.PNG\" width=\"800\">"
   ]
  },
  {
   "cell_type": "markdown",
   "metadata": {
    "slideshow": {
     "slide_type": "slide"
    }
   },
   "source": [
    "<img src=\"./bonus-slides/data-portals-what-we-did-b4.PNG\" width=\"800\">\n",
    "<img src=\"./bonus-slides/future-pangeo-move-the-scientist-to the data.PNG\" width=\"800\">"
   ]
  },
  {
   "cell_type": "markdown",
   "metadata": {
    "slideshow": {
     "slide_type": "slide"
    }
   },
   "source": [
    "<img src=\"./bonus-slides/map-reduce.PNG\" width=\"800\">\n",
    "<img src=\"./bonus-slides/et-viewer-non-trap.PNG\" width=\"800\">"
   ]
  },
  {
   "cell_type": "markdown",
   "metadata": {
    "slideshow": {
     "slide_type": "slide"
    }
   },
   "source": [
    "<img src=\"./bonus-slides/t3-ec2-instance.PNG\" width=\"800\">"
   ]
  },
  {
   "cell_type": "markdown",
   "metadata": {
    "slideshow": {
     "slide_type": "slide"
    }
   },
   "source": [
    "<img src=\"./bonus-slides/cloud-platform-bakeoff.PNG\" width=\"800\">"
   ]
  },
  {
   "cell_type": "markdown",
   "metadata": {
    "slideshow": {
     "slide_type": "slide"
    }
   },
   "source": [
    "<img src=\"./bonus-slides/devops-and-data-ops.PNG\" width=\"800\">"
   ]
  },
  {
   "cell_type": "markdown",
   "metadata": {
    "slideshow": {
     "slide_type": "slide"
    }
   },
   "source": [
    "# Stump the Geek\n",
    "<img src=\"./bonus-slides/questions-stump-the-geek.PNG\" width=\"800\">"
   ]
  },
  {
   "cell_type": "code",
   "execution_count": null,
   "metadata": {},
   "outputs": [],
   "source": []
  }
 ],
 "metadata": {
  "celltoolbar": "Slideshow",
  "kernelspec": {
   "display_name": "Python 3",
   "language": "python",
   "name": "python3"
  },
  "language_info": {
   "codemirror_mode": {
    "name": "ipython",
    "version": 3
   },
   "file_extension": ".py",
   "mimetype": "text/x-python",
   "name": "python",
   "nbconvert_exporter": "python",
   "pygments_lexer": "ipython3",
   "version": "3.7.4"
  }
 },
 "nbformat": 4,
 "nbformat_minor": 4
}
