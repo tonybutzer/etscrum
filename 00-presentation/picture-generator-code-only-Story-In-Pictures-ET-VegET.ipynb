{
 "cells": [
  {
   "cell_type": "code",
   "execution_count": 1,
   "metadata": {},
   "outputs": [
    {
     "name": "stdout",
     "output_type": "stream",
     "text": [
      "01-et-infra-cartoon.png\t\t    delaware-row3-geojson.PNG\r\n",
      "50-cloud-boardman-oregon-aws.PNG    great-skew.jpg\r\n",
      "50-cloud-data-center-guts.PNG\t    imgo.jpg\r\n",
      "50-cloud-region-cost-variances.PNG  lpdaac_data.png\r\n",
      "Rich_Signell_s.jpg\t\t    modis-ndvi-day1-day200.png\r\n",
      "africa-costs.PNG\t\t    precipitation_sioux_falls_by_way_xarray.PNG\r\n",
      "africa_scene_depth_heatmap.PNG\t    row0.jpg\r\n",
      "air_temp_day_1.PNG\t\t    row2.jpg\r\n",
      "costsAWS-mar14.png\t\t    steffi_south.PNG\r\n",
      "delaware-and-east-tiles-ndvi.PNG\r\n"
     ]
    }
   ],
   "source": [
    "! ls assets-1/"
   ]
  },
  {
   "cell_type": "code",
   "execution_count": 2,
   "metadata": {},
   "outputs": [
    {
     "name": "stdout",
     "output_type": "stream",
     "text": [
      "/home/jupyter-butzer/opt/etscrum/00-presentation\r\n"
     ]
    }
   ],
   "source": [
    "!pwd"
   ]
  },
  {
   "cell_type": "code",
   "execution_count": 3,
   "metadata": {},
   "outputs": [
    {
     "name": "stdout",
     "output_type": "stream",
     "text": [
      "    inet 10.12.68.246/23 brd 10.12.69.255 scope global dynamic ens5\r\n"
     ]
    }
   ],
   "source": [
    "! ip -h a | grep inet | grep 10.12"
   ]
  },
  {
   "cell_type": "code",
   "execution_count": 4,
   "metadata": {},
   "outputs": [],
   "source": [
    "import glob\n",
    "assets1 = glob.glob(\"./assets-1/*.*\")\n",
    "assets1.sort()"
   ]
  },
  {
   "cell_type": "code",
   "execution_count": 5,
   "metadata": {},
   "outputs": [
    {
     "name": "stdout",
     "output_type": "stream",
     "text": [
      "![./assets-1/01-et-infra-cartoon.png](./assets-1/01-et-infra-cartoon.png)\n",
      "![./assets-1/50-cloud-boardman-oregon-aws.PNG](./assets-1/50-cloud-boardman-oregon-aws.PNG)\n",
      "![./assets-1/50-cloud-data-center-guts.PNG](./assets-1/50-cloud-data-center-guts.PNG)\n",
      "![./assets-1/50-cloud-region-cost-variances.PNG](./assets-1/50-cloud-region-cost-variances.PNG)\n",
      "![./assets-1/Rich_Signell_s.jpg](./assets-1/Rich_Signell_s.jpg)\n",
      "![./assets-1/africa-costs.PNG](./assets-1/africa-costs.PNG)\n",
      "![./assets-1/africa_scene_depth_heatmap.PNG](./assets-1/africa_scene_depth_heatmap.PNG)\n",
      "![./assets-1/air_temp_day_1.PNG](./assets-1/air_temp_day_1.PNG)\n",
      "![./assets-1/costsAWS-mar14.png](./assets-1/costsAWS-mar14.png)\n",
      "![./assets-1/delaware-and-east-tiles-ndvi.PNG](./assets-1/delaware-and-east-tiles-ndvi.PNG)\n",
      "![./assets-1/delaware-row3-geojson.PNG](./assets-1/delaware-row3-geojson.PNG)\n",
      "![./assets-1/great-skew.jpg](./assets-1/great-skew.jpg)\n",
      "![./assets-1/imgo.jpg](./assets-1/imgo.jpg)\n",
      "![./assets-1/lpdaac_data.png](./assets-1/lpdaac_data.png)\n",
      "![./assets-1/modis-ndvi-day1-day200.png](./assets-1/modis-ndvi-day1-day200.png)\n",
      "![./assets-1/precipitation_sioux_falls_by_way_xarray.PNG](./assets-1/precipitation_sioux_falls_by_way_xarray.PNG)\n",
      "![./assets-1/row0.jpg](./assets-1/row0.jpg)\n",
      "![./assets-1/row2.jpg](./assets-1/row2.jpg)\n",
      "![./assets-1/steffi_south.PNG](./assets-1/steffi_south.PNG)\n"
     ]
    }
   ],
   "source": [
    "for asset in assets1:\n",
    "    print(f'![{asset}]({asset})')"
   ]
  },
  {
   "cell_type": "markdown",
   "metadata": {},
   "source": [
    "# Assets\n",
    "\n",
    "![./assets-1/01-et-infra-cartoon.png](./assets-1/01-et-infra-cartoon.png)\n",
    "![./assets-1/50-cloud-boardman-oregon-aws.PNG](./assets-1/50-cloud-boardman-oregon-aws.PNG)\n",
    "![./assets-1/50-cloud-data-center-guts.PNG](./assets-1/50-cloud-data-center-guts.PNG)\n",
    "![./assets-1/50-cloud-region-cost-variances.PNG](./assets-1/50-cloud-region-cost-variances.PNG)\n",
    "![./assets-1/Rich_Signell_s.jpg](./assets-1/Rich_Signell_s.jpg)\n",
    "![./assets-1/africa-costs.PNG](./assets-1/africa-costs.PNG)\n",
    "![./assets-1/africa_scene_depth_heatmap.PNG](./assets-1/africa_scene_depth_heatmap.PNG)\n",
    "![./assets-1/air_temp_day_1.PNG](./assets-1/air_temp_day_1.PNG)\n",
    "![./assets-1/costsAWS-mar14.png](./assets-1/costsAWS-mar14.png)\n",
    "![./assets-1/delaware-and-east-tiles-ndvi.PNG](./assets-1/delaware-and-east-tiles-ndvi.PNG)\n",
    "![./assets-1/delaware-row3-geojson.PNG](./assets-1/delaware-row3-geojson.PNG)\n",
    "![./assets-1/great-skew.jpg](./assets-1/great-skew.jpg)\n",
    "![./assets-1/imgo.jpg](./assets-1/imgo.jpg)\n",
    "![./assets-1/lpdaac_data.png](./assets-1/lpdaac_data.png)\n",
    "![./assets-1/modis-ndvi-day1-day200.png](./assets-1/modis-ndvi-day1-day200.png)\n",
    "![./assets-1/precipitation_sioux_falls_by_way_xarray.PNG](./assets-1/precipitation_sioux_falls_by_way_xarray.PNG)\n",
    "![./assets-1/row0.jpg](./assets-1/row0.jpg)\n",
    "![./assets-1/row2.jpg](./assets-1/row2.jpg)\n",
    "![./assets-1/steffi_south.PNG](./assets-1/steffi_south.PNG)"
   ]
  },
  {
   "cell_type": "markdown",
   "metadata": {},
   "source": []
  }
 ],
 "metadata": {
  "kernelspec": {
   "display_name": "Python 3",
   "language": "python",
   "name": "python3"
  },
  "language_info": {
   "codemirror_mode": {
    "name": "ipython",
    "version": 3
   },
   "file_extension": ".py",
   "mimetype": "text/x-python",
   "name": "python",
   "nbconvert_exporter": "python",
   "pygments_lexer": "ipython3",
   "version": "3.7.4"
  }
 },
 "nbformat": 4,
 "nbformat_minor": 4
}
