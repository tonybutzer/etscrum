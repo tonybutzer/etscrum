{
 "cells": [
  {
   "cell_type": "code",
   "execution_count": 1,
   "metadata": {},
   "outputs": [
    {
     "name": "stdout",
     "output_type": "stream",
     "text": [
      "01-et-infra-cartoon.png\t\t    delaware-row3-geojson.PNG\r\n",
      "50-cloud-boardman-oregon-aws.PNG    great-skew.jpg\r\n",
      "50-cloud-data-center-guts.PNG\t    imgo.jpg\r\n",
      "50-cloud-region-cost-variances.PNG  lpdaac_data.png\r\n",
      "Rich_Signell_s.jpg\t\t    modis-ndvi-day1-day200.png\r\n",
      "africa-costs.PNG\t\t    precipitation_sioux_falls_by_way_xarray.PNG\r\n",
      "africa_scene_depth_heatmap.PNG\t    row0.jpg\r\n",
      "air_temp_day_1.PNG\t\t    row2.jpg\r\n",
      "costsAWS-mar14.png\t\t    steffi_south.PNG\r\n",
      "delaware-and-east-tiles-ndvi.PNG\r\n"
     ]
    }
   ],
   "source": [
    "! ls assets-1/"
   ]
  },
  {
   "cell_type": "code",
   "execution_count": 2,
   "metadata": {},
   "outputs": [
    {
     "name": "stdout",
     "output_type": "stream",
     "text": [
      "/home/jupyter-butzer/opt/etscrum/00-presentation\r\n"
     ]
    }
   ],
   "source": [
    "!pwd"
   ]
  },
  {
   "cell_type": "code",
   "execution_count": 3,
   "metadata": {},
   "outputs": [
    {
     "name": "stdout",
     "output_type": "stream",
     "text": [
      "    inet 10.12.68.246/23 brd 10.12.69.255 scope global dynamic ens5\r\n"
     ]
    }
   ],
   "source": [
    "! ip -h a | grep inet | grep 10.12"
   ]
  },
  {
   "cell_type": "code",
   "execution_count": 4,
   "metadata": {},
   "outputs": [],
   "source": [
    "import glob\n",
    "assets1 = glob.glob(\"./assets-1/*.*\")\n",
    "assets1.sort()\n"
   ]
  },
  {
   "cell_type": "code",
   "execution_count": 8,
   "metadata": {},
   "outputs": [
    {
     "name": "stdout",
     "output_type": "stream",
     "text": [
      "<img src=\"./intro/2020-bites.PNG\" width=\"800\">\n",
      "<img src=\"./intro/Scale-Man-2.jpg\" width=\"800\">\n",
      "<img src=\"./intro/about-me-odc-pangeo.PNG\" width=\"800\">\n",
      "<img src=\"./intro/about-me.PNG\" width=\"800\">\n",
      "<img src=\"./intro/about-partnerships.PNG\" width=\"800\">\n",
      "<img src=\"./intro/aws-all-services-overwhelm.PNG\" width=\"800\">\n",
      "<img src=\"./intro/linux-is-my-female-dog.PNG\" width=\"800\">\n",
      "<img src=\"./intro/model-bucket-impl.PNG\" width=\"800\">\n",
      "<img src=\"./intro/oh-no-multitasking-again.PNG\" width=\"800\">\n",
      "<img src=\"./intro/sci-tech.PNG\" width=\"800\">\n",
      "<img src=\"./intro/science-matters.PNG\" width=\"800\">\n",
      "<img src=\"./intro/science-outreach.PNG\" width=\"800\">\n",
      "<img src=\"./intro/stuck-in-the-cloud.PNG\" width=\"800\">\n",
      "<img src=\"./intro/tan-pangeo.PNG\" width=\"800\">\n",
      "<img src=\"./intro/veg-et-vision.PNG\" width=\"800\">\n"
     ]
    }
   ],
   "source": [
    "import glob\n",
    "assets1 = glob.glob(\"./intro/*.*\")\n",
    "assets1.sort()\n",
    "for asset in assets1:\n",
    "    #print(f'![{asset}]({asset})')\n",
    "    print(f'<img src=\"{asset}\" width=\"800\">')"
   ]
  },
  {
   "cell_type": "code",
   "execution_count": 6,
   "metadata": {},
   "outputs": [
    {
     "name": "stdout",
     "output_type": "stream",
     "text": [
      "![./intro/2020-bites.PNG](./intro/2020-bites.PNG)\n",
      "![./intro/Scale-Man-2.jpg](./intro/Scale-Man-2.jpg)\n",
      "![./intro/about-me-odc-pangeo.PNG](./intro/about-me-odc-pangeo.PNG)\n",
      "![./intro/about-me.PNG](./intro/about-me.PNG)\n",
      "![./intro/about-partnerships.PNG](./intro/about-partnerships.PNG)\n",
      "![./intro/aws-all-services-overwhelm.PNG](./intro/aws-all-services-overwhelm.PNG)\n",
      "![./intro/linux-is-my-female-dog.PNG](./intro/linux-is-my-female-dog.PNG)\n",
      "![./intro/model-bucket-impl.PNG](./intro/model-bucket-impl.PNG)\n",
      "![./intro/oh-no-multitasking-again.PNG](./intro/oh-no-multitasking-again.PNG)\n",
      "![./intro/sci-tech.PNG](./intro/sci-tech.PNG)\n",
      "![./intro/science-matters.PNG](./intro/science-matters.PNG)\n",
      "![./intro/science-outreach.PNG](./intro/science-outreach.PNG)\n",
      "![./intro/stuck-in-the-cloud.PNG](./intro/stuck-in-the-cloud.PNG)\n",
      "![./intro/tan-pangeo.PNG](./intro/tan-pangeo.PNG)\n",
      "![./intro/veg-et-vision.PNG](./intro/veg-et-vision.PNG)\n"
     ]
    }
   ],
   "source": [
    "for asset in assets1:\n",
    "    print(f'![{asset}]({asset})')"
   ]
  },
  {
   "cell_type": "markdown",
   "metadata": {},
   "source": [
    "# Assets\n",
    "\n",
    "![./assets-1/01-et-infra-cartoon.png](./assets-1/01-et-infra-cartoon.png)\n",
    "![./assets-1/50-cloud-boardman-oregon-aws.PNG](./assets-1/50-cloud-boardman-oregon-aws.PNG)\n",
    "![./assets-1/50-cloud-data-center-guts.PNG](./assets-1/50-cloud-data-center-guts.PNG)\n",
    "![./assets-1/50-cloud-region-cost-variances.PNG](./assets-1/50-cloud-region-cost-variances.PNG)\n",
    "![./assets-1/Rich_Signell_s.jpg](./assets-1/Rich_Signell_s.jpg)\n",
    "![./assets-1/africa-costs.PNG](./assets-1/africa-costs.PNG)\n",
    "![./assets-1/africa_scene_depth_heatmap.PNG](./assets-1/africa_scene_depth_heatmap.PNG)\n",
    "![./assets-1/air_temp_day_1.PNG](./assets-1/air_temp_day_1.PNG)\n",
    "![./assets-1/costsAWS-mar14.png](./assets-1/costsAWS-mar14.png)\n",
    "![./assets-1/delaware-and-east-tiles-ndvi.PNG](./assets-1/delaware-and-east-tiles-ndvi.PNG)\n",
    "![./assets-1/delaware-row3-geojson.PNG](./assets-1/delaware-row3-geojson.PNG)\n",
    "![./assets-1/great-skew.jpg](./assets-1/great-skew.jpg)\n",
    "![./assets-1/imgo.jpg](./assets-1/imgo.jpg)\n",
    "![./assets-1/lpdaac_data.png](./assets-1/lpdaac_data.png)\n",
    "![./assets-1/modis-ndvi-day1-day200.png](./assets-1/modis-ndvi-day1-day200.png)\n",
    "![./assets-1/precipitation_sioux_falls_by_way_xarray.PNG](./assets-1/precipitation_sioux_falls_by_way_xarray.PNG)\n",
    "![./assets-1/row0.jpg](./assets-1/row0.jpg)\n",
    "![./assets-1/row2.jpg](./assets-1/row2.jpg)\n",
    "![./assets-1/steffi_south.PNG](./assets-1/steffi_south.PNG)"
   ]
  },
  {
   "cell_type": "markdown",
   "metadata": {},
   "source": []
  }
 ],
 "metadata": {
  "kernelspec": {
   "display_name": "Python 3",
   "language": "python",
   "name": "python3"
  },
  "language_info": {
   "codemirror_mode": {
    "name": "ipython",
    "version": 3
   },
   "file_extension": ".py",
   "mimetype": "text/x-python",
   "name": "python",
   "nbconvert_exporter": "python",
   "pygments_lexer": "ipython3",
   "version": "3.7.3"
  }
 },
 "nbformat": 4,
 "nbformat_minor": 4
}
