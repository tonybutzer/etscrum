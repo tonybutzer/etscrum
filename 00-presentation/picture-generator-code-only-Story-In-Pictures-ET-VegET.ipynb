{
 "cells": [
  {
   "cell_type": "code",
   "execution_count": 1,
   "metadata": {},
   "outputs": [
    {
     "name": "stdout",
     "output_type": "stream",
     "text": [
      "01-et-infra-cartoon.png\t\t    delaware-row3-geojson.PNG\r\n",
      "50-cloud-boardman-oregon-aws.PNG    great-skew.jpg\r\n",
      "50-cloud-data-center-guts.PNG\t    imgo.jpg\r\n",
      "50-cloud-region-cost-variances.PNG  lpdaac_data.png\r\n",
      "Rich_Signell_s.jpg\t\t    modis-ndvi-day1-day200.png\r\n",
      "africa-costs.PNG\t\t    precipitation_sioux_falls_by_way_xarray.PNG\r\n",
      "africa_scene_depth_heatmap.PNG\t    row0.jpg\r\n",
      "air_temp_day_1.PNG\t\t    row2.jpg\r\n",
      "costsAWS-mar14.png\t\t    steffi_south.PNG\r\n",
      "delaware-and-east-tiles-ndvi.PNG\r\n"
     ]
    }
   ],
   "source": [
    "! ls assets-1/"
   ]
  },
  {
   "cell_type": "code",
   "execution_count": 2,
   "metadata": {},
   "outputs": [
    {
     "name": "stdout",
     "output_type": "stream",
     "text": [
      "/home/jupyter-butzer/opt/etscrum/00-presentation\r\n"
     ]
    }
   ],
   "source": [
    "!pwd"
   ]
  },
  {
   "cell_type": "code",
   "execution_count": 3,
   "metadata": {},
   "outputs": [
    {
     "name": "stdout",
     "output_type": "stream",
     "text": [
      "    inet 10.12.68.246/23 brd 10.12.69.255 scope global dynamic ens5\r\n"
     ]
    }
   ],
   "source": [
    "! ip -h a | grep inet | grep 10.12"
   ]
  },
  {
   "cell_type": "code",
   "execution_count": 4,
   "metadata": {},
   "outputs": [],
   "source": [
    "import glob\n",
    "assets1 = glob.glob(\"./assets-1/*.*\")\n",
    "assets1.sort()\n"
   ]
  },
  {
   "cell_type": "code",
   "execution_count": 8,
   "metadata": {},
   "outputs": [
    {
     "name": "stdout",
     "output_type": "stream",
     "text": [
      "<img src=\"./assets-1/01-et-infra-cartoon.png\" width=\"800\">\n",
      "<img src=\"./assets-1/50-cloud-boardman-oregon-aws.PNG\" width=\"800\">\n",
      "<img src=\"./assets-1/50-cloud-data-center-guts.PNG\" width=\"800\">\n",
      "<img src=\"./assets-1/50-cloud-region-cost-variances.PNG\" width=\"800\">\n",
      "<img src=\"./assets-1/Rich_Signell_s.jpg\" width=\"800\">\n",
      "<img src=\"./assets-1/africa-costs.PNG\" width=\"800\">\n",
      "<img src=\"./assets-1/africa_scene_depth_heatmap.PNG\" width=\"800\">\n",
      "<img src=\"./assets-1/air_temp_day_1.PNG\" width=\"800\">\n",
      "<img src=\"./assets-1/costsAWS-mar14.png\" width=\"800\">\n",
      "<img src=\"./assets-1/delaware-and-east-tiles-ndvi.PNG\" width=\"800\">\n",
      "<img src=\"./assets-1/delaware-row3-geojson.PNG\" width=\"800\">\n",
      "<img src=\"./assets-1/great-skew.jpg\" width=\"800\">\n",
      "<img src=\"./assets-1/imgo.jpg\" width=\"800\">\n",
      "<img src=\"./assets-1/lpdaac_data.png\" width=\"800\">\n",
      "<img src=\"./assets-1/modis-ndvi-day1-day200.png\" width=\"800\">\n",
      "<img src=\"./assets-1/precipitation_sioux_falls_by_way_xarray.PNG\" width=\"800\">\n",
      "<img src=\"./assets-1/row0.jpg\" width=\"800\">\n",
      "<img src=\"./assets-1/row2.jpg\" width=\"800\">\n",
      "<img src=\"./assets-1/steffi_south.PNG\" width=\"800\">\n"
     ]
    }
   ],
   "source": [
    "import glob\n",
    "assets1 = glob.glob(\"./assets-1/*.*\")\n",
    "assets1.sort()\n",
    "for asset in assets1:\n",
    "    #print(f'![{asset}]({asset})')\n",
    "    print(f'<img src=\"{asset}\" width=\"800\">')"
   ]
  },
  {
   "cell_type": "code",
   "execution_count": 7,
   "metadata": {},
   "outputs": [
    {
     "name": "stdout",
     "output_type": "stream",
     "text": [
      "<img src=\"./intro/2020-bites.PNG\" width=\"800\">\n",
      "<img src=\"./intro/Scale-Man-2.jpg\" width=\"800\">\n",
      "<img src=\"./intro/about-me-odc-pangeo.PNG\" width=\"800\">\n",
      "<img src=\"./intro/about-me.PNG\" width=\"800\">\n",
      "<img src=\"./intro/about-partnerships.PNG\" width=\"800\">\n",
      "<img src=\"./intro/aws-all-services-overwhelm.PNG\" width=\"800\">\n",
      "<img src=\"./intro/linux-is-my-female-dog.PNG\" width=\"800\">\n",
      "<img src=\"./intro/model-bucket-impl.PNG\" width=\"800\">\n",
      "<img src=\"./intro/oh-no-multitasking-again.PNG\" width=\"800\">\n",
      "<img src=\"./intro/sci-tech.PNG\" width=\"800\">\n",
      "<img src=\"./intro/science-matters.PNG\" width=\"800\">\n",
      "<img src=\"./intro/science-outreach.PNG\" width=\"800\">\n",
      "<img src=\"./intro/stuck-in-the-cloud.PNG\" width=\"800\">\n",
      "<img src=\"./intro/tan-pangeo.PNG\" width=\"800\">\n",
      "<img src=\"./intro/veg-et-vision.PNG\" width=\"800\">\n"
     ]
    }
   ],
   "source": [
    "import glob\n",
    "assets1 = glob.glob(\"./intro/*.*\")\n",
    "assets1.sort()\n",
    "for asset in assets1:\n",
    "    #print(f'![{asset}]({asset})')\n",
    "    print(f'<img src=\"{asset}\" width=\"800\">')"
   ]
  },
  {
   "cell_type": "code",
   "execution_count": 5,
   "metadata": {},
   "outputs": [
    {
     "name": "stdout",
     "output_type": "stream",
     "text": [
      "<img src=\"./ard/abernathey-is-right.PNG\" width=\"800\">\n",
      "<img src=\"./ard/chris-holmes-is-right.PNG\" width=\"800\">\n",
      "<img src=\"./ard/demo-time.PNG\" width=\"800\">\n",
      "<img src=\"./ard/drb-commission-economic-impact.PNG\" width=\"800\">\n",
      "<img src=\"./ard/drb-welcome-to-thedelaware-river.PNG\" width=\"800\">\n",
      "<img src=\"./ard/eta-2000-2016.PNG\" width=\"800\">\n",
      "<img src=\"./ard/evapotranspiration.PNG\" width=\"800\">\n",
      "<img src=\"./ard/input-data-list.PNG\" width=\"800\">\n",
      "<img src=\"./ard/input-outputs-pretty-plots.PNG\" width=\"800\">\n",
      "<img src=\"./ard/landcover-over-drb.PNG\" width=\"800\">\n",
      "<img src=\"./ard/mission-impossible.PNG\" width=\"800\">\n",
      "<img src=\"./ard/model-implementation-cartoon.PNG\" width=\"800\">\n",
      "<img src=\"./ard/now-we-need-stac.PNG\" width=\"800\">\n",
      "<img src=\"./ard/r.md\" width=\"800\">\n"
     ]
    }
   ],
   "source": [
    "import glob\n",
    "assets1 = glob.glob(\"./ard/*.*\")\n",
    "assets1.sort()\n",
    "for asset in assets1:\n",
    "    #print(f'![{asset}]({asset})')\n",
    "    print(f'<img src=\"{asset}\" width=\"800\">')"
   ]
  },
  {
   "cell_type": "code",
   "execution_count": 6,
   "metadata": {
    "scrolled": true
   },
   "outputs": [
    {
     "name": "stdout",
     "output_type": "stream",
     "text": [
      "![./ard/abernathey-is-right.PNG](./ard/abernathey-is-right.PNG)\n",
      "![./ard/chris-holmes-is-right.PNG](./ard/chris-holmes-is-right.PNG)\n",
      "![./ard/demo-time.PNG](./ard/demo-time.PNG)\n",
      "![./ard/drb-commission-economic-impact.PNG](./ard/drb-commission-economic-impact.PNG)\n",
      "![./ard/drb-welcome-to-thedelaware-river.PNG](./ard/drb-welcome-to-thedelaware-river.PNG)\n",
      "![./ard/eta-2000-2016.PNG](./ard/eta-2000-2016.PNG)\n",
      "![./ard/evapotranspiration.PNG](./ard/evapotranspiration.PNG)\n",
      "![./ard/input-data-list.PNG](./ard/input-data-list.PNG)\n",
      "![./ard/input-outputs-pretty-plots.PNG](./ard/input-outputs-pretty-plots.PNG)\n",
      "![./ard/landcover-over-drb.PNG](./ard/landcover-over-drb.PNG)\n",
      "![./ard/mission-impossible.PNG](./ard/mission-impossible.PNG)\n",
      "![./ard/model-implementation-cartoon.PNG](./ard/model-implementation-cartoon.PNG)\n",
      "![./ard/now-we-need-stac.PNG](./ard/now-we-need-stac.PNG)\n",
      "![./ard/r.md](./ard/r.md)\n"
     ]
    }
   ],
   "source": [
    "for asset in assets1:\n",
    "    print(f'![{asset}]({asset})')"
   ]
  },
  {
   "cell_type": "markdown",
   "metadata": {},
   "source": [
    "![./ard/abernathey-is-right.PNG](./ard/abernathey-is-right.PNG)\n",
    "![./ard/chris-holmes-is-right.PNG](./ard/chris-holmes-is-right.PNG)\n",
    "![./ard/demo-time.PNG](./ard/demo-time.PNG)\n",
    "![./ard/drb-commission-economic-impact.PNG](./ard/drb-commission-economic-impact.PNG)\n",
    "![./ard/drb-welcome-to-thedelaware-river.PNG](./ard/drb-welcome-to-thedelaware-river.PNG)\n",
    "![./ard/eta-2000-2016.PNG](./ard/eta-2000-2016.PNG)\n",
    "![./ard/evapotranspiration.PNG](./ard/evapotranspiration.PNG)\n",
    "![./ard/input-data-list.PNG](./ard/input-data-list.PNG)\n",
    "![./ard/input-outputs-pretty-plots.PNG](./ard/input-outputs-pretty-plots.PNG)\n",
    "![./ard/landcover-over-drb.PNG](./ard/landcover-over-drb.PNG)\n",
    "![./ard/mission-impossible.PNG](./ard/mission-impossible.PNG)\n",
    "![./ard/model-implementation-cartoon.PNG](./ard/model-implementation-cartoon.PNG)\n",
    "![./ard/now-we-need-stac.PNG](./ard/now-we-need-stac.PNG)\n",
    "![./ard/r.md](./ard/r.md)"
   ]
  },
  {
   "cell_type": "markdown",
   "metadata": {
    "slideshow": {
     "slide_type": "slide"
    }
   },
   "source": [
    "<img src=\"./bonus-slides/iluv-thecloud.PNG\" width=\"800\">"
   ]
  },
  {
   "cell_type": "markdown",
   "metadata": {
    "slideshow": {
     "slide_type": "slide"
    }
   },
   "source": [
    "<img src=\"./bonus-slides/et-movie.PNG\" width=\"400\">\n",
    "<img src=\"./bonus-slides/happy-cloud.gif\" width=\"400\">\n",
    "<img src=\"./bonus-slides/case-study-1.PNG\" width=\"200\">\n",
    "<img src=\"./bonus-slides/this-open-et.PNG\" width=\"800\">\n",
    "<img src=\"./bonus-slides/case-study-2.PNG\" width=\"300\">"
   ]
  },
  {
   "cell_type": "markdown",
   "metadata": {
    "slideshow": {
     "slide_type": "slide"
    }
   },
   "source": [
    "<img src=\"./bonus-slides/scientist.PNG\" width=\"300\">\n",
    "<img src=\"./bonus-slides/data-lake.PNG\" width=\"500\">\n",
    "<img src=\"./bonus-slides/pangeo-nasa.PNG\" width=\"800\">"
   ]
  },
  {
   "cell_type": "markdown",
   "metadata": {
    "slideshow": {
     "slide_type": "slide"
    }
   },
   "source": [
    "<img src=\"./bonus-slides/data-portals-what-we-did-b4.PNG\" width=\"800\">\n",
    "<img src=\"./bonus-slides/future-pangeo-move-the-scientist-to the data.PNG\" width=\"800\">"
   ]
  },
  {
   "cell_type": "markdown",
   "metadata": {
    "slideshow": {
     "slide_type": "slide"
    }
   },
   "source": [
    "<img src=\"./bonus-slides/map-reduce.PNG\" width=\"800\">\n",
    "<img src=\"./bonus-slides/et-viewer-non-trap.PNG\" width=\"800\">"
   ]
  },
  {
   "cell_type": "markdown",
   "metadata": {
    "slideshow": {
     "slide_type": "slide"
    }
   },
   "source": [
    "<img src=\"./bonus-slides/t3-ec2-instance.PNG\" width=\"800\">"
   ]
  },
  {
   "cell_type": "markdown",
   "metadata": {
    "slideshow": {
     "slide_type": "slide"
    }
   },
   "source": [
    "<img src=\"./bonus-slides/cloud-platform-bakeoff.PNG\" width=\"800\">"
   ]
  },
  {
   "cell_type": "markdown",
   "metadata": {
    "slideshow": {
     "slide_type": "slide"
    }
   },
   "source": [
    "<img src=\"./bonus-slides/devops-and-data-ops.PNG\" width=\"800\">"
   ]
  },
  {
   "cell_type": "markdown",
   "metadata": {
    "slideshow": {
     "slide_type": "slide"
    }
   },
   "source": [
    "# Stump the Geek\n",
    "<img src=\"./bonus-slides/questions-stump-the-geek.PNG\" width=\"800\">"
   ]
  },
  {
   "cell_type": "code",
   "execution_count": null,
   "metadata": {},
   "outputs": [],
   "source": []
  }
 ],
 "metadata": {
  "celltoolbar": "Slideshow",
  "kernelspec": {
   "display_name": "Python 3",
   "language": "python",
   "name": "python3"
  },
  "language_info": {
   "codemirror_mode": {
    "name": "ipython",
    "version": 3
   },
   "file_extension": ".py",
   "mimetype": "text/x-python",
   "name": "python",
   "nbconvert_exporter": "python",
   "pygments_lexer": "ipython3",
   "version": "3.7.3"
  }
 },
 "nbformat": 4,
 "nbformat_minor": 4
}
