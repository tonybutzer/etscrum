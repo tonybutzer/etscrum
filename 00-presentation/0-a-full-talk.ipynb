{
 "cells": [
  {
   "cell_type": "markdown",
   "metadata": {
    "slideshow": {
     "slide_type": "slide"
    }
   },
   "source": [
    "# So those presentations were great, they were:\n",
    "### - well organized \n",
    "### - succinct \n",
    "### - salient \n",
    "### - and useful.\n",
    "\n",
    "## Thanks Stefanie and Gabriel!\n",
    "\n",
    "## Now for something completely different/weird!\n"
   ]
  },
  {
   "cell_type": "markdown",
   "metadata": {
    "slideshow": {
     "slide_type": "slide"
    }
   },
   "source": [
    "# about me\n",
    "\n",
    "<img src=\"./intro/about-me.PNG\" width=\"800\">"
   ]
  },
  {
   "cell_type": "markdown",
   "metadata": {
    "slideshow": {
     "slide_type": "slide"
    }
   },
   "source": [
    "# Career/Occupation: I have spent several years:\n",
    "\n",
    "- Jose is a female Brittany Spaniel\n",
    "<img src=\"./intro/linux-is-my-female-dog.PNG\" width=\"800\">\n"
   ]
  },
  {
   "cell_type": "markdown",
   "metadata": {
    "slideshow": {
     "slide_type": "slide"
    }
   },
   "source": [
    "# Q: Why do we do this stuff?,\n",
    "## A: - Because -- Even though 2020 has been so great....\n",
    "\n",
    "<img src=\"./intro/2020-bites.PNG\" width=\"800\">"
   ]
  },
  {
   "cell_type": "markdown",
   "metadata": {
    "slideshow": {
     "slide_type": "slide"
    }
   },
   "source": [
    "# We still need science! -- Science Matters!\n",
    "\n",
    "<img src=\"./intro/science-matters.PNG\" width=\"800\">"
   ]
  },
  {
   "cell_type": "markdown",
   "metadata": {
    "slideshow": {
     "slide_type": "slide"
    }
   },
   "source": [
    "## In fact as part of the Open Data Cube initiative our Mission is:\n",
    "\n",
    "# To Accelerate Science or make Science fun :-).\n",
    "<img src=\"./intro/science-outreach.PNG\" width=\"800\">"
   ]
  },
  {
   "cell_type": "markdown",
   "metadata": {
    "slideshow": {
     "slide_type": "slide"
    }
   },
   "source": [
    "# The Cloud offers lots of promise to make Science easier.\n",
    "\n",
    "<img src=\"./intro/about-me-odc-pangeo.PNG\" width=\"800\">"
   ]
  },
  {
   "cell_type": "markdown",
   "metadata": {
    "slideshow": {
     "slide_type": "slide"
    }
   },
   "source": [
    "# USGS has some PANGEO Initiatives\n",
    "<img src=\"./intro/tan-pangeo.PNG\" width=\"800\">"
   ]
  },
  {
   "cell_type": "markdown",
   "metadata": {
    "slideshow": {
     "slide_type": "slide"
    }
   },
   "source": [
    "# Today we look at the ET case study and how it goes beyond PANGEO.\n",
    "\n",
    "\n",
    "<img src=\"./intro/veg-et-vision.PNG\" width=\"800\">"
   ]
  },
  {
   "cell_type": "markdown",
   "metadata": {
    "slideshow": {
     "slide_type": "slide"
    }
   },
   "source": [
    "# ET has been a global partnership\n",
    "<img src=\"./intro/about-partnerships.PNG\" width=\"800\">"
   ]
  },
  {
   "cell_type": "markdown",
   "metadata": {
    "slideshow": {
     "slide_type": "slide"
    }
   },
   "source": [
    "# We have been working hard on VegET in AWS for a little over 6 Months\n",
    "<img src=\"./intro/oh-no-multitasking-again.PNG\" width=\"800\">\n"
   ]
  },
  {
   "cell_type": "markdown",
   "metadata": {
    "slideshow": {
     "slide_type": "slide"
    }
   },
   "source": [
    "# The cloud allows us to scale computers and Humans\n",
    "<img src=\"./intro/Scale-Man-2.jpg\" width=\"800\">"
   ]
  },
  {
   "cell_type": "markdown",
   "metadata": {
    "slideshow": {
     "slide_type": "slide"
    }
   },
   "source": [
    "# AWS has lots and lots and lots ... of services\n",
    "<img src=\"./intro/aws-all-services-overwhelm.PNG\" width=\"800\">"
   ]
  },
  {
   "cell_type": "markdown",
   "metadata": {
    "slideshow": {
     "slide_type": "slide"
    }
   },
   "source": [
    "# We use just 2:\n",
    "\n",
    "## ---> Compute\n",
    "\n",
    "## ---> Storage"
   ]
  },
  {
   "cell_type": "markdown",
   "metadata": {
    "slideshow": {
     "slide_type": "slide"
    }
   },
   "source": [
    "# This is what our cloud implementation looks like:\n",
    "<img src=\"./intro/model-bucket-impl.PNG\" width=\"800\">"
   ]
  },
  {
   "cell_type": "markdown",
   "metadata": {
    "slideshow": {
     "slide_type": "slide"
    }
   },
   "source": [
    "# Any Drawbacks?\n",
    "### - Yes the data can get stuck in the cloud - Just like in the data centers.\n",
    "<img src=\"./intro/stuck-in-the-cloud.PNG\" width=\"800\">\n"
   ]
  },
  {
   "cell_type": "markdown",
   "metadata": {
    "slideshow": {
     "slide_type": "slide"
    }
   },
   "source": [
    "---\n",
    "---\n",
    "http://10.12.68.246/user/butzer/notebooks/opt/etviz/3-panel-dash-boards/2-day2-simple-ET-image-viewer/98-hvplot-experiment-image-annual-et-viewer-crude-Copy1.ipynb"
   ]
  },
  {
   "cell_type": "markdown",
   "metadata": {
    "slideshow": {
     "slide_type": "slide"
    }
   },
   "source": [
    "# But overall its been fantastic fun working in the cloud with Jupyter\n",
    "<img src=\"./intro/sci-tech.PNG\" width=\"800\">\n"
   ]
  },
  {
   "cell_type": "markdown",
   "metadata": {
    "slideshow": {
     "slide_type": "slide"
    }
   },
   "source": [
    "# Ok NOW lets dig a little DEEPER"
   ]
  },
  {
   "cell_type": "markdown",
   "metadata": {
    "slideshow": {
     "slide_type": "slide"
    }
   },
   "source": [
    "# Start with a precise Architecture Diagram\n",
    "### That illustrates your **Concept of Operations**\n",
    "\n",
    "\n",
    "- This slide is for Steve Labahn only :-)"
   ]
  },
  {
   "cell_type": "markdown",
   "metadata": {
    "slideshow": {
     "slide_type": "slide"
    }
   },
   "source": [
    "![./assets-1/01-et-infra-cartoon.png](./assets-1/01-et-infra-cartoon.png)"
   ]
  },
  {
   "cell_type": "markdown",
   "metadata": {
    "slideshow": {
     "slide_type": "slide"
    }
   },
   "source": [
    "# So where is this cloud?\n",
    "\n",
    "<img src=\"./assets-1/50-cloud-boardman-oregon-aws.PNG\" width=\"1200\">"
   ]
  },
  {
   "cell_type": "markdown",
   "metadata": {
    "slideshow": {
     "slide_type": "slide"
    }
   },
   "source": [
    "# So what does the cloud look like in the data center?\n",
    "\n",
    "## Just like EROS only bigger and badder\n",
    "\n",
    "<img src=\"./assets-1/50-cloud-data-center-guts.PNG\" width=\"1200\">"
   ]
  },
  {
   "cell_type": "markdown",
   "metadata": {
    "slideshow": {
     "slide_type": "slide"
    }
   },
   "source": [
    "#### So how do you manage costs in this infrastructure as a service model? -- It really can be quite easy once you dive in; also use some tools.\n",
    "<img src=\"./assets-1/50-cloud-region-cost-variances.PNG\" width=\"700\">\n"
   ]
  },
  {
   "cell_type": "markdown",
   "metadata": {
    "slideshow": {
     "slide_type": "slide"
    }
   },
   "source": [
    "## What if you get stuck? - Phone a friend.\n",
    "- It might cost you some chocolate though.\n",
    "<img src=\"./assets-1/Rich_Signell_s.jpg\" width=\"500\">\n"
   ]
  },
  {
   "cell_type": "markdown",
   "metadata": {
    "slideshow": {
     "slide_type": "slide"
    }
   },
   "source": [
    "# Learn from the Landsat Africa Collection 2 Team\n",
    "\n",
    "<img src=\"./assets-1/africa-costs.PNG\" width=\"900\">"
   ]
  },
  {
   "cell_type": "markdown",
   "metadata": {
    "slideshow": {
     "slide_type": "slide"
    }
   },
   "source": [
    "# Processed a bunch of scenes in 4 days -copy how they did it!\n",
    "<img src=\"./assets-1/africa_scene_depth_heatmap.PNG\" width=\"900\">"
   ]
  },
  {
   "cell_type": "markdown",
   "metadata": {
    "slideshow": {
     "slide_type": "slide"
    }
   },
   "source": [
    "### Validate your input data for the model\n",
    "- part of the Data Wrangling  -- Air Temperature\n",
    "\n",
    "<img src=\"./assets-1/air_temp_day_1.PNG\" width=\"500\">"
   ]
  },
  {
   "cell_type": "markdown",
   "metadata": {
    "slideshow": {
     "slide_type": "slide"
    }
   },
   "source": [
    "# But again, what about the Costs?\n",
    "<img src=\"./assets-1/costsAWS-mar14.png\" width=\"900\">"
   ]
  },
  {
   "cell_type": "markdown",
   "metadata": {
    "slideshow": {
     "slide_type": "slide"
    }
   },
   "source": [
    "## Does this color pallete make me look skinny?\n",
    "<img src=\"./assets-1/delaware-and-east-tiles-ndvi.PNG\" width=\"900\">\n",
    "\n",
    "#### more data wrangling and verification of the Tiles"
   ]
  },
  {
   "cell_type": "markdown",
   "metadata": {
    "slideshow": {
     "slide_type": "slide"
    }
   },
   "source": [
    "# Aristotle says\n",
    "\n",
    "### You should definitely get married!\n",
    "\n",
    "- If you chose wisely - you will become a great poet.\n",
    "- If you chose poorly - you will become a philosopher.\n",
    "\n",
    "- I know this has nothing to do with this presentation\n",
    "- I just liked the quote :-)"
   ]
  },
  {
   "cell_type": "markdown",
   "metadata": {
    "slideshow": {
     "slide_type": "slide"
    }
   },
   "source": [
    "# deal with map projections - sinusoidal really?\n",
    "<img src=\"./assets-1/great-skew.jpg\" width=\"600\">"
   ]
  },
  {
   "cell_type": "markdown",
   "metadata": {
    "slideshow": {
     "slide_type": "subslide"
    }
   },
   "source": [
    "<img src=\"./assets-1/imgo.jpg\" width=\"900\">"
   ]
  },
  {
   "cell_type": "markdown",
   "metadata": {
    "slideshow": {
     "slide_type": "slide"
    }
   },
   "source": [
    "# Portals are impressive - but they still bite!\n",
    "<img src=\"./assets-1/lpdaac_data.png\" width=\"700\">"
   ]
  },
  {
   "cell_type": "markdown",
   "metadata": {
    "slideshow": {
     "slide_type": "slide"
    }
   },
   "source": [
    "## Data Wrangling - verify NDVI input - ET loves NDVIs\n",
    "<img src=\"./assets-1/modis-ndvi-day1-day200.png\" width=\"800\">"
   ]
  },
  {
   "cell_type": "markdown",
   "metadata": {
    "slideshow": {
     "slide_type": "slide"
    }
   },
   "source": [
    "### verify precipitation - use Sioux Falls\n",
    "<img src=\"./assets-1/precipitation_sioux_falls_by_way_xarray.PNG\" width=\"700\">"
   ]
  },
  {
   "cell_type": "markdown",
   "metadata": {
    "slideshow": {
     "slide_type": "slide"
    }
   },
   "source": [
    "### Scaling the ET Model\n",
    "- we carved the problem into 10 degree Tiles\n",
    "- that did not help enough - so we carved again into 2 degree Chips\n",
    "- Tiles and Chips - someone should patent those terms.\n",
    "- Oh yeah and we gave away some of this data to our WaterWorld Friends X X\n",
    "<img src=\"./assets-1/steffi_south.PNG\" width=\"900\">"
   ]
  },
  {
   "cell_type": "code",
   "execution_count": null,
   "metadata": {},
   "outputs": [],
   "source": []
  },
  {
   "cell_type": "markdown",
   "metadata": {
    "slideshow": {
     "slide_type": "slide"
    }
   },
   "source": [
    "# Success Filtering\n",
    "- Validate your hypotheses by speaking with real customers.\n",
    "- **Excellence is about making the best decisions - Aristotle**\n",
    "- Efficiency leads to more time for excellent decisions\n",
    "- Finding ideas most people don’t know about, or agree with, is key to being successful."
   ]
  },
  {
   "cell_type": "markdown",
   "metadata": {
    "slideshow": {
     "slide_type": "slide"
    }
   },
   "source": [
    "# day in the life of a scientists\n",
    "- 25% each\n",
    "    - **data wrangling**\n",
    "    - code\n",
    "    - **metawork**\n",
    "    - science"
   ]
  },
  {
   "cell_type": "markdown",
   "metadata": {
    "slideshow": {
     "slide_type": "slide"
    }
   },
   "source": [
    "# goal for the scientist is more like this ...\n",
    "\n",
    "- **70% SCIENCE**\n",
    "- 10% Each\n",
    "    - data wrangling\n",
    "    - code\n",
    "    - metawork"
   ]
  },
  {
   "cell_type": "markdown",
   "metadata": {},
   "source": [
    "http://10.12.68.246/user/butzer/notebooks/opt/etviz/3-panel-dash-boards/3-day3-beyond-pn-interact-just-widgets-and-decorators-cool/99-play-pie-science-tony.ipynb"
   ]
  },
  {
   "cell_type": "markdown",
   "metadata": {
    "slideshow": {
     "slide_type": "slide"
    }
   },
   "source": [
    "# Reduce Data Wrangling\n",
    "- **ARD in the cloud**\n",
    "- COGS\n",
    "- STAC\n",
    "- Develop tools, notebooks and libraries\n",
    "- encourage the use of reusable data\n",
    "- reduce replication"
   ]
  },
  {
   "cell_type": "markdown",
   "metadata": {
    "slideshow": {
     "slide_type": "slide"
    }
   },
   "source": [
    "# Reduce the amount of coding\n",
    "- **zero in on python**\n",
    "- improve the python science libraries\n",
    "    - make them more powerful\n",
    "    - make them cooperate as ecosystems\n",
    "- **Xarray, rasterio - ecosystems -plotting included**\n",
    "    - go between geotiffs and netcdfs - with a single line of code\n",
    "- don't apologise for using command line tools - ex. rio cogeo; rio window/chop\n",
    "- COG\n",
    "- numpy"
   ]
  },
  {
   "cell_type": "markdown",
   "metadata": {
    "slideshow": {
     "slide_type": "slide"
    }
   },
   "source": [
    "# Reduce Metawork\n",
    "> \"Time is money. Remove things that reduce your effectiveness at the job.\" - Tim Ferris\n",
    "- **simple solutions**\n",
    "    - bash versus kubernetes\n",
    "    - MARKDOWN - it works across your project steps.\n",
    "- work from home\n",
    "- communicate using teams \n",
    "- **repeatable technologies**\n",
    "    - git\n",
    "    - docker\n",
    "- agile processes - focus on outcomes and customers\n",
    "    - manage the queue - be careful with estimates - they usually don't work here\n"
   ]
  },
  {
   "cell_type": "markdown",
   "metadata": {
    "slideshow": {
     "slide_type": "slide"
    }
   },
   "source": [
    "# Reduce Metawork Continued\n",
    "- **SELF DOCUMENTING TECHNOLOGIES**\n",
    "    - Makefiles & Dockerfiles\n",
    "    - jupyter\n",
    "    - well written Python code\n",
    "    - git\n",
    "- training sessions with repetition\n",
    "- **Everything as CODE**\n",
    "    - infrastructure\n",
    "    - operations\n",
    "- **don't fear disruptive technologies!**\n",
    "- listen to youtube at 2x speed - waste time efficiently :-)"
   ]
  },
  {
   "cell_type": "markdown",
   "metadata": {
    "slideshow": {
     "slide_type": "slide"
    }
   },
   "source": [
    "# How we got started -- ET incubation\n",
    "1. Attended Pangeo School together\n",
    "2. Open Data Cube and Pangeo are solutions waiting for a problem\n",
    "3. I offered to help scientists use Pangeo and Xarray\n",
    "4. **The ET folks and Sanath from fireScience approached me**\n",
    "    - simple animations and the power of xarray\n",
    "    - had a meeting with the ET stakeholders\n",
    "        - **they had success in the cloud with Google Earth Engine**\n",
    "## they had audacious goals for VegET\n",
    "        "
   ]
  },
  {
   "cell_type": "markdown",
   "metadata": {
    "slideshow": {
     "slide_type": "slide"
    }
   },
   "source": [
    "# Sanath's Fire Animation via Xarray\n",
    "\n",
    "![animate_lake](https://raw.githubusercontent.com/tonybutzer/notebook/master/05-Science-Outreach-Evaporation-Etc/10-Sanath/01-Animation-Exploration/isa.gif)"
   ]
  },
  {
   "cell_type": "markdown",
   "metadata": {
    "slideshow": {
     "slide_type": "slide"
    }
   },
   "source": [
    "# Next Steps\n",
    " 1. Establish a CHS/AWS space for the WaterSMART (Agro-Hydro-Applications) **AHA** Program\n",
    "     - **move from prototype - proof of concept - ET test case**\n",
    "     - move to **production**\n",
    " 2. Optimizations\n",
    "     - Use AWS batch for Mosaic Code - embarrassingly parallel\n",
    "     - wrangle - then optimize for cloud - then exploit the optimizations\n",
    " 3. More XARRAY stuff\n",
    "     - Zarr\n",
    "     - Dask\n"
   ]
  },
  {
   "cell_type": "markdown",
   "metadata": {
    "slideshow": {
     "slide_type": "subslide"
    }
   },
   "source": [
    "# Cont.\n",
    " 4. **Visualization Improvements**\n",
    "     - **plotly/dash - dashboards**\n",
    "         - port University of Colorado phenology dashboard from Heroku to CHS/AWS\n",
    "     - Explore holoviews optimizations\n",
    "     - Other Visualizations\n",
    "     - **voila!**\n",
    " 5. Figure out ARC in the Cloud!\n",
    " 6. **Mitigate the \"Trapped in the Cloud Phenom\"**"
   ]
  },
  {
   "cell_type": "markdown",
   "metadata": {
    "slideshow": {
     "slide_type": "slide"
    }
   },
   "source": [
    "## CASE Studies - Chesapeake Compare lessons learned\n",
    "\n",
    "1. https://support.chs.usgs.gov/display/CHSK/Chesapeake+Bay+Studies+-+Getting+Started+with+Cloud-based+Science\n",
    "```\n",
    "https://support.chs.usgs.gov/display/CHSKB/Chesapeake+Bay+Studies+-+Getting+Started+with+Cloud-based+Science\n",
    "```\n",
    "\n",
    "- Chesapeake Bay Studies investigated how USGS Cloud Hosting Solutions (CHS) could enable more efficient data sharing \n",
    "    - among science teams and provide 21st century science capabilities. \n",
    "    - showed the readiness and support for moving their science to the Cloud. \n",
    "    - **It takes significant effort and planning to adopt the Cloud.**\n",
    "        - **It takes significant effort and planning to adopt the Cloud.**\n",
    "\n"
   ]
  },
  {
   "cell_type": "markdown",
   "metadata": {
    "slideshow": {
     "slide_type": "subslide"
    }
   },
   "source": [
    "- Critical Factors\n",
    "    - identification of a CHS Point of Contact and \n",
    "    - establishing a sustainable Cost Center Cloud account and funding structure.\n",
    "    - **complete buy-in by science team(s)**\n",
    "    - understand access methods\n",
    "    - **ingress and egress methods and cost** [tony]\n",
    "    \n",
    "By far, the majority indicated that they had some skills but **would like more training.**\n",
    "- **we used real time - just in time training for ET**\n",
    "\n",
    "#### - The Cloud offers unbound possibilities but requires thoughtful planning to stay within the available budget resources. \n",
    "### The ET team gets along well and communicates openly and often."
   ]
  },
  {
   "cell_type": "markdown",
   "metadata": {
    "slideshow": {
     "slide_type": "slide"
    }
   },
   "source": [
    "# \"culture eats strategy for breakfast\"\n",
    "\n",
    "- Peter Drucker"
   ]
  },
  {
   "cell_type": "markdown",
   "metadata": {
    "slideshow": {
     "slide_type": "slide"
    }
   },
   "source": [
    "# More Information is Available via:\n",
    "1. **Stefanie Kagone**\n",
    "2. Gabriel Senay\n",
    "3. Tony Butzer"
   ]
  },
  {
   "cell_type": "markdown",
   "metadata": {},
   "source": [
    "http://10.12.68.246/user/butzer/notebooks/opt/etscrum/00-presentation/0--demo-details.ipynb"
   ]
  },
  {
   "cell_type": "code",
   "execution_count": null,
   "metadata": {},
   "outputs": [],
   "source": []
  }
 ],
 "metadata": {
  "celltoolbar": "Slideshow",
  "kernelspec": {
   "display_name": "Python 3",
   "language": "python",
   "name": "python3"
  },
  "language_info": {
   "codemirror_mode": {
    "name": "ipython",
    "version": 3
   },
   "file_extension": ".py",
   "mimetype": "text/x-python",
   "name": "python",
   "nbconvert_exporter": "python",
   "pygments_lexer": "ipython3",
   "version": "3.7.4"
  },
  "name": "_merged"
 },
 "nbformat": 4,
 "nbformat_minor": 2
}
