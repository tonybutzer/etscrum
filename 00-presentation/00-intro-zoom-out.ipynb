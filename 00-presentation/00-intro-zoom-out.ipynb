{
 "cells": [
  {
   "cell_type": "markdown",
   "metadata": {
    "slideshow": {
     "slide_type": "slide"
    }
   },
   "source": [
    "# about me\n",
    "\n",
    "\n",
    "- picture jose here\n",
    "- picture linux here\n",
    "<img src=\"./intro/about-me.PNG\" width=\"800\">"
   ]
  },
  {
   "cell_type": "markdown",
   "metadata": {
    "slideshow": {
     "slide_type": "slide"
    }
   },
   "source": [
    "# I have spent several years:\n",
    "\n",
    "- picture here\n",
    "<img src=\"./intro/linux-is-my-female-dog.PNG\" width=\"800\">\n"
   ]
  },
  {
   "cell_type": "markdown",
   "metadata": {
    "slideshow": {
     "slide_type": "slide"
    }
   },
   "source": [
    "# Even though 2020 has been so great.\n",
    "\n",
    "- picture here\n",
    "<img src=\"./intro/2020-bites.PNG\" width=\"800\">"
   ]
  },
  {
   "cell_type": "markdown",
   "metadata": {
    "slideshow": {
     "slide_type": "slide"
    }
   },
   "source": [
    "# We still need science! -- Science Matters!\n",
    "\n",
    "- picture here\n",
    "<img src=\"./intro/science-matters.PNG\" width=\"800\">"
   ]
  },
  {
   "cell_type": "markdown",
   "metadata": {
    "slideshow": {
     "slide_type": "slide"
    }
   },
   "source": [
    "## In Fact Our Mission is:\n",
    "\n",
    "# To Accelerate Science or make Science less hard.\n",
    "<img src=\"./intro/science-outreach.PNG\" width=\"800\">"
   ]
  },
  {
   "cell_type": "markdown",
   "metadata": {
    "slideshow": {
     "slide_type": "slide"
    }
   },
   "source": [
    "# The Cloud offers lots of promise to make Science easier.\n",
    "\n",
    "<img src=\"./intro/about-me-odc-pangeo.PNG\" width=\"800\">"
   ]
  },
  {
   "cell_type": "markdown",
   "metadata": {
    "slideshow": {
     "slide_type": "slide"
    }
   },
   "source": [
    "# USGS has some PANGEO Initiatives\n",
    "<img src=\"./intro/tan-pangeo.PNG\" width=\"800\">"
   ]
  },
  {
   "cell_type": "markdown",
   "metadata": {
    "slideshow": {
     "slide_type": "slide"
    }
   },
   "source": [
    "# Today we look at the ET case study and how it goes beyond PANGEO.\n",
    "\n",
    "\n",
    "<img src=\"./intro/veg-et-vision.PNG\" width=\"800\">"
   ]
  },
  {
   "cell_type": "markdown",
   "metadata": {
    "slideshow": {
     "slide_type": "slide"
    }
   },
   "source": [
    "# ET has been a global partnership\n",
    "<img src=\"./intro/about-partnerships.PNG\" width=\"800\">"
   ]
  },
  {
   "cell_type": "markdown",
   "metadata": {
    "slideshow": {
     "slide_type": "slide"
    }
   },
   "source": [
    "# We have been working hard on VegET in AWS for a little over 6 Months\n",
    "<img src=\"./intro/oh-no-multitasking-again.PNG\" width=\"800\">\n"
   ]
  },
  {
   "cell_type": "markdown",
   "metadata": {
    "slideshow": {
     "slide_type": "slide"
    }
   },
   "source": [
    "# The cloud allows us to scale computers and Humans\n",
    "<img src=\"./intro/Scale-Man-2.jpg\" width=\"800\">"
   ]
  },
  {
   "cell_type": "markdown",
   "metadata": {
    "slideshow": {
     "slide_type": "slide"
    }
   },
   "source": [
    "# AWS has lots and lots and lots ... of services\n",
    "<img src=\"./intro/aws-all-services-overwhelm.PNG\" width=\"800\">"
   ]
  },
  {
   "cell_type": "markdown",
   "metadata": {
    "slideshow": {
     "slide_type": "slide"
    }
   },
   "source": [
    "# We use just 2:\n",
    "\n",
    "## ---> Compute\n",
    "\n",
    "## ---> Storage"
   ]
  },
  {
   "cell_type": "markdown",
   "metadata": {
    "slideshow": {
     "slide_type": "slide"
    }
   },
   "source": [
    "# This is what our cloud implementation looks like:\n",
    "<img src=\"./intro/model-bucket-impl.PNG\" width=\"800\">"
   ]
  },
  {
   "cell_type": "markdown",
   "metadata": {
    "slideshow": {
     "slide_type": "slide"
    }
   },
   "source": [
    "# Any Drawbacks?\n",
    "### - Yes the data can get stuck in the cloud - Just like in the data centers.\n",
    "<img src=\"./intro/stuck-in-the-cloud.PNG\" width=\"800\">\n"
   ]
  },
  {
   "cell_type": "markdown",
   "metadata": {
    "slideshow": {
     "slide_type": "slide"
    }
   },
   "source": [
    "# But overall its been fantastic fun working in the cloud with Jupyter\n",
    "<img src=\"./intro/sci-tech.PNG\" width=\"800\">\n"
   ]
  },
  {
   "cell_type": "markdown",
   "metadata": {
    "slideshow": {
     "slide_type": "slide"
    }
   },
   "source": [
    "# Ok NOW lets dig a little DEEPER"
   ]
  },
  {
   "cell_type": "code",
   "execution_count": null,
   "metadata": {},
   "outputs": [],
   "source": []
  }
 ],
 "metadata": {
  "celltoolbar": "Slideshow",
  "kernelspec": {
   "display_name": "Python 3",
   "language": "python",
   "name": "python3"
  },
  "language_info": {
   "codemirror_mode": {
    "name": "ipython",
    "version": 3
   },
   "file_extension": ".py",
   "mimetype": "text/x-python",
   "name": "python",
   "nbconvert_exporter": "python",
   "pygments_lexer": "ipython3",
   "version": "3.7.3"
  }
 },
 "nbformat": 4,
 "nbformat_minor": 2
}
