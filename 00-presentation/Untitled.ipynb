{
 "cells": [
  {
   "cell_type": "markdown",
   "metadata": {},
   "source": [
    "# Pete\n",
    "refinement\n",
    "\n",
    "combustion\n",
    "\n",
    "data prep - data wrangling\n",
    "\n",
    "ARD\n",
    "\n",
    "Satelite Data - not limited - to just - should evolve - we are helping evolve that\n",
    "\n",
    "time series\n",
    "\n",
    "should not be that specific\n",
    "\n",
    "atmosheric correction\n",
    "\n",
    "# Crista - Fort Collins\n",
    "\n",
    "NLI - uses - users - case studies\n",
    "\n",
    "non-rival - no cost\n",
    "economic value\n",
    "\n",
    "\n",
    "# Sreeja Nag\n",
    "\n",
    "Soil Monitoring - \n",
    "\n",
    "# Ralph and Fabio"
   ]
  },
  {
   "cell_type": "code",
   "execution_count": null,
   "metadata": {},
   "outputs": [],
   "source": []
  }
 ],
 "metadata": {
  "kernelspec": {
   "display_name": "Python 3",
   "language": "python",
   "name": "python3"
  },
  "language_info": {
   "codemirror_mode": {
    "name": "ipython",
    "version": 3
   },
   "file_extension": ".py",
   "mimetype": "text/x-python",
   "name": "python",
   "nbconvert_exporter": "python",
   "pygments_lexer": "ipython3",
   "version": "3.7.3"
  }
 },
 "nbformat": 4,
 "nbformat_minor": 4
}
