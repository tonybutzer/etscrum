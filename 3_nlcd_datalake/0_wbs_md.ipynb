{
 "cells": [
  {
   "cell_type": "markdown",
   "metadata": {},
   "source": [
    "# Concept\n",
    "\n",
    "## Create a simple eros datalake -- dev-et-data/datalake/nlcd\n",
    "\n",
    "### NLCD as pathfinder First product all/some of the nlcd data\n",
    "\n",
    "- convert using pipeline prototyped by tony and logan\n",
    "- get Olena involved to get experience wrangling data in the cloud\n",
    "- containerize the pipeline and explore doing several wrangles in parallel\n",
    "- Continue cross skill development between Logan and Olena\n",
    "- Pay Kristi Kline back for her help on ET\n",
    "- Learn about NLCD from Brett Bunde and Pat Danielson - material for onboarding Class\n",
    "\n",
    "\n",
    "## Tests\n",
    "\n",
    "1. Practice access with Dinesh and Trenton\n",
    "2. Test cross-account access for Neal\n",
    "3. Speculate on NLCD flows for Steffi ET\n",
    "4. Test access from the cloudHPC\n",
    "\n",
    "\n",
    "## Research Items\n",
    "\n",
    "- How big are the COGs in the data lake\n",
    "-\n",
    "\n",
    "## Expected Outcomes\n",
    "\n",
    "- Push USGS to formalize a larger sponsored data lake for all product outputs EROS creates\n",
    "    - VegET outputs\n",
    "\n",
    "\n",
    "## Prior ART\n",
    "\n"
   ]
  }
 ],
 "metadata": {
  "kernelspec": {
   "display_name": "Python 3",
   "language": "python",
   "name": "python3"
  },
  "language_info": {
   "codemirror_mode": {
    "name": "ipython",
    "version": 3
   },
   "file_extension": ".py",
   "mimetype": "text/x-python",
   "name": "python",
   "nbconvert_exporter": "python",
   "pygments_lexer": "ipython3",
   "version": "3.7.3"
  }
 },
 "nbformat": 4,
 "nbformat_minor": 4
}
