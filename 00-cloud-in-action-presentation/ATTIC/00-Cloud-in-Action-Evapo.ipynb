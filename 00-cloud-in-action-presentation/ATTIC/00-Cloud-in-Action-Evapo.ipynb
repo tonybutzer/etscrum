{
 "cells": [
  {
   "cell_type": "code",
   "execution_count": null,
   "metadata": {},
   "outputs": [],
   "source": [
    "#!conda install -c conda-forge -y rise"
   ]
  },
  {
   "cell_type": "markdown",
   "metadata": {
    "slideshow": {
     "slide_type": "-"
    }
   },
   "source": [
    "https://rise.readthedocs.io/en/stable/installation.html"
   ]
  },
  {
   "cell_type": "markdown",
   "metadata": {
    "slideshow": {
     "slide_type": "slide"
    }
   },
   "source": [
    "# The CHS/AWS Cloud: \n",
    "\n",
    "## A Measurable Game Changer for Evapotranspiration Science!\n",
    "\n",
    "---\n",
    "![](https://media0.giphy.com/media/32dfpYx8kBX1bXSEu8/giphy.gif?cid=ecf05e47bx801kkf9pxlyoyboxxdvmutpc2occhkt30wzo44&rid=giphy.gif&ct=g)"
   ]
  },
  {
   "cell_type": "markdown",
   "metadata": {
    "slideshow": {
     "slide_type": "slide"
    }
   },
   "source": [
    "---\n",
    "Tony Butzer, Cloud Engineer and \n",
    "### Stefanie Kagone of the Earth Research Scientist, \n",
    "#### USGS Earth Resources Observation and Science Center (EROS)\n",
    "---\n",
    "## Cloud in Action! - May 27, 2021"
   ]
  },
  {
   "cell_type": "markdown",
   "metadata": {
    "slideshow": {
     "slide_type": "slide"
    }
   },
   "source": [
    "# Move the scientist to the data\n",
    "<img src=\"./bonus-slides/scientist.PNG\" width=\"200\">\n",
    "<img src=\"./bonus-slides/data-lake.PNG\" width=\"500\">\n",
    "\n"
   ]
  },
  {
   "cell_type": "markdown",
   "metadata": {
    "slideshow": {
     "slide_type": "slide"
    }
   },
   "source": [
    "## Use ARD in the Cloud\n",
    "\n",
    "1. ###  Data that greatly reduces MetaWork and Data Wrangling\n",
    "2. ###  Data that uses an open source powerful ecosystem in a cloud AWS (or GEE)\n",
    "3. ###  Takes advantage of all of the standards below that allow radiometric and geometric fidelity\n",
    "4. ###  Might include non-satellite data for modeling\n",
    "5. ###  Does not absolve you from understanding data providence and upstream processing details\n",
    "6. ###  But it should free you from any grunt work and ugly portals."
   ]
  },
  {
   "cell_type": "markdown",
   "metadata": {
    "slideshow": {
     "slide_type": "slide"
    }
   },
   "source": [
    "# Keep an open mind and jump into a cloud near you.\n",
    "\n",
    "<img src=\"ard/datawrangling_is_real.PNG\" width=1000>"
   ]
  },
  {
   "cell_type": "markdown",
   "metadata": {
    "slideshow": {
     "slide_type": "skip"
    }
   },
   "source": [
    "# Motivation Before and After\n",
    "- panel python package will be a game changer for cloud/Jupyter\n",
    "<img src=\"ard/two-freds.PNG\" window=1200>\n",
    "\n",
    "---\n",
    "http://10.12.68.246/user/butzer/notebooks/opt/etviz/3-panel-dash-boards/3-day3-beyond-pn-interact-just-widgets-and-decorators-cool/99-play-pie-science-tony.ipynb"
   ]
  },
  {
   "cell_type": "markdown",
   "metadata": {
    "slideshow": {
     "slide_type": "slide"
    }
   },
   "source": [
    "# EvapoTranspiration Science needs the CHS/AWS Cloud\n",
    "\n",
    "## Goal for this talk\n",
    "\n",
    "### Report findings from a science project (Case Study) based on STAC, ARD and PANGEO:\n",
    "- Project was wildly successful\n",
    "- Demonstrated a markedly improved environment (compute, storage) for science modeling\n",
    "- Demonstrates the need for more and better ARD.  And the need more cloud available datasets as COGs\n",
    "\n",
    "\n",
    "#### This is a Jupyter Presentation - all open source - no windows/mac boxes were injured during the filming of this project.\n",
    "\n",
    "#### Jupyter - \"immerse yourself\"\n"
   ]
  },
  {
   "cell_type": "markdown",
   "metadata": {
    "slideshow": {
     "slide_type": "slide"
    }
   },
   "source": [
    "# c1 - Ryan Abernathey is RIGHT about data lakes and Pangeo\n",
    "\n",
    "#### The Future of Data-driven Discovery in the Cloud - Ryan Abernathey (Columbia University)\n",
    "<img src=\"./ard/abernathey-is-right.PNG\" width=\"1000\">"
   ]
  },
  {
   "cell_type": "markdown",
   "metadata": {
    "slideshow": {
     "slide_type": "slide"
    }
   },
   "source": [
    "# c2 -  Chris Holmes is RIGHT about no more portals and about COGs\n",
    "\n",
    "### The State of SpatioTemporal Asset Catalogs (Sprint #3)--Chris Holmes\n",
    "- lots of people already exploiting COGS and STAC\n",
    "\n",
    "<img src=\"./ard/chris-holmes-is-right.PNG\" width=\"1000\">"
   ]
  },
  {
   "cell_type": "markdown",
   "metadata": {
    "slideshow": {
     "slide_type": "skip"
    }
   },
   "source": [
    "---\n",
    "\n",
    "# c4 - Pangeo plus ARD COGs **IS THE WAY** to do Science!\n",
    "\n",
    "---"
   ]
  },
  {
   "cell_type": "markdown",
   "metadata": {
    "slideshow": {
     "slide_type": "slide"
    }
   },
   "source": [
    "---\n",
    "\n",
    "# c5 - Pangeo plus ARD as S3 COGs **IS THE WAY** to do Science!\n",
    "\n",
    "---"
   ]
  },
  {
   "cell_type": "markdown",
   "metadata": {
    "slideshow": {
     "slide_type": "slide"
    }
   },
   "source": [
    "## Overview\n",
    "### Key Technologies that Allow Scaling\n",
    "- ## *AWS Cloud*\n",
    "- #### Linux/Terraform\n",
    "- #### Docker\n",
    "- ## *Jupyter*\n",
    "- #### PANGEO, Open Data Cube and The BROWSER\n",
    "- #### Python and github"
   ]
  },
  {
   "cell_type": "markdown",
   "metadata": {
    "slideshow": {
     "slide_type": "skip"
    }
   },
   "source": [
    "# Evaporation and Transpiration in The Cloud\n",
    "\n",
    "- ### What?\n",
    "- ### Why?\n",
    "- ### How? ( Philosophy and Guiding Principles)\n",
    "- ### Who?"
   ]
  },
  {
   "cell_type": "markdown",
   "metadata": {
    "slideshow": {
     "slide_type": "skip"
    }
   },
   "source": [
    "## Practical Example/Case Study of Derived Data \n",
    "#### ET Products\n",
    "\n",
    "#### ET Inputs; ET Processing; ET Outputs\n",
    "\n",
    "### Data Storage\n",
    "- Strategy\n",
    "- Costs\n",
    "\n",
    "### Compute\n",
    "- Strategy\n",
    "- Costs\n",
    "\n",
    "#### What's Next? -- Remaining Work"
   ]
  },
  {
   "cell_type": "markdown",
   "metadata": {
    "slideshow": {
     "slide_type": "skip"
    }
   },
   "source": [
    "# Above is the outline for the talk \n",
    "\n",
    "## We have 15 Minutes \n",
    "---\n",
    " \n",
    "<img src=\"./ard/mission-impossible.PNG\" width=\"400\">\n",
    "\n",
    "---\n",
    "### Mission impossible theme\n",
    "#### Dun dun duhdun ...."
   ]
  },
  {
   "cell_type": "markdown",
   "metadata": {
    "slideshow": {
     "slide_type": "slide"
    }
   },
   "source": [
    "# Typical on-prem 'pet' based architecture\n",
    "<img src=\"https://images.cdn.circlesix.co/image/1/1000/0/uploads/posts/2017/09/8207638ebb3fbfc5cccdb4603c1038fc.jpeg\" width=\"100\">\n",
    "\n",
    "---\n",
    "<img src=\"ard/typical-on-prem-arch.PNG\" width=\"1200\">\n"
   ]
  },
  {
   "cell_type": "markdown",
   "metadata": {
    "slideshow": {
     "slide_type": "slide"
    }
   },
   "source": [
    "# Our Cloud Based Architecture \n",
    "- every tool here is a diamond! \n",
    "- We tried to use as few AWS specific services as possible.\n",
    "---\n",
    "<img src=\"https://prd-wret.s3.us-west-2.amazonaws.com/assets/palladium/production/s3fs-public/styles/landing_page_custom_blocks/public/thumbnails/image/landsat8_pho_2013042_close_lrg.jpg\" width=\"200\">\n",
    "\n",
    "<img src=\"ard/new-arch.PNG\" width=1200>\n",
    "\n",
    "\n",
    "\n"
   ]
  },
  {
   "cell_type": "markdown",
   "metadata": {
    "slideshow": {
     "slide_type": "skip"
    }
   },
   "source": [
    "# From where I began\n",
    "<img src=\"https://images.unsplash.com/photo-1525786779587-4ad49fc545fe?ixlib=rb-1.2.1&ixid=eyJhcHBfaWQiOjEyMDd9&auto=format&fit=crop&w=600&q=60\" width=100>\n",
    "<img src=\"ard/cdc6600.PNG\" width=600>"
   ]
  },
  {
   "cell_type": "markdown",
   "metadata": {
    "slideshow": {
     "slide_type": "skip"
    }
   },
   "source": [
    "## Key Technologies that Allow Scaling\n",
    "- ## AWS Cloud - (Pictures Below)\n",
    "## S3 - Simple Scalable Storage - Its also Ubiquitous or Omnipresent\n",
    "- ### So many AWS ways to scale compute - so little time.\n",
    "- ### we use **bash shell scripts and docker containers** - today\n",
    "        - baby steps\n",
    "---"
   ]
  },
  {
   "cell_type": "markdown",
   "metadata": {
    "slideshow": {
     "slide_type": "slide"
    }
   },
   "source": [
    "- ### Jupyter - Really immerse yourself\n",
    "    - Very Easy to setup for an individual or even a group of scientists\n",
    "    - Does Many Things\n",
    "        - Python simple IDE\n",
    "        - Can do simple Presentations - **LIKE THIS ONE**\n",
    "        - Easy to Share\n",
    "        - and Now ... drumroll please .... . . . \n",
    "# Jupyter builds web deployable dashboards"
   ]
  },
  {
   "cell_type": "markdown",
   "metadata": {
    "slideshow": {
     "slide_type": "slide"
    }
   },
   "source": [
    "---\n",
    "## Many exciting and competing dashboard python packages\n",
    "\n",
    "### for use via Jupyter:\n",
    "- ### Panel \n",
    "- Voila\n",
    "- Plotly Dash\n",
    "- Panel package\n",
    "    - DashBoards created in minutes\n",
    "    - **Builds web apps/sites even your Jupyter hating mom will love**"
   ]
  },
  {
   "cell_type": "markdown",
   "metadata": {
    "slideshow": {
     "slide_type": "slide"
    }
   },
   "source": [
    "# What\n",
    "## Evaporation and Transpiration in The Cloud\n",
    "\n",
    "---\n",
    "<img src=\"./ard/evapotranspiration.PNG\" width=\"300\">\n",
    "\n",
    "---\n",
    "\n",
    "### Affects Water Balance ok -- so its important stuff"
   ]
  },
  {
   "cell_type": "markdown",
   "metadata": {
    "slideshow": {
     "slide_type": "slide"
    }
   },
   "source": [
    "# Business Why? -- Affects people and precious water resources\n",
    "<img src=\"./ard/drb-welcome-to-thedelaware-river.PNG\" width=\"1200\">"
   ]
  },
  {
   "cell_type": "markdown",
   "metadata": {
    "slideshow": {
     "slide_type": "slide"
    }
   },
   "source": [
    "# Technical Why? -- These methods allow us to scale human capabilities\n",
    "\n",
    "---\n",
    "<img src=\"./intro/Scale-Man-2.jpg\" width=\"800\">\n",
    "\n",
    "---"
   ]
  },
  {
   "cell_type": "markdown",
   "metadata": {
    "slideshow": {
     "slide_type": "slide"
    }
   },
   "source": [
    "## Strategy/How?\n",
    "\n",
    "- ## In short - we used Pangeo and our outputs are COGs\n",
    "- ### Total IMMERSIVE approach - our team SHALL use only the cloud and open source python packages.\n",
    "- ### Half way home to having our **DERIVED PRODUCT** data be considered ARD or MRD\n",
    "\n",
    "### Instead of smoke and mirrors\n",
    "- ## We used GITHUB and TEXT\n",
    "---"
   ]
  },
  {
   "cell_type": "markdown",
   "metadata": {
    "slideshow": {
     "slide_type": "skip"
    }
   },
   "source": [
    "---\n",
    "- lean agile philosophy\n",
    "    - allows us to scale\n",
    "    - avoid Yaks and Yak Shaving\n",
    "    - lean how -- very few technical items - s3[0], ec-2[0], docker, jupyter, python\n",
    "- lots of old dog tricks to scale humans\n",
    "- immersive strategy - live in the clouds\n",
    "- ### consistent, just in time training for the scientists\n",
    "    - lots of jupyter sessions \n",
    "        - with git for memory enhancement \n",
    "        - and code plus outputs for mental stickiness.\n",
    "- open source approach \n",
    "    - eliminate all proprietary code\n",
    "    - insulate AWS cloud dependencies - cloud agnostic"
   ]
  },
  {
   "cell_type": "markdown",
   "metadata": {
    "slideshow": {
     "slide_type": "slide"
    }
   },
   "source": [
    "## How Scaling\n",
    "- ### This is really a whole separate talk. The short answer ...\n",
    "\n",
    "### DOCKER! <img src=\"https://www.docker.com/sites/default/files/d8/styles/role_icon/public/2019-07/Moby-logo.png?itok=sYH_JEaJ\" width=\"100\">\n",
    "\n",
    "---"
   ]
  },
  {
   "cell_type": "markdown",
   "metadata": {
    "slideshow": {
     "slide_type": "slide"
    }
   },
   "source": [
    "## Tiles and Chips\n",
    "- carve the problem into 10 degree tiles and 2 degree chips\n",
    "    - 25 chips equals 25 docker containers equals one 10 degree tile\n",
    "---\n",
    "<img src=\"./assets-1/steffi_south.PNG\" width=\"500\">\n",
    "\n",
    "---\n",
    "- then we glue them back together with \n",
    "    - ## xarray merge\n",
    "    - ### this code is all in github"
   ]
  },
  {
   "cell_type": "markdown",
   "metadata": {
    "slideshow": {
     "slide_type": "slide"
    }
   },
   "source": [
    "# Monitoring Costs and Keeping them in our face\n",
    "\n",
    "## pinstance costs\n",
    "### 'costs', 'all things are relative')\n",
    "```\n",
    "ubuntu@ip-10-12-68-236:~$ pinstance costs\n",
    "('costs', 'all things are relative')\n",
    "['awsprice.py', 'butzer']\n",
    "butzer\n",
    "     state                     name            ip       i_type  monthly_cost\n",
    "0  running  butzer-et-mini-pangeo-0  10.12.68.246  t3a.2xlarge       219.584\n",
    "1  running        butzer-bigsship-0   10.12.69.45  m5a.4xlarge       502.240\n",
    "2  running       butzer-tendollar-a  10.12.68.236     t2.micro         8.468\n",
    "3  running          butzer-mosaic-a   10.12.69.95  m5a.2xlarge       251.120\n",
    "==========================================================================================\n",
    "==========================================================================================\n",
    "     state                     name            ip       i_type  monthly_cost\n",
    "0  running  butzer-et-mini-pangeo-0  10.12.68.246  t3a.2xlarge       219.584\n",
    "1  running        butzer-bigsship-0   10.12.69.45  m5a.4xlarge       502.240\n",
    "2  running       butzer-tendollar-a  10.12.68.236     t2.micro         8.468\n",
    "3  running          butzer-mosaic-a   10.12.69.95  m5a.2xlarge       251.120\n",
    "========================================================================================================================\n",
    "========================================================================================================================\n"
   ]
  },
  {
   "cell_type": "markdown",
   "metadata": {
    "slideshow": {
     "slide_type": "slide"
    }
   },
   "source": [
    "```\n",
    "ubuntu@ip-10-12-69-95:~$ docker ps\n",
    "CONTAINER ID   IMAGE                        COMMAND                  CREATED        STATUS        PORTS     NAMES\n",
    "a3acf9bbaa23   tbutzer/r50.0_tile6_051321   \"python3 api_veget.p…\"   19 hours ago   Up 19 hours             peaceful_mestorf\n",
    "8567cdac6b14   tbutzer/r50.0_tile6_051321   \"python3 api_veget.p…\"   19 hours ago   Up 19 hours             recursing_cannon\n",
    "dcb2f4f30cf5   tbutzer/r50.0_tile6_051321   \"python3 api_veget.p…\"   19 hours ago   Up 19 hours             brave_hawking\n",
    "c951776e3ccb   tbutzer/r50.0_tile6_051321   \"python3 api_veget.p…\"   19 hours ago   Up 19 hours             relaxed_hermann\n",
    "4149a2217300   tbutzer/r50.0_tile6_051321   \"python3 api_veget.p…\"   19 hours ago   Up 19 hours             flamboyant_maxwell\n",
    "6a28c9feb2c3   tbutzer/r50.0_tile6_051321   \"python3 api_veget.p…\"   19 hours ago   Up 19 hours             sleepy_jones\n",
    "b9f88d39c060   tbutzer/r50.0_tile6_051321   \"python3 api_veget.p…\"   19 hours ago   Up 19 hours             gifted_mcnulty\n",
    "471fb7492a68   tbutzer/r50.0_tile6_051321   \"python3 api_veget.p…\"   19 hours ago   Up 19 hours             tender_volhard\n",
    "441e3c69502c   tbutzer/r50.0_tile6_051321   \"python3 api_veget.p…\"   19 hours ago   Up 19 hours             suspicious_robinson\n",
    "4736abaadbd8   tbutzer/r50.0_tile6_051321   \"python3 api_veget.p…\"   19 hours ago   Up 19 hours             elegant_saha\n",
    "e7c37657f2bd   tbutzer/r50.0_tile6_051321   \"python3 api_veget.p…\"   19 hours ago   Up 19 hours             eager_poitras\n",
    "7785d10eb480   tbutzer/r50.0_tile6_051321   \"python3 api_veget.p…\"   19 hours ago   Up 19 hours             interesting_faraday\n",
    "c05206cdc808   tbutzer/r50.0_tile6_051321   \"python3 api_veget.p…\"   19 hours ago   Up 19 hours             pensive_sutherland\n",
    "369b009f6fd6   tbutzer/r50.0_tile6_051321   \"python3 api_veget.p…\"   19 hours ago   Up 19 hours             busy_pare\n",
    "3fbab2eac6de   tbutzer/r50.0_tile6_051321   \"python3 api_veget.p…\"   19 hours ago   Up 19 hours             ecstatic_hertz\n",
    "901d912f1897   tbutzer/r50.0_tile6_051321   \"python3 api_veget.p…\"   19 hours ago   Up 19 hours             lucid_antonelli\n",
    "4914a81ffbdf   tbutzer/r50.0_tile6_051321   \"python3 api_veget.p…\"   19 hours ago   Up 19 hours             elastic_liskov\n",
    "70b5299a4ccd   tbutzer/r50.0_tile6_051321   \"python3 api_veget.p…\"   19 hours ago   Up 19 hours             pedantic_jackson\n",
    "a5b6183462c7   tbutzer/r50.0_tile6_051321   \"python3 api_veget.p…\"   19 hours ago   Up 19 hours             frosty_lewin\n",
    "a942441e4831   tbutzer/r50.0_tile6_051321   \"python3 api_veget.p…\"   19 hours ago   Up 19 hours             jovial_germain\n",
    "bf182a6cae6e   tbutzer/r50.0_tile6_051321   \"python3 api_veget.p…\"   19 hours ago   Up 19 hours             vibrant_kapitsa\n",
    "92ca3d5f4481   tbutzer/r50.0_tile6_051321   \"python3 api_veget.p…\"   19 hours ago   Up 19 hours             nostalgic_saha\n",
    "6cee2564ace2   tbutzer/r50.0_tile6_051321   \"python3 api_veget.p…\"   19 hours ago   Up 19 hours             charming_newton\n",
    "de81e8494d6d   tbutzer/r50.0_tile6_051321   \"python3 api_veget.p…\"   19 hours ago   Up 19 hours             optimistic_bohr\n",
    "05170e1e0455   tbutzer/r50.0_tile6_051321   \"python3 api_veget.p…\"   19 hours ago   Up 19 hours             inspiring_montalcini\n"
   ]
  },
  {
   "cell_type": "markdown",
   "metadata": {
    "slideshow": {
     "slide_type": "slide"
    }
   },
   "source": [
    "## Who?\n",
    "\n",
    "1. ### Stefanie Kagone - VegET Scientist\n",
    "2. Gabriel Senay - Physical Scientist\n",
    "3. Gabe Parrish - Python prototyper\n",
    "4. Partners from Universities and the ODC folks\n",
    "<img src=\"./intro/about-partnerships.PNG\" width=\"600\">"
   ]
  },
  {
   "cell_type": "markdown",
   "metadata": {
    "slideshow": {
     "slide_type": "slide"
    }
   },
   "source": [
    "## What does this have to do with ARD?\n",
    "### ARD here means data ready for our model - model ready data MRD\n",
    "#### A whole bunch actually, we plan to consume available ARD/CARD4L\n",
    "- Landsat Collection-2\n",
    "- Modis NDVI\n",
    "- [OTHER,]\n",
    "---\n",
    "#### We also plan to produce ARD for downstream modelers\n",
    "- All of our products to be staged in AWS\n",
    "    - COGS\n",
    "    - with a STAC catalog - we may need to phone a friend.\n",
    "- We may partner with someone to create Climatology ARD\n",
    "- or -- We may just produce this on the fly to save storage costs\n",
    "---\n",
    "#### We also want to allow take home data cubes  \n",
    "- spatial temporal AOI based data cubes of ET"
   ]
  },
  {
   "cell_type": "markdown",
   "metadata": {
    "slideshow": {
     "slide_type": "slide"
    }
   },
   "source": [
    "## Practical Example/Case Study of Derived Data "
   ]
  },
  {
   "cell_type": "markdown",
   "metadata": {
    "slideshow": {
     "slide_type": "slide"
    }
   },
   "source": [
    "### ET Products - take data and produce information\n",
    "<img src=\"./ard/input-outputs-pretty-plots.PNG\" width=\"1300\">"
   ]
  },
  {
   "cell_type": "markdown",
   "metadata": {
    "slideshow": {
     "slide_type": "skip"
    }
   },
   "source": [
    "### ET Inputs and Canonical Sources - still portal based :-(\n",
    "<img src=\"./ard/input-data-list.PNG\" width=\"1400\">\n"
   ]
  },
  {
   "cell_type": "markdown",
   "metadata": {
    "slideshow": {
     "slide_type": "skip"
    }
   },
   "source": [
    "<img src=\"assets-1/model-processing-flow.PNG\" width=1200>"
   ]
  },
  {
   "cell_type": "markdown",
   "metadata": {
    "slideshow": {
     "slide_type": "slide"
    }
   },
   "source": [
    "### ET Processing \n",
    "\n",
    "#### in the AWS Cloud\n",
    "<img src=\"./ard/model-implementation-cartoon.PNG\" width=\"1200\">"
   ]
  },
  {
   "cell_type": "markdown",
   "metadata": {
    "slideshow": {
     "slide_type": "slide"
    }
   },
   "source": [
    "### ET Outputs\n",
    "<img src=\"./ard/eta-2000-2016.PNG\" width=\"1400\">\n"
   ]
  },
  {
   "cell_type": "markdown",
   "metadata": {
    "slideshow": {
     "slide_type": "skip"
    }
   },
   "source": [
    "<img src=\"./ard/landcover-over-drb.PNG\" width=\"900\">"
   ]
  },
  {
   "cell_type": "markdown",
   "metadata": {
    "slideshow": {
     "slide_type": "skip"
    }
   },
   "source": [
    "### Data Storage = \"et-data\"\n",
    "\n",
    "<img src=\"https://www.toucaned.com/ART/Animation/buckets.gif\" width=\"70\">\n",
    "\n",
    "#### Area :: Delaware River Basin\n",
    "#### Two Major Model Runs\n",
    "- DRB Model for Ward Sanford - 2000-2020\n",
    "    - 20 Hours in the cloud - One Month on-prem\n",
    "- DRB Model for Gabriel Senay 1950-2100 -- \n",
    "- ## 150 year model in 3 days\n",
    "    - 3 Days in the cloud - never attempted on-prem - estimate 7 months"
   ]
  },
  {
   "cell_type": "markdown",
   "metadata": {
    "slideshow": {
     "slide_type": "skip"
    }
   },
   "source": [
    "#### Strategy\n",
    "- a single bucket :: et-data\n",
    "- PRE -- prefixes\n",
    "    - in - our Input ARD - precip, soil, NDVI...\n",
    "    - out - working storage 16 million geotiffs\n",
    "    - enduser - COGS (daily, monthly and annual) 500,000 geotiffs - for just 2 models only\n",
    "\n",
    "#### Costs (monthly)\n",
    "- in :: $430/month\n",
    "\n",
    "- out :: $1300/month  # we can nuke these\n",
    "\n",
    "- enduser - $38/month  COGs \n",
    "\n",
    "<img src=\"https://www.toucaned.com/ART/Animation/buckets.gif\" width=\"70\">"
   ]
  },
  {
   "cell_type": "markdown",
   "metadata": {
    "slideshow": {
     "slide_type": "slide"
    }
   },
   "source": [
    "### Compute - t3a-2xlarge\n",
    "#### Strategy\n",
    "- ### ONE single AWS ec-2 instance -- t3a-2xlarge\n",
    "    - does everything for the project \n",
    "    - ## Everything!\n",
    "    - 8 cpus (AMD)\n",
    "    - 31 GBytes memory\n",
    "    - 150 GBytes local disk\n",
    "    \n",
    "#### Costs\n",
    "- $200 / Month "
   ]
  },
  {
   "cell_type": "markdown",
   "metadata": {
    "slideshow": {
     "slide_type": "skip"
    }
   },
   "source": [
    "# Where is my server? -- Boardman Oregon?\n",
    "---\n",
    "<img src=\"./assets-1/50-cloud-boardman-oregon-aws.PNG\" width=\"1200\">\n",
    "\n",
    "---"
   ]
  },
  {
   "cell_type": "markdown",
   "metadata": {
    "slideshow": {
     "slide_type": "skip"
    }
   },
   "source": [
    "# Where is my server?\n",
    "---\n",
    "<img src=\"./assets-1/50-cloud-data-center-guts.PNG\" width=\"1200\">\n",
    "\n",
    "---"
   ]
  },
  {
   "cell_type": "markdown",
   "metadata": {
    "slideshow": {
     "slide_type": "slide"
    }
   },
   "source": [
    "# pick Oregon and us-west-2 - cheaper in the west\n",
    "## It is also WHERE the ARD GOLD is.\n",
    "---\n",
    "<img src=\"./assets-1/50-cloud-region-cost-variances.PNG\" width=\"800\">\n",
    "\n",
    "---"
   ]
  },
  {
   "cell_type": "markdown",
   "metadata": {
    "slideshow": {
     "slide_type": "slide"
    }
   },
   "source": [
    "# Where are my assets?\n",
    "### Makefiles and Dockerfiles\n",
    "<img src=\"https://github.githubassets.com/images/modules/logos_page/GitHub-Mark.png\" width=\"400\">\n",
    "\n",
    "<img src=\"https://github.githubassets.com/images/modules/logos_page/GitHub-Logo.png\" width=\"400\">\n",
    "\n"
   ]
  },
  {
   "cell_type": "markdown",
   "metadata": {
    "slideshow": {
     "slide_type": "slide"
    }
   },
   "source": [
    "## What's Next -- Remaining Work\n",
    "\n",
    "### Visualization Dashboards\n",
    "- examples - take a python-jupyter detour with me\n",
    "    - pie chart\n",
    "    - ET Annual Explorer\n",
    "- notional\n",
    "    - Scott Henderson's - animations using COGS, Overview based VRTs and widgets\n",
    "    - HUC12 basin summary data\n",
    "    - Annual Map Products\n",
    "    - Gabriel Senay defined outputs on demand\n",
    "    "
   ]
  },
  {
   "cell_type": "markdown",
   "metadata": {
    "slideshow": {
     "slide_type": "slide"
    }
   },
   "source": [
    "    \n",
    "## Now we need STAC -- because:\n",
    "<img src=\"./ard/now-we-need-stac.PNG\" width=\"600\">\n",
    "\n",
    "---\n",
    "- ## 8 Million tifs - 20 terabytes - just one model - Ouch!\n",
    "---\n",
    "- #### aws s3 ls --human --recursive --summary s3://et-data/out/DRB150Year\n",
    "    - ## Took over one HOUR to run\n",
    "---"
   ]
  },
  {
   "cell_type": "markdown",
   "metadata": {
    "slideshow": {
     "slide_type": "skip"
    }
   },
   "source": [
    "## Cost Containment Strategies\n",
    "- Glacier\n",
    "- int/integer data plus scaling factor ':-)' - instead of 64 bit floats\n",
    "- automated hierarchical storage \n",
    "- Reserved instances\n",
    "- Spot instances\n",
    "- Find ways to easily estimate and track costs - above example"
   ]
  },
  {
   "cell_type": "markdown",
   "metadata": {
    "slideshow": {
     "slide_type": "skip"
    }
   },
   "source": [
    "### Customer self-service websites\n",
    "- Jekyll or sphinx based web site\n",
    "\n",
    "### Production Routine Processing - forward processing\n",
    "- Dashboard based docker orchestration operator console\n",
    "- Checkpointing and restart capabilities\n",
    "- ### maybe -- Exploit pipeline approach used by Matthew Hanson"
   ]
  },
  {
   "cell_type": "markdown",
   "metadata": {
    "slideshow": {
     "slide_type": "skip"
    }
   },
   "source": [
    "### Variable Resolution\n",
    "- Modis at 250 meters\n",
    "- Landsat at 30 meters\n",
    "\n",
    "### Expand Geographically\n",
    "- #### North America\n",
    "- #### The Globe\n",
    "\n",
    "### VegET is now Complete in AWS \n",
    "- #### what about AWS based SSEBop\n",
    "\n",
    "## The Model is great for most areas\n",
    "### Add AI/ML/DL for refining the hard areas - Mountains, Deserts, etc"
   ]
  },
  {
   "cell_type": "markdown",
   "metadata": {
    "slideshow": {
     "slide_type": "slide"
    }
   },
   "source": [
    "# Promote the PANGEO Vision in practical ways\n",
    "- ## Training and seminars - Science Outreach\n",
    "- ## encourage -- More real world implementations"
   ]
  },
  {
   "cell_type": "markdown",
   "metadata": {
    "slideshow": {
     "slide_type": "skip"
    }
   },
   "source": [
    "### Cloud Interoperability Google Earth Engine and AWS"
   ]
  },
  {
   "cell_type": "markdown",
   "metadata": {
    "slideshow": {
     "slide_type": "slide"
    }
   },
   "source": [
    "### Evaporation and Transpiration in:\n",
    "\n",
    "# The PANGEO/ARD Cloud - \n",
    "\n",
    "- ## A Better way to do Science!\n",
    "\n",
    "    - tony butzer\n",
    "    - tonybutzer@gmail.com\n",
    "    \n",
    "    \n",
    "    \n",
    "http://10.12.68.246/user/butzer/notebooks/opt/etviz/3-panel-dash-boards/3-day3-beyond-pn-interact-just-widgets-and-decorators-cool/99-play-pie-science-tony.ipynb"
   ]
  },
  {
   "cell_type": "markdown",
   "metadata": {
    "slideshow": {
     "slide_type": "skip"
    }
   },
   "source": [
    "# Demo Time\n",
    "\n",
    "<img src=\"./ard/demo-time.PNG\" width=\"800\">\n"
   ]
  },
  {
   "cell_type": "markdown",
   "metadata": {
    "slideshow": {
     "slide_type": "skip"
    }
   },
   "source": [
    "# Concept of Operations - sketch\n",
    "<img src=\"assets-1/01-et-infra-cartoon.png\" width=1100>"
   ]
  },
  {
   "cell_type": "markdown",
   "metadata": {
    "slideshow": {
     "slide_type": "slide"
    }
   },
   "source": [
    "<img src=\"./bonus-slides/et-viewer-non-trap.PNG\" width=\"1500\">"
   ]
  },
  {
   "cell_type": "markdown",
   "metadata": {
    "slideshow": {
     "slide_type": "slide"
    }
   },
   "source": [
    "http://10.12.68.246/user/butzer/notebooks/opt/etviz/3-panel-dash-boards/2-day2-simple-ET-image-viewer/98-hvplot-experiment-image-annual-et-viewer-crude-Copy1.ipynb"
   ]
  },
  {
   "cell_type": "markdown",
   "metadata": {
    "slideshow": {
     "slide_type": "skip"
    }
   },
   "source": [
    "# Sanath's Fire Animation via Xarray\n",
    "\n",
    "![animate_lake](https://raw.githubusercontent.com/tonybutzer/notebook/master/05-Science-Outreach-Evaporation-Etc/10-Sanath/01-Animation-Exploration/isa.gif)"
   ]
  },
  {
   "cell_type": "markdown",
   "metadata": {
    "slideshow": {
     "slide_type": "slide"
    }
   },
   "source": [
    "# \"culture eats strategy for breakfast\"\n",
    "\n",
    "- Peter Drucker\n"
   ]
  },
  {
   "cell_type": "markdown",
   "metadata": {
    "slideshow": {
     "slide_type": "skip"
    }
   },
   "source": [
    "### verify precipitation - use Sioux Falls\n",
    "<img src=\"./assets-1/precipitation_sioux_falls_by_way_xarray.PNG\" width=\"700\">"
   ]
  },
  {
   "cell_type": "markdown",
   "metadata": {
    "slideshow": {
     "slide_type": "skip"
    }
   },
   "source": [
    "## Data Wrangling - verify NDVI input - ET loves NDVIs\n",
    "<img src=\"./assets-1/modis-ndvi-day1-day200.png\" width=\"800\">"
   ]
  },
  {
   "cell_type": "markdown",
   "metadata": {
    "slideshow": {
     "slide_type": "skip"
    }
   },
   "source": [
    "# deal with map projections - sinusoidal really?\n",
    "<img src=\"./assets-1/great-skew.jpg\" width=\"600\">"
   ]
  },
  {
   "cell_type": "code",
   "execution_count": null,
   "metadata": {},
   "outputs": [],
   "source": []
  }
 ],
 "metadata": {
  "kernelspec": {
   "display_name": "Python 3",
   "language": "python",
   "name": "python3"
  },
  "language_info": {
   "codemirror_mode": {
    "name": "ipython",
    "version": 3
   },
   "file_extension": ".py",
   "mimetype": "text/x-python",
   "name": "python",
   "nbconvert_exporter": "python",
   "pygments_lexer": "ipython3",
   "version": "3.7.10"
  }
 },
 "nbformat": 4,
 "nbformat_minor": 4
}
