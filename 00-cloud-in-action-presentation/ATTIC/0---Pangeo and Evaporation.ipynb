{
 "cells": [
  {
   "cell_type": "markdown",
   "metadata": {
    "slideshow": {
     "slide_type": "slide"
    }
   },
   "source": [
    "# Pangeo and Evaporation - what i did on my summer vacation\n",
    "\n",
    "- ## A practice of minimalism and essentialism\n",
    "\n",
    "- ### These facts are true as far as I remember anyway.\n",
    "\n",
    "## ARD20 - November 6, 2020\n",
    "\n",
    "- tony butzer (KBR)\n",
    "\n",
    "\n"
   ]
  },
  {
   "attachments": {},
   "cell_type": "markdown",
   "metadata": {
    "slideshow": {
     "slide_type": "slide"
    }
   },
   "source": [
    "# Take this one PANGEO course it will change your Life!\n",
    "\n",
    "<img src=\"./ard/renee.PNG\" width=\"1200\">"
   ]
  },
  {
   "cell_type": "markdown",
   "metadata": {
    "slideshow": {
     "slide_type": "slide"
    }
   },
   "source": [
    "# Skeptical ?\n",
    "\n",
    "\n",
    "<img src=\"./ard/trump.PNG\" width=\"1200\">"
   ]
  },
  {
   "cell_type": "markdown",
   "metadata": {
    "slideshow": {
     "slide_type": "slide"
    }
   },
   "source": [
    "# c1 - Ryan Abernathey is RIGHT about data lakes and Pangeo\n",
    "\n",
    "#### The Future of Data-driven Discovery in the Cloud - Ryan Abernathey (Columbia University)\n",
    "<img src=\"./ard/abernathey-is-right.PNG\" width=\"1000\">"
   ]
  },
  {
   "cell_type": "markdown",
   "metadata": {
    "slideshow": {
     "slide_type": "slide"
    }
   },
   "source": [
    "# c2 -  Chris Holmes is RIGHT about no more portals and about COGs\n",
    "\n",
    "### The State of SpatioTemporal Asset Catalogs (Sprint #3)--Chris Holmes\n",
    "- lots of people already exploiting COGS and STAC\n",
    "\n",
    "<img src=\"./ard/chris-holmes-is-right.PNG\" width=\"1000\">"
   ]
  },
  {
   "cell_type": "markdown",
   "metadata": {
    "slideshow": {
     "slide_type": "slide"
    }
   },
   "source": [
    "# So I asked anyone want to do PANGEO, XARRAY science timeseries in The cloud?\n",
    "\n",
    "- ## In hindsight this was a very stupid question!"
   ]
  },
  {
   "cell_type": "markdown",
   "metadata": {
    "slideshow": {
     "slide_type": "slide"
    }
   },
   "source": [
    "## Who?\n",
    "\n",
    "1. ### Stefanie Kagone - VegET Scientist\n",
    "2. Gabriel Senay - Physical Scientist\n",
    "3. Gabe Parrish - Python prototyper\n",
    "4. Partners from Universities and the ODC folks\n",
    "<img src=\"./intro/about-partnerships.PNG\" width=\"600\">"
   ]
  },
  {
   "cell_type": "markdown",
   "metadata": {
    "slideshow": {
     "slide_type": "slide"
    }
   },
   "source": [
    "### ET Products - take data and produce information\n",
    "<img src=\"./ard/input-outputs-pretty-plots.PNG\" width=\"1300\">"
   ]
  },
  {
   "cell_type": "markdown",
   "metadata": {
    "slideshow": {
     "slide_type": "slide"
    }
   },
   "source": [
    "# Keep an open mind and jump into a cloud near you.\n",
    "\n",
    "<img src=\"ard/datawrangling_is_real.PNG\" width=1000>"
   ]
  },
  {
   "cell_type": "markdown",
   "metadata": {
    "slideshow": {
     "slide_type": "slide"
    }
   },
   "source": [
    "# Where are my assets?\n",
    "### Makefiles and Dockerfiles\n",
    "<img src=\"https://github.githubassets.com/images/modules/logos_page/GitHub-Mark.png\" width=\"400\">\n",
    "\n",
    "<img src=\"https://github.githubassets.com/images/modules/logos_page/GitHub-Logo.png\" width=\"400\">\n",
    "\n"
   ]
  },
  {
   "cell_type": "markdown",
   "metadata": {
    "slideshow": {
     "slide_type": "slide"
    }
   },
   "source": [
    "# Our Cloud Based Architecture \n",
    "- every tool here is a diamond! \n",
    "- We tried to use as few AWS specific services as possible.\n",
    "---\n",
    "<img src=\"https://prd-wret.s3.us-west-2.amazonaws.com/assets/palladium/production/s3fs-public/styles/landing_page_custom_blocks/public/thumbnails/image/landsat8_pho_2013042_close_lrg.jpg\" width=\"200\">\n",
    "\n",
    "<img src=\"ard/new-arch.PNG\" width=1000>\n",
    "\n",
    "\n"
   ]
  },
  {
   "cell_type": "markdown",
   "metadata": {
    "slideshow": {
     "slide_type": "slide"
    }
   },
   "source": [
    "### ET Processing \n",
    "\n",
    "#### in the AWS Cloud\n",
    "<img src=\"./ard/model-implementation-cartoon.PNG\" width=\"1200\">"
   ]
  },
  {
   "cell_type": "markdown",
   "metadata": {
    "slideshow": {
     "slide_type": "slide"
    }
   },
   "source": [
    "# And...\n",
    "\n",
    "- ### we did 20 years of daily outputs times 12 variables all in 20 hours.\n",
    "- in the AWS cloud\n",
    "\n",
    "- ## this took one month with on-prem gear"
   ]
  },
  {
   "cell_type": "markdown",
   "metadata": {
    "slideshow": {
     "slide_type": "slide"
    }
   },
   "source": [
    "# Karate Kid\n",
    "\n",
    "- ## we then did 150 years\n",
    "- ### ONE HUNDRED FIFTY flippin years\n",
    "\n",
    "- ## 1950 - 2100"
   ]
  },
  {
   "cell_type": "markdown",
   "metadata": {
    "slideshow": {
     "slide_type": "slide"
    }
   },
   "source": [
    "## Now we need STAC -- because:\n",
    "<img src=\"./ard/now-we-need-stac.PNG\" width=\"600\">\n",
    "\n",
    "---\n",
    "- ## 8 Million tifs - 20 terabytes - just one model - Ouch!\n",
    "---\n",
    "- #### aws s3 ls --human --recursive --summary s3://et-data/out/DRB150Year\n",
    "    - ## Took over one HOUR to run\n",
    "---"
   ]
  },
  {
   "cell_type": "markdown",
   "metadata": {
    "slideshow": {
     "slide_type": "slide"
    }
   },
   "source": [
    "# Last Year  (ARD19) - move the scientist to the data\n",
    "<img src=\"./bonus-slides/scientist.PNG\" width=\"200\">\n",
    "<img src=\"./bonus-slides/data-lake.PNG\" width=\"500\">\n",
    "\n",
    "# One year later - Lessons Learned from a Case Study\n",
    "- Ignacio - we did work hard this last year."
   ]
  },
  {
   "cell_type": "markdown",
   "metadata": {
    "slideshow": {
     "slide_type": "slide"
    }
   },
   "source": [
    "# What is ARD to me?\n",
    "\n",
    "1. ##  Data that greatly reduces MetaWork and Data Wrangling\n",
    "2. ##  Data that uses an open source powerful ecosystem in a cloud AWS (or GEE)\n",
    "3. ##  Takes advantage of all of the standards below that allow radiometric and geometric fidelity\n",
    "4. ##  Might include non-satellite data for modeling\n",
    "5. ##  Does not absolve you from understanding data providence and upstream processing details\n",
    "6. ##  But it should free you from any grunt work and ugly portals."
   ]
  },
  {
   "cell_type": "markdown",
   "metadata": {
    "slideshow": {
     "slide_type": "slide"
    }
   },
   "source": [
    "---\n",
    "\n",
    "# c5 - Pangeo plus ARD as S3 COGs **IS THE WAY** to do Science!\n",
    "\n",
    "---"
   ]
  },
  {
   "cell_type": "markdown",
   "metadata": {
    "slideshow": {
     "slide_type": "slide"
    }
   },
   "source": [
    "## Overview\n",
    "### Key Technologies that Allow Scaling\n",
    "- ## *AWS Cloud*\n",
    "- #### Linux/Terraform\n",
    "- #### Docker\n",
    "- ## *Jupyter*\n",
    "- #### PANGEO, Open Data Cube and The BROWSER\n",
    "- #### Python and github"
   ]
  },
  {
   "cell_type": "markdown",
   "metadata": {
    "slideshow": {
     "slide_type": "slide"
    }
   },
   "source": [
    "### Evaporation and Transpiration in:\n",
    "\n",
    "# The PANGEO/ARD Cloud - \n",
    "\n",
    "- ## A Better way to do Science!\n",
    "\n",
    "    - tony butzer\n",
    "    - tonybutzer@gmail.com\n",
    "    \n",
    "    \n",
    "    \n",
    "http://10.12.68.246/user/butzer/notebooks/opt/etviz/3-panel-dash-boards/3-day3-beyond-pn-interact-just-widgets-and-decorators-cool/99-play-pie-science-tony.ipynb"
   ]
  },
  {
   "cell_type": "markdown",
   "metadata": {
    "slideshow": {
     "slide_type": "slide"
    }
   },
   "source": [
    "# Typical on-prem 'pet' based architecture\n",
    "<img src=\"https://images.cdn.circlesix.co/image/1/1000/0/uploads/posts/2017/09/8207638ebb3fbfc5cccdb4603c1038fc.jpeg\" width=\"100\">\n",
    "\n",
    "---\n",
    "<img src=\"ard/typical-on-prem-arch.PNG\" width=\"1200\">\n"
   ]
  },
  {
   "cell_type": "markdown",
   "metadata": {
    "slideshow": {
     "slide_type": "slide"
    }
   },
   "source": [
    "# Our Cloud Based Architecture \n",
    "- every tool here is a diamond! \n",
    "- We tried to use as few AWS specific services as possible.\n",
    "---\n",
    "<img src=\"https://prd-wret.s3.us-west-2.amazonaws.com/assets/palladium/production/s3fs-public/styles/landing_page_custom_blocks/public/thumbnails/image/landsat8_pho_2013042_close_lrg.jpg\" width=\"200\">\n",
    "\n",
    "<img src=\"ard/new-arch.PNG\" width=1200>\n",
    "\n",
    "\n",
    "\n"
   ]
  },
  {
   "cell_type": "markdown",
   "metadata": {
    "slideshow": {
     "slide_type": "slide"
    }
   },
   "source": [
    "# What\n",
    "## Evaporation and Transpiration in The Cloud\n",
    "\n",
    "---\n",
    "<img src=\"./ard/evapotranspiration.PNG\" width=\"300\">\n",
    "\n",
    "---\n",
    "\n",
    "### Affects Water Balance ok -- so its important stuff"
   ]
  },
  {
   "cell_type": "markdown",
   "metadata": {
    "slideshow": {
     "slide_type": "slide"
    }
   },
   "source": [
    "# Business Why? -- Affects people and precious water resources\n",
    "<img src=\"./ard/drb-welcome-to-thedelaware-river.PNG\" width=\"1200\">"
   ]
  },
  {
   "cell_type": "markdown",
   "metadata": {
    "slideshow": {
     "slide_type": "slide"
    }
   },
   "source": [
    "# Technical Why? -- These methods allow us to scale human capabilities\n",
    "\n",
    "---\n",
    "<img src=\"./intro/Scale-Man-2.jpg\" width=\"800\">\n",
    "\n",
    "---"
   ]
  },
  {
   "cell_type": "markdown",
   "metadata": {
    "slideshow": {
     "slide_type": "slide"
    }
   },
   "source": [
    "## How Scaling\n",
    "- ### This is really a whole separate talk. The short answer ...\n",
    "\n",
    "### DOCKER! <img src=\"https://www.docker.com/sites/default/files/d8/styles/role_icon/public/2019-07/Moby-logo.png?itok=sYH_JEaJ\" width=\"100\">\n",
    "\n",
    "---"
   ]
  },
  {
   "cell_type": "markdown",
   "metadata": {
    "slideshow": {
     "slide_type": "slide"
    }
   },
   "source": [
    "## Tiles and Chips\n",
    "- carve the problem into 10 degree tiles and 2 degree chips\n",
    "    - 25 chips equals 25 docker containers equals one 10 degree tile\n",
    "---\n",
    "<img src=\"./assets-1/steffi_south.PNG\" width=\"500\">\n",
    "\n",
    "---\n",
    "- then we glue them back together with \n",
    "    - ## xarray merge\n",
    "    - ### this code is all in github"
   ]
  },
  {
   "cell_type": "markdown",
   "metadata": {
    "slideshow": {
     "slide_type": "slide"
    }
   },
   "source": [
    "## What does this have to do with ARD?\n",
    "### ARD here means data ready for our model - model ready data MRD\n",
    "#### A whole bunch actually, we plan to consume available ARD/CARD4L\n",
    "- Landsat Collection-2\n",
    "- Modis NDVI\n",
    "- [OTHER,]\n",
    "---\n",
    "#### We also plan to produce ARD for downstream modelers\n",
    "- All of our products to be staged in AWS\n",
    "    - COGS\n",
    "    - with a STAC catalog - we may need to phone a friend.\n",
    "- We may partner with someone to create Climatology ARD\n",
    "- or -- We may just produce this on the fly to save storage costs\n",
    "---\n",
    "#### We also want to allow take home data cubes  \n",
    "- spatial temporal AOI based data cubes of ET"
   ]
  },
  {
   "cell_type": "markdown",
   "metadata": {
    "slideshow": {
     "slide_type": "slide"
    }
   },
   "source": [
    "### ET Processing \n",
    "\n",
    "#### in the AWS Cloud\n",
    "<img src=\"./ard/model-implementation-cartoon.PNG\" width=\"1200\">"
   ]
  },
  {
   "cell_type": "markdown",
   "metadata": {
    "slideshow": {
     "slide_type": "slide"
    }
   },
   "source": [
    "### ET Outputs\n",
    "<img src=\"./ard/eta-2000-2016.PNG\" width=\"1400\">\n"
   ]
  },
  {
   "cell_type": "markdown",
   "metadata": {
    "slideshow": {
     "slide_type": "skip"
    }
   },
   "source": [
    "<img src=\"./ard/landcover-over-drb.PNG\" width=\"900\">"
   ]
  },
  {
   "cell_type": "markdown",
   "metadata": {
    "slideshow": {
     "slide_type": "skip"
    }
   },
   "source": [
    "### Data Storage = \"et-data\"\n",
    "\n",
    "<img src=\"https://www.toucaned.com/ART/Animation/buckets.gif\" width=\"70\">\n",
    "\n",
    "#### Area :: Delaware River Basin\n",
    "#### Two Major Model Runs\n",
    "- DRB Model for Ward Sanford - 2000-2020\n",
    "    - 20 Hours in the cloud - One Month on-prem\n",
    "- DRB Model for Gabriel Senay 1950-2100 -- \n",
    "- ## 150 year model in 3 days\n",
    "    - 3 Days in the cloud - never attempted on-prem - estimate 7 months"
   ]
  },
  {
   "cell_type": "markdown",
   "metadata": {
    "slideshow": {
     "slide_type": "skip"
    }
   },
   "source": [
    "#### Strategy\n",
    "- a single bucket :: et-data\n",
    "- PRE -- prefixes\n",
    "    - in - our Input ARD - precip, soil, NDVI...\n",
    "    - out - working storage 16 million geotiffs\n",
    "    - enduser - COGS (daily, monthly and annual) 500,000 geotiffs - for just 2 models only\n",
    "\n",
    "#### Costs (monthly)\n",
    "- in :: $430/month\n",
    "\n",
    "- out :: $1300/month  # we can nuke these\n",
    "\n",
    "- enduser - $38/month  COGs \n",
    "\n",
    "<img src=\"https://www.toucaned.com/ART/Animation/buckets.gif\" width=\"70\">"
   ]
  },
  {
   "cell_type": "markdown",
   "metadata": {
    "slideshow": {
     "slide_type": "slide"
    }
   },
   "source": [
    "### Compute - t3a-2xlarge\n",
    "#### Strategy\n",
    "- ### ONE single AWS ec-2 instance -- t3a-2xlarge\n",
    "    - does everything for the project \n",
    "    - ## Everything!\n",
    "    - 8 cpus (AMD)\n",
    "    - 31 GBytes memory\n",
    "    - 150 GBytes local disk\n",
    "    \n",
    "#### Costs\n",
    "- $200 / Month "
   ]
  },
  {
   "cell_type": "markdown",
   "metadata": {
    "slideshow": {
     "slide_type": "skip"
    }
   },
   "source": [
    "# Where is my server? -- Boardman Oregon?\n",
    "---\n",
    "<img src=\"./assets-1/50-cloud-boardman-oregon-aws.PNG\" width=\"1200\">\n",
    "\n",
    "---"
   ]
  },
  {
   "cell_type": "markdown",
   "metadata": {
    "slideshow": {
     "slide_type": "skip"
    }
   },
   "source": [
    "# Where is my server?\n",
    "---\n",
    "<img src=\"./assets-1/50-cloud-data-center-guts.PNG\" width=\"1200\">\n",
    "\n",
    "---"
   ]
  },
  {
   "cell_type": "markdown",
   "metadata": {
    "slideshow": {
     "slide_type": "slide"
    }
   },
   "source": [
    "# pick Oregon and us-west-2 - cheaper in the west\n",
    "## It is also WHERE the ARD GOLD is.\n",
    "---\n",
    "<img src=\"./assets-1/50-cloud-region-cost-variances.PNG\" width=\"800\">\n",
    "\n",
    "---"
   ]
  },
  {
   "cell_type": "markdown",
   "metadata": {
    "slideshow": {
     "slide_type": "slide"
    }
   },
   "source": [
    "# Where are my assets?\n",
    "### Makefiles and Dockerfiles\n",
    "<img src=\"https://github.githubassets.com/images/modules/logos_page/GitHub-Mark.png\" width=\"400\">\n",
    "\n",
    "<img src=\"https://github.githubassets.com/images/modules/logos_page/GitHub-Logo.png\" width=\"400\">\n",
    "\n"
   ]
  },
  {
   "cell_type": "markdown",
   "metadata": {
    "slideshow": {
     "slide_type": "slide"
    }
   },
   "source": [
    "## What's Next -- Remaining Work\n",
    "\n",
    "### Visualization Dashboards\n",
    "- examples - take a python-jupyter detour with me\n",
    "    - pie chart\n",
    "    - ET Annual Explorer\n",
    "- notional\n",
    "    - Scott Henderson's - animations using COGS, Overview based VRTs and widgets\n",
    "    - HUC12 basin summary data\n",
    "    - Annual Map Products\n",
    "    - Gabriel Senay defined outputs on demand\n",
    "    "
   ]
  },
  {
   "cell_type": "markdown",
   "metadata": {
    "slideshow": {
     "slide_type": "slide"
    }
   },
   "source": [
    "    \n",
    "## Now we need STAC -- because:\n",
    "<img src=\"./ard/now-we-need-stac.PNG\" width=\"600\">\n",
    "\n",
    "---\n",
    "- ## 8 Million tifs - 20 terabytes - just one model - Ouch!\n",
    "---\n",
    "- #### aws s3 ls --human --recursive --summary s3://et-data/out/DRB150Year\n",
    "    - ## Took over one HOUR to run\n",
    "---"
   ]
  },
  {
   "cell_type": "markdown",
   "metadata": {
    "slideshow": {
     "slide_type": "skip"
    }
   },
   "source": [
    "## Cost Containment Strategies\n",
    "- Glacier\n",
    "- int/integer data plus scaling factor ':-)' - instead of 64 bit floats\n",
    "- automated hierarchical storage \n",
    "- Reserved instances\n",
    "- Spot instances"
   ]
  },
  {
   "cell_type": "markdown",
   "metadata": {
    "slideshow": {
     "slide_type": "skip"
    }
   },
   "source": [
    "### Customer self-service websites\n",
    "- Jekyll or sphinx based web site\n",
    "\n",
    "### Production Routine Processing - forward processing\n",
    "- Dashboard based docker orchestration operator console\n",
    "- Checkpointing and restart capabilities\n",
    "- ### maybe -- Exploit pipeline approach used by Matthew Hanson"
   ]
  },
  {
   "cell_type": "markdown",
   "metadata": {
    "slideshow": {
     "slide_type": "skip"
    }
   },
   "source": [
    "### Variable Resolution\n",
    "- Modis at 250 meters\n",
    "- Landsat at 30 meters\n",
    "\n",
    "### Expand Geographically\n",
    "- #### North America\n",
    "- #### The Globe\n",
    "\n",
    "### VegET is now Complete in AWS \n",
    "- #### what about AWS based SSEBop?"
   ]
  },
  {
   "cell_type": "markdown",
   "metadata": {
    "slideshow": {
     "slide_type": "slide"
    }
   },
   "source": [
    "# Promote the PANGEO Vision in practical ways\n",
    "- ## Training and seminars - Science Outreach\n",
    "- ## encourage -- More real world implementations"
   ]
  },
  {
   "cell_type": "markdown",
   "metadata": {
    "slideshow": {
     "slide_type": "skip"
    }
   },
   "source": [
    "### Cloud Interoperability Google Earth Engine and AWS"
   ]
  },
  {
   "cell_type": "markdown",
   "metadata": {
    "slideshow": {
     "slide_type": "slide"
    }
   },
   "source": [
    "### Evaporation and Transpiration in:\n",
    "\n",
    "# The PANGEO/ARD Cloud - \n",
    "\n",
    "- ## A Better way to do Science!\n",
    "\n",
    "    - tony butzer\n",
    "    - tonybutzer@gmail.com\n",
    "    \n",
    "    \n",
    "    \n",
    "http://10.12.68.246/user/butzer/notebooks/opt/etviz/3-panel-dash-boards/3-day3-beyond-pn-interact-just-widgets-and-decorators-cool/99-play-pie-science-tony.ipynb"
   ]
  },
  {
   "cell_type": "markdown",
   "metadata": {
    "slideshow": {
     "slide_type": "skip"
    }
   },
   "source": [
    "# Demo Time\n",
    "\n",
    "<img src=\"./ard/demo-time.PNG\" width=\"800\">\n"
   ]
  },
  {
   "cell_type": "markdown",
   "metadata": {
    "slideshow": {
     "slide_type": "skip"
    }
   },
   "source": [
    "# Concept of Operations - sketch\n",
    "<img src=\"assets-1/01-et-infra-cartoon.png\" width=1100>"
   ]
  },
  {
   "cell_type": "markdown",
   "metadata": {
    "slideshow": {
     "slide_type": "slide"
    }
   },
   "source": [
    "<img src=\"./bonus-slides/et-viewer-non-trap.PNG\" width=\"1500\">"
   ]
  },
  {
   "cell_type": "markdown",
   "metadata": {
    "slideshow": {
     "slide_type": "slide"
    }
   },
   "source": [
    "http://10.12.68.246/user/butzer/notebooks/opt/etviz/3-panel-dash-boards/2-day2-simple-ET-image-viewer/98-hvplot-experiment-image-annual-et-viewer-crude-Copy1.ipynb"
   ]
  },
  {
   "cell_type": "markdown",
   "metadata": {
    "slideshow": {
     "slide_type": "skip"
    }
   },
   "source": [
    "# Sanath's Fire Animation via Xarray\n",
    "\n",
    "![animate_lake](https://raw.githubusercontent.com/tonybutzer/notebook/master/05-Science-Outreach-Evaporation-Etc/10-Sanath/01-Animation-Exploration/isa.gif)"
   ]
  },
  {
   "cell_type": "markdown",
   "metadata": {
    "slideshow": {
     "slide_type": "slide"
    }
   },
   "source": [
    "# \"culture eats strategy for breakfast\"\n",
    "\n",
    "- Peter Drucker\n"
   ]
  },
  {
   "cell_type": "markdown",
   "metadata": {
    "slideshow": {
     "slide_type": "skip"
    }
   },
   "source": [
    "### verify precipitation - use Sioux Falls\n",
    "<img src=\"./assets-1/precipitation_sioux_falls_by_way_xarray.PNG\" width=\"700\">"
   ]
  },
  {
   "cell_type": "markdown",
   "metadata": {
    "slideshow": {
     "slide_type": "skip"
    }
   },
   "source": [
    "## Data Wrangling - verify NDVI input - ET loves NDVIs\n",
    "<img src=\"./assets-1/modis-ndvi-day1-day200.png\" width=\"800\">"
   ]
  },
  {
   "cell_type": "markdown",
   "metadata": {
    "slideshow": {
     "slide_type": "skip"
    }
   },
   "source": [
    "# deal with map projections - sinusoidal really?\n",
    "<img src=\"./assets-1/great-skew.jpg\" width=\"600\">"
   ]
  },
  {
   "cell_type": "code",
   "execution_count": null,
   "metadata": {},
   "outputs": [],
   "source": []
  }
 ],
 "metadata": {
  "celltoolbar": "Slideshow",
  "kernelspec": {
   "display_name": "Python 3",
   "language": "python",
   "name": "python3"
  },
  "language_info": {
   "codemirror_mode": {
    "name": "ipython",
    "version": 3
   },
   "file_extension": ".py",
   "mimetype": "text/x-python",
   "name": "python",
   "nbconvert_exporter": "python",
   "pygments_lexer": "ipython3",
   "version": "3.7.4"
  }
 },
 "nbformat": 4,
 "nbformat_minor": 4
}
