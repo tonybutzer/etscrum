{
 "cells": [
  {
   "cell_type": "markdown",
   "metadata": {
    "slideshow": {
     "slide_type": "slide"
    }
   },
   "source": [
    "# So those presentations were:\n",
    "- well organized \n",
    "- succint \n",
    "- salient \n",
    "- and useful.\n",
    "\n",
    "## Thanks Stefanie and Gabriel!\n",
    "\n",
    "## Now for something completely different/wierd!\n"
   ]
  },
  {
   "cell_type": "markdown",
   "metadata": {
    "slideshow": {
     "slide_type": "slide"
    }
   },
   "source": [
    "# Start with a precise Architecture Diagram\n",
    "### That illustrates your **Concept of Operations**\n",
    "\n",
    "\n",
    "- This slide is for Steve Labahn only :-)"
   ]
  },
  {
   "cell_type": "markdown",
   "metadata": {
    "slideshow": {
     "slide_type": "slide"
    }
   },
   "source": [
    "![./assets-1/01-et-infra-cartoon.png](./assets-1/01-et-infra-cartoon.png)"
   ]
  },
  {
   "cell_type": "code",
   "execution_count": 1,
   "metadata": {
    "slideshow": {
     "slide_type": "slide"
    }
   },
   "outputs": [
    {
     "name": "stdout",
     "output_type": "stream",
     "text": [
      "0\n",
      "1\n",
      "2\n",
      "3\n",
      "4\n",
      "5\n",
      "6\n",
      "7\n",
      "8\n",
      "9\n"
     ]
    }
   ],
   "source": [
    "# We can produce sophisticated code too \n",
    "# - we are not just about pretty pictures\n",
    "for i in range(0,10):\n",
    "    print(i)"
   ]
  },
  {
   "cell_type": "markdown",
   "metadata": {
    "slideshow": {
     "slide_type": "slide"
    }
   },
   "source": [
    "# So where is this cloud?\n",
    "\n",
    "<img src=\"./assets-1/50-cloud-boardman-oregon-aws.PNG\" width=\"1200\">"
   ]
  },
  {
   "cell_type": "markdown",
   "metadata": {
    "slideshow": {
     "slide_type": "slide"
    }
   },
   "source": [
    "# So what does the cloud look like in the data center?\n",
    "\n",
    "## Just like EROS only bigger and badder\n",
    "\n",
    "<img src=\"./assets-1/50-cloud-data-center-guts.PNG\" width=\"1200\">"
   ]
  },
  {
   "cell_type": "markdown",
   "metadata": {
    "slideshow": {
     "slide_type": "slide"
    }
   },
   "source": [
    "#### So how do you manage costs in this infrastructure as a service model? -- It really can be quite easy once you dive in; also use some tools.\n",
    "<img src=\"./assets-1/50-cloud-region-cost-variances.PNG\" width=\"700\">\n"
   ]
  },
  {
   "cell_type": "markdown",
   "metadata": {
    "slideshow": {
     "slide_type": "slide"
    }
   },
   "source": [
    "## What if you get stuck? - Phone a friend.\n",
    "- It might cost you some chocolate though.\n",
    "<img src=\"./assets-1/Rich_Signell_s.jpg\" width=\"500\">\n"
   ]
  },
  {
   "cell_type": "markdown",
   "metadata": {
    "slideshow": {
     "slide_type": "slide"
    }
   },
   "source": [
    "# Learn from the Landsat Africa Collection 2 Team\n",
    "\n",
    "<img src=\"./assets-1/africa-costs.PNG\" width=\"900\">"
   ]
  },
  {
   "cell_type": "markdown",
   "metadata": {
    "slideshow": {
     "slide_type": "slide"
    }
   },
   "source": [
    "# Processed a bunch of scenes in 4 days -copy how they did it!\n",
    "<img src=\"./assets-1/africa_scene_depth_heatmap.PNG\" width=\"900\">"
   ]
  },
  {
   "cell_type": "markdown",
   "metadata": {
    "slideshow": {
     "slide_type": "slide"
    }
   },
   "source": [
    "### Validate your input data for the model\n",
    "- part of the Data Wrangling  -- Air Temperature\n",
    "<img src=\"./assets-1/air_temp_day_1.PNG\" width=\"00\">"
   ]
  },
  {
   "cell_type": "markdown",
   "metadata": {
    "slideshow": {
     "slide_type": "slide"
    }
   },
   "source": [
    "# But again, what about the Costs?\n",
    "<img src=\"./assets-1/costsAWS-mar14.png\" width=\"900\">"
   ]
  },
  {
   "cell_type": "markdown",
   "metadata": {
    "slideshow": {
     "slide_type": "slide"
    }
   },
   "source": [
    "## Does this color pallete make me look skinny?\n",
    "<img src=\"./assets-1/delaware-and-east-tiles-ndvi.PNG\" width=\"900\">\n",
    "\n",
    "#### more data wrangling and verification of the Tiles"
   ]
  },
  {
   "cell_type": "markdown",
   "metadata": {
    "slideshow": {
     "slide_type": "slide"
    }
   },
   "source": [
    "# Aristotle says\n",
    "\n",
    "### You should definitely get married!\n",
    "\n",
    "- If you chose wisely - you will become a great poet.\n",
    "- If you chose poorly - you will become a philosopher.\n",
    "\n",
    "- I know this has nothing to do with this presentation\n",
    "- I just liked the qoute :-)"
   ]
  },
  {
   "cell_type": "markdown",
   "metadata": {
    "slideshow": {
     "slide_type": "slide"
    }
   },
   "source": [
    "# deal with map projections - sinusoidal really?\n",
    "<img src=\"./assets-1/great-skew.jpg\" width=\"600\">"
   ]
  },
  {
   "cell_type": "markdown",
   "metadata": {
    "slideshow": {
     "slide_type": "subslide"
    }
   },
   "source": [
    "<img src=\"./assets-1/imgo.jpg\" width=\"900\">"
   ]
  },
  {
   "cell_type": "markdown",
   "metadata": {
    "slideshow": {
     "slide_type": "slide"
    }
   },
   "source": [
    "# Portals are impressive - but they still bite!\n",
    "<img src=\"./assets-1/lpdaac_data.png\" width=\"700\">"
   ]
  },
  {
   "cell_type": "markdown",
   "metadata": {
    "slideshow": {
     "slide_type": "slide"
    }
   },
   "source": [
    "## Data Wrangling - verify NDVI input - ET loves NDVIs\n",
    "<img src=\"./assets-1/modis-ndvi-day1-day200.png\" width=\"800\">"
   ]
  },
  {
   "cell_type": "markdown",
   "metadata": {
    "slideshow": {
     "slide_type": "slide"
    }
   },
   "source": [
    "### verify precipitation - use Sioux Falls\n",
    "<img src=\"./assets-1/precipitation_sioux_falls_by_way_xarray.PNG\" width=\"700\">"
   ]
  },
  {
   "cell_type": "markdown",
   "metadata": {
    "slideshow": {
     "slide_type": "slide"
    }
   },
   "source": [
    "### Scaling the ET Model\n",
    "- we carved the problem into 10 degree Tiles\n",
    "- that did not help enough - so we carved again into 2 degree Chips\n",
    "- Tiles and Chips - someone should patent those terms.\n",
    "- Oh yeah and we gave away some of this data to our WaterWorld Friends X X\n",
    "<img src=\"./assets-1/steffi_south.PNG\" width=\"900\">"
   ]
  },
  {
   "cell_type": "code",
   "execution_count": null,
   "metadata": {},
   "outputs": [],
   "source": []
  }
 ],
 "metadata": {
  "celltoolbar": "Slideshow",
  "kernelspec": {
   "display_name": "Python 3",
   "language": "python",
   "name": "python3"
  },
  "language_info": {
   "codemirror_mode": {
    "name": "ipython",
    "version": 3
   },
   "file_extension": ".py",
   "mimetype": "text/x-python",
   "name": "python",
   "nbconvert_exporter": "python",
   "pygments_lexer": "ipython3",
   "version": "3.7.3"
  }
 },
 "nbformat": 4,
 "nbformat_minor": 2
}
