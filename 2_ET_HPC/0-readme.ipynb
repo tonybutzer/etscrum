{
 "cells": [
  {
   "cell_type": "code",
   "execution_count": 1,
   "metadata": {},
   "outputs": [
    {
     "data": {
      "text/markdown": [
       "# HPC <--> Cloud Projects\n",
       "\n",
       "## Initial Steps \n",
       "- get account access on Denali for Steffi and Tony\n",
       "    - establish a wastersmart account\n",
       "\n",
       "## Goals\n",
       "\n",
       "- Develop deeper understanding of these two complementary platforms\n",
       "- Build open source libaries that can run in either \n",
       "- Cross train employees for a healthy work environment\n",
       "- Minimize programming waste or improve efficiencies of the science department\n",
       "- Have fun at work\n",
       "\n",
       "## Potential Pathfinder Projects\n",
       "\n",
       "### NDVI Smoothing from HPC to Cloud\n",
       "\n",
       "### ETa (SSEBoP) flow from GEE --> AWS S3 in the CHS Cloud"
      ],
      "text/plain": [
       "<IPython.core.display.Markdown object>"
      ]
     },
     "metadata": {},
     "output_type": "display_data"
    }
   ],
   "source": [
    "from IPython.display import display, Markdown\n",
    "\n",
    "with open('Notes.md', 'r') as fh:\n",
    "    content = fh.read()\n",
    "\n",
    "display(Markdown(content))"
   ]
  },
  {
   "cell_type": "code",
   "execution_count": null,
   "metadata": {},
   "outputs": [],
   "source": []
  }
 ],
 "metadata": {
  "kernelspec": {
   "display_name": "Python 3",
   "language": "python",
   "name": "python3"
  },
  "language_info": {
   "codemirror_mode": {
    "name": "ipython",
    "version": 3
   },
   "file_extension": ".py",
   "mimetype": "text/x-python",
   "name": "python",
   "nbconvert_exporter": "python",
   "pygments_lexer": "ipython3",
   "version": "3.7.3"
  }
 },
 "nbformat": 4,
 "nbformat_minor": 4
}
