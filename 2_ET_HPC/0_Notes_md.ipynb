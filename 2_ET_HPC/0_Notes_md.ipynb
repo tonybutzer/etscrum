{
 "cells": [
  {
   "cell_type": "code",
   "execution_count": null,
   "metadata": {},
   "outputs": [],
   "source": []
  },
  {
   "cell_type": "markdown",
   "metadata": {},
   "source": [
    "# HPC <--> Cloud Projects\n",
    "\n",
    "## Initial Steps \n",
    "- get account access on Denali for Steffi and Tony\n",
    "    - establish a watersmart account\n",
    "\n",
    "## Goals\n",
    "\n",
    "- Develop deeper understanding of these two complementary platforms\n",
    "- Build open source libraries that can run in either \n",
    "- Cross train employees for a healthy work environment\n",
    "- Minimize programming waste or improve efficiencies of the science department\n",
    "- Have fun at work\n",
    "\n",
    "## Potential Pathfinder Projects\n",
    "\n",
    "### NDVI Smoothing from HPC to Cloud\n",
    "\n",
    "### ETa (SSEBoP) flow from GEE --> AWS S3 in the CHS Cloud\n",
    "\n",
    "\n",
    "## HPC Accounts\n",
    "\n",
    "### References\n",
    "\n",
    "https://hpcportal.cr.usgs.gov/hpc-user-docs/\n",
    "\n",
    "\n",
    "\n",
    "#### status\n",
    "    - filled out request and got an acknowledgment\n",
    "\n",
    "- poc\n",
    "\n",
    "\n",
    "```\n",
    "Gordon, Janice\n",
    "Information Technology Specialist\n",
    "Denver Federal Center,DFC Bldg 810\n",
    "janicegordon@usgs.gov\n",
    "janicegordon@usgs.gov\n",
    "303-202-4225\n",
    "```\n",
    "\n",
    "- boss chain Mike Frame; Cheryl MOrris ...\n",
    "- https://delve-gcc.office.com/?u=9ac4798f-d9dd-4002-8b2b-b859122af89f&v=work\n",
    "\n",
    "- Jeff Falgout and Brad Williams - (Computer Scientists)"
   ]
  },
  {
   "cell_type": "markdown",
   "metadata": {},
   "source": [
    "# Comparing USGS and the EU Data Access\n",
    "\n",
    "The EU services available are:\n",
    "- • Interactive notebooks\n",
    "- • Web services\n",
    "- • Virtual Machine desktops\n",
    "In the same page are also present additional way to download the data:\n",
    "- • Manifest files for easy mirroring of archive\n",
    "- • FTP access\n",
    "- • GEONETcast to download data via the EUMETCast satellite station in regions with no internet access\n",
    "\n",
    "\n",
    "## References\n",
    "https://land.copernicus.eu/global/access\n",
    "\n",
    "https://medium.com/pangeo/closed-platforms-vs-open-architectures-for-cloud-native-earth-system-analytics-1ad88708ebb6\n",
    "\n",
    "\n",
    "## Considerations\n",
    "\n",
    "\"they require either the registration of a new user with a different identity provider or the use of the main credentials connecting to a new authentication endpoint, leaving even the most advanced password managers confused.\"\n"
   ]
  },
  {
   "cell_type": "code",
   "execution_count": null,
   "metadata": {},
   "outputs": [],
   "source": []
  },
  {
   "cell_type": "code",
   "execution_count": null,
   "metadata": {},
   "outputs": [],
   "source": []
  }
 ],
 "metadata": {
  "kernelspec": {
   "display_name": "Python 3",
   "language": "python",
   "name": "python3"
  },
  "language_info": {
   "codemirror_mode": {
    "name": "ipython",
    "version": 3
   },
   "file_extension": ".py",
   "mimetype": "text/x-python",
   "name": "python",
   "nbconvert_exporter": "python",
   "pygments_lexer": "ipython3",
   "version": "3.7.3"
  }
 },
 "nbformat": 4,
 "nbformat_minor": 4
}
