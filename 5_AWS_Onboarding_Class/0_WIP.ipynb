{
 "cells": [
  {
   "cell_type": "markdown",
   "metadata": {},
   "source": [
    "# Actions\n",
    "\n",
    "## Next Class\n",
    "\n",
    "- logan hls stiff\n",
    "- olena - the model verification notebook\n",
    "    - matplotlib plot experience\n",
    "- a quick demo of open data cube cube in a box - docker compose\n",
    "- summer class schedule"
   ]
  },
  {
   "cell_type": "markdown",
   "metadata": {},
   "source": [
    "# Class NOtes\n",
    "\n",
    "## References\n",
    "\n",
    "https://github.com/pangeo-data/cog-best-practices\n",
    "\n",
    "\n",
    "https://www.earthdatascience.org/courses/use-data-open-source-python/multispectral-remote-sensing/landsat-in-Python/\n",
    "\n",
    "\n",
    "https://earth-env-data-science.github.io/intro\n",
    "\n",
    "\n",
    "https://katharynduffy.github.io/why-ecoinformatics.html\n"
   ]
  },
  {
   "cell_type": "markdown",
   "metadata": {},
   "source": [
    "# Jupyter Book\n",
    "\n",
    "https://jupyterbook.org/publish/gh-pages.html\n",
    "\n",
    "- uses sphynx engine\n",
    "- can directly import notebooks\n",
    "- need more help here"
   ]
  }
 ],
 "metadata": {
  "kernelspec": {
   "display_name": "Python 3",
   "language": "python",
   "name": "python3"
  },
  "language_info": {
   "codemirror_mode": {
    "name": "ipython",
    "version": 3
   },
   "file_extension": ".py",
   "mimetype": "text/x-python",
   "name": "python",
   "nbconvert_exporter": "python",
   "pygments_lexer": "ipython3",
   "version": "3.7.3"
  }
 },
 "nbformat": 4,
 "nbformat_minor": 4
}
