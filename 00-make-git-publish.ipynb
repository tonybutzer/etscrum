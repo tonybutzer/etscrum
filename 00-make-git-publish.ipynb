{
 "cells": [
  {
   "cell_type": "code",
   "execution_count": 3,
   "metadata": {},
   "outputs": [
    {
     "name": "stdout",
     "output_type": "stream",
     "text": [
      "git remote set-url origin git@github.com:tonybutzer/etscrum.git\n",
      "#git remote set-url origin https://github.com/tonybutzer/etscrum.git\n",
      "git config --global user.email tonybutzer@gmail.com\n",
      "git config --global user.name tonybutzer\n",
      "git config --global push.default simple\n",
      "git add .\n",
      "git commit -m \"automatic git update from Makefile\"\n",
      "[main e020ac1] automatic git update from Makefile\n",
      " 2 files changed, 157 insertions(+), 1 deletion(-)\n",
      " create mode 100644 0-readme.ipynb\n",
      "git push\n",
      "Counting objects: 4, done.\n",
      "Delta compression using up to 8 threads.\n",
      "Compressing objects: 100% (4/4), done.\n",
      "Writing objects: 100% (4/4), 1.93 KiB | 1.93 MiB/s, done.\n",
      "Total 4 (delta 2), reused 0 (delta 0)\n",
      "remote: Resolving deltas: 100% (2/2), completed with 2 local objects.\u001b[K\n",
      "To github.com:tonybutzer/etscrum.git\n",
      "   7a8d14e..e020ac1  main -> main\n"
     ]
    }
   ],
   "source": [
    "! (cd ~/opt/etscrum; make publish)"
   ]
  },
  {
   "cell_type": "code",
   "execution_count": null,
   "metadata": {},
   "outputs": [],
   "source": []
  }
 ],
 "metadata": {
  "kernelspec": {
   "display_name": "Python 3",
   "language": "python",
   "name": "python3"
  },
  "language_info": {
   "codemirror_mode": {
    "name": "ipython",
    "version": 3
   },
   "file_extension": ".py",
   "mimetype": "text/x-python",
   "name": "python",
   "nbconvert_exporter": "python",
   "pygments_lexer": "ipython3",
   "version": "3.7.3"
  }
 },
 "nbformat": 4,
 "nbformat_minor": 4
}
