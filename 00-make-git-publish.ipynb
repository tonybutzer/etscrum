{
 "cells": [
  {
   "cell_type": "code",
   "execution_count": 1,
   "metadata": {},
   "outputs": [
    {
     "name": "stdout",
     "output_type": "stream",
     "text": [
      "git remote set-url origin git@github.com:tonybutzer/etscrum.git\n",
      "#git remote set-url origin https://github.com/tonybutzer/etscrum.git\n",
      "git config --global user.email tonybutzer@gmail.com\n",
      "git config --global user.name tonybutzer\n",
      "git config --global push.default simple\n",
      "git add .\n",
      "git commit -m \"automatic git update from Makefile\"\n",
      "[main 3cbc50f] automatic git update from Makefile\n",
      " 4 files changed, 40 insertions(+)\n",
      " create mode 100644 00-make-git-publish.ipynb\n",
      " create mode 100644 01-eng-notes/ssh.md\n",
      "git push\n",
      "Counting objects: 8, done.\n",
      "Delta compression using up to 8 threads.\n",
      "Compressing objects: 100% (6/6), done.\n",
      "Writing objects: 100% (8/8), 1.45 KiB | 1.45 MiB/s, done.\n",
      "Total 8 (delta 1), reused 0 (delta 0)\n",
      "remote: Resolving deltas: 100% (1/1), completed with 1 local object.\u001b[K\n",
      "To github.com:tonybutzer/etscrum.git\n",
      "   5a0e08c..3cbc50f  main -> main\n"
     ]
    }
   ],
   "source": [
    "! (cd ~/opt/etscrum; make publish)"
   ]
  },
  {
   "cell_type": "code",
   "execution_count": null,
   "metadata": {},
   "outputs": [],
   "source": []
  }
 ],
 "metadata": {
  "kernelspec": {
   "display_name": "Python 3",
   "language": "python",
   "name": "python3"
  },
  "language_info": {
   "codemirror_mode": {
    "name": "ipython",
    "version": 3
   },
   "file_extension": ".py",
   "mimetype": "text/x-python",
   "name": "python",
   "nbconvert_exporter": "python",
   "pygments_lexer": "ipython3",
   "version": "3.7.3"
  }
 },
 "nbformat": 4,
 "nbformat_minor": 4
}
