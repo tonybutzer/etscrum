{
 "cells": [
  {
   "cell_type": "markdown",
   "metadata": {},
   "source": [
    "# Collaborate with Friedrichs, MacKenzie"
   ]
  },
  {
   "cell_type": "markdown",
   "metadata": {},
   "source": [
    "# Kick off meeting\n",
    "\n",
    "1. our mini-pangeo and semi-persistent EC2 instance\n",
    "2. How can we collaborate\n",
    "3. How does Google solve the stuck in the cloud problem?\n",
    "    - visualizations\n",
    "4. cloud to cloud challenges\n",
    "5. Is the USGS going to sponsor AWS\n",
    "6. Should we port VegET to Google?\n",
    "7. Should we develop SSEBoP in AWS CHS\n",
    "8. We are getting an AWS for water alongside LAND and FIRE\n",
    "9. should we play with simple scp on some of the VegET outputs"
   ]
  }
 ],
 "metadata": {
  "kernelspec": {
   "display_name": "Python 3",
   "language": "python",
   "name": "python3"
  },
  "language_info": {
   "codemirror_mode": {
    "name": "ipython",
    "version": 3
   },
   "file_extension": ".py",
   "mimetype": "text/x-python",
   "name": "python",
   "nbconvert_exporter": "python",
   "pygments_lexer": "ipython3",
   "version": "3.7.3"
  }
 },
 "nbformat": 4,
 "nbformat_minor": 4
}
