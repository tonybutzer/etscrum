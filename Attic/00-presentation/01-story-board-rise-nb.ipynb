{
 "cells": [
  {
   "cell_type": "markdown",
   "metadata": {
    "slideshow": {
     "slide_type": "slide"
    }
   },
   "source": [
    "# Success Filtering\n",
    "- Validate your hypotheses by speaking with real customers.\n",
    "- **Excellence is about making the best decisions - Aristotle**\n",
    "- Efficiency leads to more time for excellent decisions\n",
    "- Finding ideas most people don’t know about, or agree with, is key to being successful."
   ]
  },
  {
   "cell_type": "markdown",
   "metadata": {
    "slideshow": {
     "slide_type": "slide"
    }
   },
   "source": [
    "# day in the life of a scientists\n",
    "- 25% each\n",
    "    - **data wrangling**\n",
    "    - code\n",
    "    - **metawork**\n",
    "    - science"
   ]
  },
  {
   "cell_type": "markdown",
   "metadata": {
    "slideshow": {
     "slide_type": "slide"
    }
   },
   "source": [
    "# goal for the scientist is more like this ...\n",
    "\n",
    "- **70% SCIENCE**\n",
    "- 10% Each\n",
    "    - data wrangling\n",
    "    - code\n",
    "    - metawork"
   ]
  },
  {
   "cell_type": "markdown",
   "metadata": {
    "slideshow": {
     "slide_type": "slide"
    }
   },
   "source": [
    "# Reduce Data Wrangling\n",
    "- **ARD in the cloud**\n",
    "- COGS\n",
    "- STAC\n",
    "- Develop tools, notebooks and libraries\n",
    "- encourage the use of reusable data\n",
    "- reduce replication"
   ]
  },
  {
   "cell_type": "markdown",
   "metadata": {
    "slideshow": {
     "slide_type": "slide"
    }
   },
   "source": [
    "# Reduce the amount of coding\n",
    "- **zero in on python**\n",
    "- improve the python science libraries\n",
    "    - make them more powerful\n",
    "    - make them cooperate as ecosystems\n",
    "- **Xarray, rasterio - ecosystems -plotting included**\n",
    "    - go between geotiffs and netcdfs - with a single line of code\n",
    "- don't apologise for using command line tools - ex. rio cogeo; rio window/chop\n",
    "- COG\n",
    "- numpy"
   ]
  },
  {
   "cell_type": "markdown",
   "metadata": {
    "slideshow": {
     "slide_type": "slide"
    }
   },
   "source": [
    "# Reduce Metawork\n",
    "> \"Time is money. Remove things that reduce your effectiveness at the job.\" - Tim Ferris\n",
    "- **simple solutions**\n",
    "    - bash versus kubernetes\n",
    "    - MARKDOWN - it works across your project steps.\n",
    "- work from home\n",
    "- communicate using teams \n",
    "- **repeatable technologies**\n",
    "    - git\n",
    "    - docker\n",
    "- agile processes - focus on outcomes and customers\n",
    "    - manage the queue - be careful with estimates - they usually don't work here\n"
   ]
  },
  {
   "cell_type": "markdown",
   "metadata": {
    "slideshow": {
     "slide_type": "slide"
    }
   },
   "source": [
    "# Reduce Metawork Continued\n",
    "- **SELF DOCUMENTING TECHNOLOGIES**\n",
    "    - Makefiles & Dockerfiles\n",
    "    - jupyter\n",
    "    - well written Python code\n",
    "    - git\n",
    "- training sessions with repetition\n",
    "- **Everything as CODE**\n",
    "    - infrastructure\n",
    "    - operations\n",
    "- **don't fear disruptive technologies!**\n",
    "- listen to youtube at 2x speed - waste time efficiently :-)"
   ]
  },
  {
   "cell_type": "markdown",
   "metadata": {
    "slideshow": {
     "slide_type": "slide"
    }
   },
   "source": [
    "# How we got started -- ET incubation\n",
    "1. Attended Pangeo School together\n",
    "2. Open Data Cube and Pangeo are solutions waiting for a problem\n",
    "3. I offered to help scientists use Pangeo and Xarray\n",
    "4. **The ET folks and Sanath from fireScience approached me**\n",
    "    - simple animations and the power of xarray\n",
    "    - had a meeting with the ET stakeholders\n",
    "        - they had success in the cloud with Google Earth Engine\n",
    "        - they had audacious goals for VegET\n",
    "        "
   ]
  },
  {
   "cell_type": "markdown",
   "metadata": {
    "slideshow": {
     "slide_type": "slide"
    }
   },
   "source": [
    "# Sanath's Fire Animation via Xarray\n",
    "\n",
    "![animate_lake](https://raw.githubusercontent.com/tonybutzer/notebook/master/05-Science-Outreach-Evaporation-Etc/10-Sanath/01-Animation-Exploration/isa.gif)"
   ]
  },
  {
   "cell_type": "markdown",
   "metadata": {
    "slideshow": {
     "slide_type": "slide"
    }
   },
   "source": [
    "# Next Steps\n",
    " 1. Establish a CHS/AWS space for the WaterSMART (Agro-Hydro-Applications) AHA Program\n",
    "     - **move from prototype - proof of concept - ET test case**\n",
    "     - move to production\n",
    " 2. Optimizations\n",
    "     - Use AWS batch for Mosaic Code - embarassingly parallel\n",
    "     - wrangle - then optimize for cloud - then exploit the optimizations\n",
    " 3. More XARRAY stuff\n",
    "     - Zarr\n",
    "     - Dask\n"
   ]
  },
  {
   "cell_type": "markdown",
   "metadata": {
    "slideshow": {
     "slide_type": "subslide"
    }
   },
   "source": [
    "# Cont.\n",
    " 4. **Visualization Improvements**\n",
    "     - **plotly/dash - dashboards**\n",
    "         - port University of Colorado phenology dashboard from Heroku to CHS/AWS\n",
    "     - Explore holoviews optimizations\n",
    "     - Other Visualizations\n",
    "     - **voila!**\n",
    " 5. Figure out ARC in the Cloud!\n",
    " 6. **Mitigate the \"Trapped in the Cloud Phenom\"**"
   ]
  },
  {
   "cell_type": "markdown",
   "metadata": {
    "slideshow": {
     "slide_type": "slide"
    }
   },
   "source": [
    "## CASE Studies - Chesapeake Compare lessons learned\n",
    "\n",
    "1. https://support.chs.usgs.gov/display/CHSK/Chesapeake+Bay+Studies+-+Getting+Started+with+Cloud-based+Science\n",
    "```\n",
    "https://support.chs.usgs.gov/display/CHSKB/Chesapeake+Bay+Studies+-+Getting+Started+with+Cloud-based+Science\n",
    "```\n",
    "\n",
    "- Chesapeake Bay Studies investigated how USGS Cloud Hosting Solutions (CHS) could enable more efficient data sharing \n",
    "    - among science teams and provide 21st century science capabilities. \n",
    "    - showed the readiness and support for moving their science to the Cloud. \n",
    "    - **It takes significant effort and planning to adopt the Cloud.**\n",
    "\n"
   ]
  },
  {
   "cell_type": "markdown",
   "metadata": {
    "slideshow": {
     "slide_type": "subslide"
    }
   },
   "source": [
    "- Critical Factors\n",
    "    - identification of a CHS Point of Contact and \n",
    "    - establishing a sustainable Cost Center Cloud account and funding structure.\n",
    "    - **complete buy-in by science team(s)**\n",
    "    - understand access methods\n",
    "    - **ingress and egress methods and cost** [tony]\n",
    "    \n",
    "By far, the majority indicated that they had some skills but **would like more training.**\n",
    "- **we used real time - just in time training for ET**\n",
    "\n",
    "- The Cloud offers unbound possibilities but requires thoughtful planning to stay within the available budget resources. "
   ]
  },
  {
   "cell_type": "markdown",
   "metadata": {
    "slideshow": {
     "slide_type": "slide"
    }
   },
   "source": [
    "# More Information is Available via:\n",
    "1. **Stefanie Kagone**\n",
    "2. Gabriel Senay\n",
    "3. Tony Butzer"
   ]
  },
  {
   "cell_type": "code",
   "execution_count": null,
   "metadata": {},
   "outputs": [],
   "source": []
  }
 ],
 "metadata": {
  "celltoolbar": "Slideshow",
  "kernelspec": {
   "display_name": "Python 3",
   "language": "python",
   "name": "python3"
  },
  "language_info": {
   "codemirror_mode": {
    "name": "ipython",
    "version": 3
   },
   "file_extension": ".py",
   "mimetype": "text/x-python",
   "name": "python",
   "nbconvert_exporter": "python",
   "pygments_lexer": "ipython3",
   "version": "3.7.3"
  }
 },
 "nbformat": 4,
 "nbformat_minor": 2
}
