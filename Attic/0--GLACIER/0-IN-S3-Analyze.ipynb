{
 "cells": [
  {
   "cell_type": "code",
   "execution_count": 1,
   "metadata": {},
   "outputs": [],
   "source": [
    "#! (cd ../etscrumLib; python -m pip install --user -e .)"
   ]
  },
  {
   "cell_type": "code",
   "execution_count": 2,
   "metadata": {},
   "outputs": [],
   "source": [
    "from etscrumLib.bucket_analyze import bucket_analyze"
   ]
  },
  {
   "cell_type": "code",
   "execution_count": 3,
   "metadata": {},
   "outputs": [
    {
     "name": "stdout",
     "output_type": "stream",
     "text": [
      "bucket dev-et-data\n",
      "prefix in\n",
      "COUNT= 660175\n",
      "STANDARD 660175\n",
      "STANDARD 24019978852954\n",
      "STANDARD GBYTES= 22370.348547542468\n",
      "STANDARD Cost/Month= 447.40697095084937\n",
      "----------------------------------------------------------------------------------------------------\n",
      "GLACIER 0\n",
      "GLACIER 0\n",
      "GLACIER GBYTES= 0.0\n",
      "GLACIER Cost/Month= 0.0\n",
      "----------------------------------------------------------------------------------------------------\n",
      "INTELLIGENT_TIERING 0\n",
      "INTELLIGENT_TIERING 0\n",
      "INTELLIGENT_TIERING GBYTES= 0.0\n",
      "INTELLIGENT_TIERING Cost/Month= 0.0\n",
      "----------------------------------------------------------------------------------------------------\n",
      "CPU times: user 2min 27s, sys: 1.12 s, total: 2min 28s\n",
      "Wall time: 3min 37s\n"
     ]
    }
   ],
   "source": [
    "%%time\n",
    "a = bucket_analyze('dev-et-data', 'in')"
   ]
  },
  {
   "cell_type": "code",
   "execution_count": null,
   "metadata": {},
   "outputs": [],
   "source": []
  }
 ],
 "metadata": {
  "kernelspec": {
   "display_name": "Python 3",
   "language": "python",
   "name": "python3"
  },
  "language_info": {
   "codemirror_mode": {
    "name": "ipython",
    "version": 3
   },
   "file_extension": ".py",
   "mimetype": "text/x-python",
   "name": "python",
   "nbconvert_exporter": "python",
   "pygments_lexer": "ipython3",
   "version": "3.7.3"
  }
 },
 "nbformat": 4,
 "nbformat_minor": 4
}
