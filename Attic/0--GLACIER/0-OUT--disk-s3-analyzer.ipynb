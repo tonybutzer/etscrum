{
 "cells": [
  {
   "cell_type": "code",
   "execution_count": 1,
   "metadata": {},
   "outputs": [],
   "source": [
    "#! (cd ../etscrumLib; python -m pip install --user -e .)"
   ]
  },
  {
   "cell_type": "code",
   "execution_count": 2,
   "metadata": {},
   "outputs": [],
   "source": [
    "from etscrumLib.bucket_analyze import bucket_analyze"
   ]
  },
  {
   "cell_type": "code",
   "execution_count": 3,
   "metadata": {},
   "outputs": [
    {
     "name": "stdout",
     "output_type": "stream",
     "text": [
      "bucket dev-et-data\n",
      "prefix out\n",
      "COUNT= 16692744\n",
      "STANDARD 16692744\n",
      "STANDARD 70347981009844\n",
      "STANDARD GBYTES= 65516.662793088704\n",
      "STANDARD Cost/Month= 1310.3332558617742\n",
      "----------------------------------------------------------------------------------------------------\n",
      "GLACIER 0\n",
      "GLACIER 0\n",
      "GLACIER GBYTES= 0.0\n",
      "GLACIER Cost/Month= 0.0\n",
      "----------------------------------------------------------------------------------------------------\n",
      "INTELLIGENT_TIERING 0\n",
      "INTELLIGENT_TIERING 0\n",
      "INTELLIGENT_TIERING GBYTES= 0.0\n",
      "INTELLIGENT_TIERING Cost/Month= 0.0\n",
      "----------------------------------------------------------------------------------------------------\n",
      "CPU times: user 1h 31s, sys: 21.8 s, total: 1h 53s\n",
      "Wall time: 1h 30min\n"
     ]
    }
   ],
   "source": [
    "%%time\n",
    "a = bucket_analyze('dev-et-data', 'out')"
   ]
  },
  {
   "cell_type": "code",
   "execution_count": null,
   "metadata": {},
   "outputs": [],
   "source": []
  }
 ],
 "metadata": {
  "kernelspec": {
   "display_name": "Python 3",
   "language": "python",
   "name": "python3"
  },
  "language_info": {
   "codemirror_mode": {
    "name": "ipython",
    "version": 3
   },
   "file_extension": ".py",
   "mimetype": "text/x-python",
   "name": "python",
   "nbconvert_exporter": "python",
   "pygments_lexer": "ipython3",
   "version": "3.7.3"
  }
 },
 "nbformat": 4,
 "nbformat_minor": 4
}
