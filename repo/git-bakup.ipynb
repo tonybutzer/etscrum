{
 "cells": [
  {
   "cell_type": "markdown",
   "metadata": {},
   "source": [
    "# git-bakup"
   ]
  },
  {
   "cell_type": "code",
   "execution_count": 2,
   "metadata": {},
   "outputs": [],
   "source": [
    "USER='tonybutzer'\n",
    "API_TOKEN='ATOKEN'\n",
    "GIT_API_URL='https://api.github.com'\n",
    "\n",
    "def get_api(url):\n",
    "    try:\n",
    "        request = urllib2.Request(GIT_API_URL + url)\n",
    "        base64string = base64.encodestring('%s/token:%s' % (USER, API_TOKEN)).replace('\\n', '')\n",
    "        request.add_header(\"Authorization\", \"Basic %s\" % base64string)\n",
    "        result = urllib2.urlopen(request)\n",
    "        result.close()\n",
    "    except:\n",
    "        print ('Failed to get api request from %s' % url)"
   ]
  },
  {
   "cell_type": "code",
   "execution_count": 5,
   "metadata": {},
   "outputs": [
    {
     "name": "stdout",
     "output_type": "stream",
     "text": [
      "  % Total    % Received % Xferd  Average Speed   Time    Time     Time  Current\n",
      "                                 Dload  Upload   Total   Spent    Left  Speed\n",
      "100  170k    0  170k    0     0   224k      0 --:--:-- --:--:-- --:--:--  223k\n"
     ]
    }
   ],
   "source": [
    "!curl \"https://api.github.com/users/tonybutzer/repos?per_page=1000\" | grep -w clone_url | grep -o '[^\"]\\+://.\\+.git' >myrepos.txt"
   ]
  },
  {
   "cell_type": "code",
   "execution_count": 8,
   "metadata": {},
   "outputs": [
    {
     "name": "stdout",
     "output_type": "stream",
     "text": [
      "Process is interrupted.\n"
     ]
    }
   ],
   "source": [
    "%%bash\n",
    "\n",
    "mkdir -p ~/repo\n",
    "\n",
    "\n",
    "for i in `cat myrepos.txt` ; do\n",
    "{\n",
    "echo $i\n",
    "(cd ~/repo; git clone $i)\n",
    "}; done"
   ]
  },
  {
   "cell_type": "code",
   "execution_count": 11,
   "metadata": {},
   "outputs": [
    {
     "name": "stdout",
     "output_type": "stream",
     "text": [
      "active-fire\r\n"
     ]
    }
   ],
   "source": [
    "! ls ~/repo"
   ]
  },
  {
   "cell_type": "code",
   "execution_count": null,
   "metadata": {},
   "outputs": [],
   "source": []
  }
 ],
 "metadata": {
  "kernelspec": {
   "display_name": "Python 3",
   "language": "python",
   "name": "python3"
  },
  "language_info": {
   "codemirror_mode": {
    "name": "ipython",
    "version": 3
   },
   "file_extension": ".py",
   "mimetype": "text/x-python",
   "name": "python",
   "nbconvert_exporter": "python",
   "pygments_lexer": "ipython3",
   "version": "3.7.4"
  }
 },
 "nbformat": 4,
 "nbformat_minor": 2
}
