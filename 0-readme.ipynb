{
 "cells": [
  {
   "cell_type": "code",
   "execution_count": 1,
   "metadata": {},
   "outputs": [
    {
     "data": {
      "text/markdown": [
       "# VegET in the Cloud Scrum\n",
       "# etscrum\n",
       "Organize all the many todo's for this project - using github \n",
       "\n",
       "# Quarterly Goals\n",
       "\n",
       "1. VegET over CONUS\n",
       "2. VegET over North America\n",
       "3. Move from Landsat-LSDS Prototype Account - to Science Account [WaterSMART, LCMAP, Earthmap, Pangeo]\n",
       "4. Explore viz techniques in the cloud\n",
       "5. Continued Computer Science Research - simple scaling methods in the cloud\n",
       "\n",
       "\n",
       "# Month Goals October\n",
       "\n",
       "1. Presentation to LCMAP clan\n",
       "2. Mosaic all of the DRB 150 Year chips\n",
       "3. Cleanup S3\n",
       "4. Refine enduser product delivery\n",
       "5. Cloud cost analysis\n",
       "6. cleanup and decomission butz2 - use git instead\n",
       "    - move pinstance to ship0\n",
       "    - test teraform container on ship0\n",
       "7. \n"
      ],
      "text/plain": [
       "<IPython.core.display.Markdown object>"
      ]
     },
     "metadata": {},
     "output_type": "display_data"
    }
   ],
   "source": [
    "from IPython.display import display, Markdown\n",
    "\n",
    "with open('README.md', 'r') as fh:\n",
    "    content = fh.read()\n",
    "\n",
    "display(Markdown(content))"
   ]
  },
  {
   "cell_type": "code",
   "execution_count": 2,
   "metadata": {},
   "outputs": [
    {
     "data": {
      "text/markdown": [
       "# Today\n",
       "\n",
       "This is the list of outputs of the VegET model (Oct 2020) sorted by importance:\n",
       "\n",
       " \n",
       "\n",
       "\n",
       "\t\n",
       "Eta (Etasw)\n",
       "\tSurface Runoff (SRF)\n",
       "\tDeep drainage (DD)\n",
       "\tnetet (netet)\n",
       "\tcrop eta (etc)\n",
       "\tfinal soil water (SWf)\n",
       "\tSnowpack (SNWpk)\n",
       "\tRain\n",
       "\tsnow water equivalent (SWE)\n",
       "\tsnow melt (snow_melt)\n",
       "\tinitial soil water (SWi)\n",
       "\n",
       "# 10-14-2020\n",
       "\n",
       "1. cleanup mini-pangeo-v1\n",
       "    - shutdown the jupyter hub - DONE\n",
       "        - sudo systemctl stop jupyterhub.service\n",
       "        - Bad Gateway\n",
       "        - DONE!\n",
       "    - cleanup big files - skipped - tarred to the cloud instead - DONE\n",
       "        - tifs etc\n",
       "    - tar the /home directory - DONE\n",
       "        - s3fs mount\n",
       "            - create backup dir - DONE tarballs is its name\n",
       "        - cleanup kagone and tar -DONE\n",
       "        - rouze is harder - DONE\n",
       "    - create accounts in new pangeo !\n",
       "    - cleanup new pangeo disk - create a clean dir in etscrum\n",
       "        - create tools for cleaning directories\n",
       "    - shutdown the host tear it down !\n",
       "2. complete ethics training\n",
       "\n",
       "# 10-13-2020\n",
       "### Mosaic Outputs\n",
       "1. Complete KBR IT Security training -1 hour DONE!\n",
       "1. Please WAIT this could take a while\n",
       "1. Anything we want to change on readme high level strategy?\n",
       "2. start up a new host ec2\n",
       "    - pin\n",
       "3. docker ps\n",
       "    - 20-30 containers possible\n",
       "4. use monthly option to speed up delivery for Wes Zell\n",
       "5. check status - in shell drb150\n",
       "6. review the code and the library\n",
       "7. have steff run dd and srf monthly(s)\n",
       "8. docker logs -- cmd\n",
       "\n",
       "```\n",
       "docker logs xenodochial_heyrovsky | egrep '.tif$'\n",
       "docker ps --no-trunc | grep xen\n",
       "```\n",
       "\n",
       "\n",
       "## 10-12-2020\n",
       "\n",
       "1. sanding off ruff edges on etm code\n",
       "2. added code for monthly, all and years_2030_2039 etc\n",
       "3. running etasw and netet - goal is to have all 150 years in one day\n",
       "4. still need to find out how many docker containers are safe to run\n",
       "    - **maybe 25 to 30**\n",
       "5. move pinstance to -246\n",
       "\n",
       "## 10-11-2020\n",
       "\n",
       "1. start etscrum ! -DONE\n",
       "2. fix etm for multi-year - DONE + monthly\n",
       "3. move pinstance to ship0\n",
       "4. test terraform for ship1 - DONE\n",
       "\n",
       "\n",
       "\n"
      ],
      "text/plain": [
       "<IPython.core.display.Markdown object>"
      ]
     },
     "metadata": {},
     "output_type": "display_data"
    }
   ],
   "source": [
    "from IPython.display import display, Markdown\n",
    "\n",
    "with open('today.md', 'r') as fh:\n",
    "    content = fh.read()\n",
    "\n",
    "display(Markdown(content))"
   ]
  },
  {
   "cell_type": "code",
   "execution_count": null,
   "metadata": {},
   "outputs": [],
   "source": []
  }
 ],
 "metadata": {
  "kernelspec": {
   "display_name": "Python 3",
   "language": "python",
   "name": "python3"
  },
  "language_info": {
   "codemirror_mode": {
    "name": "ipython",
    "version": 3
   },
   "file_extension": ".py",
   "mimetype": "text/x-python",
   "name": "python",
   "nbconvert_exporter": "python",
   "pygments_lexer": "ipython3",
   "version": "3.7.3"
  }
 },
 "nbformat": 4,
 "nbformat_minor": 4
}
