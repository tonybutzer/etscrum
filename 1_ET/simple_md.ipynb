{
 "cells": [
  {
   "cell_type": "markdown",
   "metadata": {},
   "source": [
    "#  This is a simple md notebook\n",
    "\n",
    "- here be text\n",
    "\n",
    "- this is a picture \n",
    "\n",
    "![](https://media2.giphy.com/media/3o6nV0vQCWaUVCOecM/200.webp?cid=ecf05e47y5c08hh685pgu9u286mmyvlqq6v0vy6k0lrxmfhk&rid=200.webp)"
   ]
  },
  {
   "cell_type": "code",
   "execution_count": null,
   "metadata": {},
   "outputs": [],
   "source": []
  }
 ],
 "metadata": {
  "kernelspec": {
   "display_name": "Python 3",
   "language": "python",
   "name": "python3"
  },
  "language_info": {
   "codemirror_mode": {
    "name": "ipython",
    "version": 3
   },
   "file_extension": ".py",
   "mimetype": "text/x-python",
   "name": "python",
   "nbconvert_exporter": "python",
   "pygments_lexer": "ipython3",
   "version": "3.7.3"
  }
 },
 "nbformat": 4,
 "nbformat_minor": 4
}
