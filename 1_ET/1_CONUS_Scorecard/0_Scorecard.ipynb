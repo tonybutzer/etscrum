{
 "cells": [
  {
   "cell_type": "code",
   "execution_count": 1,
   "metadata": {},
   "outputs": [],
   "source": [
    "row_40N = {\n",
    "       'ul_lat' : 40.0,\n",
    "       'lr_lat' : 30.0,\n",
    "       'start_lon' : -130.0,\n",
    "       'end_lon' : -70.0,\n",
    "       'increment' : 10\n",
    "   }"
   ]
  },
  {
   "cell_type": "code",
   "execution_count": 2,
   "metadata": {},
   "outputs": [],
   "source": [
    "row_50N = {\n",
    "       'ul_lat' : 50.0,\n",
    "       'lr_lat' : 40.0,\n",
    "       'start_lon' : -130.0,\n",
    "       'end_lon' : -60.0,\n",
    "       'increment' : 10\n",
    "   }"
   ]
  },
  {
   "cell_type": "code",
   "execution_count": 3,
   "metadata": {},
   "outputs": [],
   "source": [
    "ros=[]\n",
    "ros.append(row_40N)\n",
    "ros.append(row_50N)"
   ]
  },
  {
   "cell_type": "code",
   "execution_count": 4,
   "metadata": {},
   "outputs": [
    {
     "name": "stdout",
     "output_type": "stream",
     "text": [
      "-130\n",
      "-120\n",
      "-110\n",
      "-100\n",
      "-90\n",
      "-80\n",
      "-70\n"
     ]
    }
   ],
   "source": [
    "#r0 = row_0_070N\n",
    "r0=row_40N\n",
    "for lonval in range(int(r0['start_lon']), int(r0['end_lon']+r0['increment']), r0['increment']):\n",
    "    print (lonval)"
   ]
  },
  {
   "cell_type": "code",
   "execution_count": 5,
   "metadata": {},
   "outputs": [],
   "source": [
    "   def make_poly(row_dict, ul_lon):\n",
    "    coord_list = []\n",
    "    r = row_dict\n",
    "    ul_lon_lat = [ul_lon, r['ul_lat']]\n",
    "    ur_lon_lat = [ul_lon + r['increment'], r['ul_lat']]\n",
    "    lr_lon_lat = [ul_lon + r['increment'], r['lr_lat']]\n",
    "    ll_lon_lat = [ul_lon, r['lr_lat']]\n",
    "    print (ul_lon_lat)\n",
    "    coord_list.append(ul_lon_lat)\n",
    "    print (ur_lon_lat)\n",
    "    coord_list.append(ur_lon_lat)\n",
    "    print (lr_lon_lat)\n",
    "    coord_list.append(lr_lon_lat)\n",
    "    print (ll_lon_lat)\n",
    "    coord_list.append(ll_lon_lat)\n",
    "    print (ul_lon_lat)\n",
    "    coord_list.append(ul_lon_lat)\n",
    "    return(coord_list)"
   ]
  },
  {
   "cell_type": "code",
   "execution_count": 6,
   "metadata": {},
   "outputs": [
    {
     "name": "stdout",
     "output_type": "stream",
     "text": [
      "[-130.0, 40.0]\n",
      "[-120.0, 40.0]\n",
      "[-120.0, 30.0]\n",
      "[-130.0, 30.0]\n",
      "[-130.0, 40.0]\n"
     ]
    }
   ],
   "source": [
    "ul_lon = -130.0\n",
    "coords = make_poly(r0, ul_lon)"
   ]
  },
  {
   "cell_type": "code",
   "execution_count": 7,
   "metadata": {},
   "outputs": [
    {
     "data": {
      "text/plain": [
       "[[-130.0, 40.0],\n",
       " [-120.0, 40.0],\n",
       " [-120.0, 30.0],\n",
       " [-130.0, 30.0],\n",
       " [-130.0, 40.0]]"
      ]
     },
     "execution_count": 7,
     "metadata": {},
     "output_type": "execute_result"
    }
   ],
   "source": [
    "coords"
   ]
  },
  {
   "cell_type": "code",
   "execution_count": 8,
   "metadata": {},
   "outputs": [],
   "source": [
    "polycs = []\n",
    "polycs.append(coords)"
   ]
  },
  {
   "cell_type": "code",
   "execution_count": 9,
   "metadata": {},
   "outputs": [],
   "source": [
    "import json\n",
    "geos = []\n",
    "for polyc in polycs:\n",
    "    poly = {\n",
    "        'type': 'Feature',\n",
    "        'properties': {},\n",
    "        'geometry': {\n",
    "            'type': 'Polygon',\n",
    "            'coordinates': [polyc]\n",
    "        }\n",
    "    }\n",
    "    geos.append(poly)\n",
    "\n",
    "geometries = {\n",
    "    'type': 'FeatureCollection',\n",
    "    'features': geos,\n",
    "}\n",
    "\n",
    "geo_str = json.dumps(geometries) "
   ]
  },
  {
   "cell_type": "code",
   "execution_count": 10,
   "metadata": {},
   "outputs": [
    {
     "data": {
      "text/plain": [
       "'{\"type\": \"FeatureCollection\", \"features\": [{\"type\": \"Feature\", \"properties\": {}, \"geometry\": {\"type\": \"Polygon\", \"coordinates\": [[[-130.0, 40.0], [-120.0, 40.0], [-120.0, 30.0], [-130.0, 30.0], [-130.0, 40.0]]]}}]}'"
      ]
     },
     "execution_count": 10,
     "metadata": {},
     "output_type": "execute_result"
    }
   ],
   "source": [
    "geo_str"
   ]
  },
  {
   "cell_type": "code",
   "execution_count": 11,
   "metadata": {},
   "outputs": [
    {
     "name": "stdout",
     "output_type": "stream",
     "text": [
      "('{\"type\": \"FeatureCollection\", \"features\": [{\"type\": \"Feature\", \"properties\": '\n",
      " '{}, \"geometry\": {\"type\": \"Polygon\", \"coordinates\": [[[-130.0, 40.0], '\n",
      " '[-120.0, 40.0], [-120.0, 30.0], [-130.0, 30.0], [-130.0, 40.0]]]}}]}')\n"
     ]
    }
   ],
   "source": [
    "import pprint\n",
    "pp = pprint.PrettyPrinter()\n",
    "pp.pprint(geo_str)"
   ]
  },
  {
   "cell_type": "code",
   "execution_count": 12,
   "metadata": {},
   "outputs": [
    {
     "name": "stdout",
     "output_type": "stream",
     "text": [
      "{ 'features': [ { 'geometry': { 'coordinates': [ [ [-130.0, 40.0],\n",
      "                                                   [-120.0, 40.0],\n",
      "                                                   [-120.0, 30.0],\n",
      "                                                   [-130.0, 30.0],\n",
      "                                                   [-130.0, 40.0]]],\n",
      "                                'type': 'Polygon'},\n",
      "                  'properties': {},\n",
      "                  'type': 'Feature'}],\n",
      "  'type': 'FeatureCollection'}\n"
     ]
    }
   ],
   "source": [
    "pp = pprint.PrettyPrinter(indent=2)\n",
    "pp.pprint(geometries)"
   ]
  },
  {
   "cell_type": "code",
   "execution_count": 13,
   "metadata": {},
   "outputs": [
    {
     "name": "stdout",
     "output_type": "stream",
     "text": [
      "{\"type\": \"FeatureCollection\", \"features\": [{\"type\": \"Feature\", \"properties\": {}, \"geometry\": {\"type\": \"Polygon\", \"coordinates\": [[[-130.0, 40.0], [-120.0, 40.0], [-120.0, 30.0], [-130.0, 30.0], [-130.0, 40.0]]]}}]}\n"
     ]
    }
   ],
   "source": [
    "f = open(\"demofile3.txt\", \"w\")\n",
    "f.write(geo_str)\n",
    "f.close()\n",
    "\n",
    "#open and read the file after the appending:\n",
    "f = open(\"demofile3.txt\", \"r\")\n",
    "print(f.read())"
   ]
  },
  {
   "cell_type": "code",
   "execution_count": 14,
   "metadata": {},
   "outputs": [
    {
     "name": "stdout",
     "output_type": "stream",
     "text": [
      "{\r\n",
      "    \"type\": \"FeatureCollection\",\r\n",
      "    \"features\": [\r\n",
      "        {\r\n",
      "            \"type\": \"Feature\",\r\n",
      "            \"properties\": {},\r\n",
      "            \"geometry\": {\r\n",
      "                \"type\": \"Polygon\",\r\n",
      "                \"coordinates\": [\r\n",
      "                    [\r\n",
      "                        [\r\n",
      "                            -130.0,\r\n",
      "                            40.0\r\n",
      "                        ],\r\n",
      "                        [\r\n",
      "                            -120.0,\r\n",
      "                            40.0\r\n",
      "                        ],\r\n",
      "                        [\r\n",
      "                            -120.0,\r\n",
      "                            30.0\r\n",
      "                        ],\r\n",
      "                        [\r\n",
      "                            -130.0,\r\n",
      "                            30.0\r\n",
      "                        ],\r\n",
      "                        [\r\n",
      "                            -130.0,\r\n",
      "                            40.0\r\n",
      "                        ]\r\n",
      "                    ]\r\n",
      "                ]\r\n",
      "            }\r\n",
      "        }\r\n",
      "    ]\r\n",
      "}\r\n"
     ]
    }
   ],
   "source": [
    "! cat demofile3.txt | python3 -m json.tool"
   ]
  },
  {
   "cell_type": "code",
   "execution_count": 15,
   "metadata": {},
   "outputs": [
    {
     "name": "stdout",
     "output_type": "stream",
     "text": [
      "-130\n",
      "[-130, 40.0]\n",
      "[-120, 40.0]\n",
      "[-120, 30.0]\n",
      "[-130, 30.0]\n",
      "[-130, 40.0]\n",
      "-120\n",
      "[-120, 40.0]\n",
      "[-110, 40.0]\n",
      "[-110, 30.0]\n",
      "[-120, 30.0]\n",
      "[-120, 40.0]\n",
      "-110\n",
      "[-110, 40.0]\n",
      "[-100, 40.0]\n",
      "[-100, 30.0]\n",
      "[-110, 30.0]\n",
      "[-110, 40.0]\n",
      "-100\n",
      "[-100, 40.0]\n",
      "[-90, 40.0]\n",
      "[-90, 30.0]\n",
      "[-100, 30.0]\n",
      "[-100, 40.0]\n",
      "-90\n",
      "[-90, 40.0]\n",
      "[-80, 40.0]\n",
      "[-80, 30.0]\n",
      "[-90, 30.0]\n",
      "[-90, 40.0]\n",
      "-80\n",
      "[-80, 40.0]\n",
      "[-70, 40.0]\n",
      "[-70, 30.0]\n",
      "[-80, 30.0]\n",
      "[-80, 40.0]\n",
      "-70\n",
      "[-70, 40.0]\n",
      "[-60, 40.0]\n",
      "[-60, 30.0]\n",
      "[-70, 30.0]\n",
      "[-70, 40.0]\n",
      "-130\n",
      "[-130, 50.0]\n",
      "[-120, 50.0]\n",
      "[-120, 40.0]\n",
      "[-130, 40.0]\n",
      "[-130, 50.0]\n",
      "-120\n",
      "[-120, 50.0]\n",
      "[-110, 50.0]\n",
      "[-110, 40.0]\n",
      "[-120, 40.0]\n",
      "[-120, 50.0]\n",
      "-110\n",
      "[-110, 50.0]\n",
      "[-100, 50.0]\n",
      "[-100, 40.0]\n",
      "[-110, 40.0]\n",
      "[-110, 50.0]\n",
      "-100\n",
      "[-100, 50.0]\n",
      "[-90, 50.0]\n",
      "[-90, 40.0]\n",
      "[-100, 40.0]\n",
      "[-100, 50.0]\n",
      "-90\n",
      "[-90, 50.0]\n",
      "[-80, 50.0]\n",
      "[-80, 40.0]\n",
      "[-90, 40.0]\n",
      "[-90, 50.0]\n",
      "-80\n",
      "[-80, 50.0]\n",
      "[-70, 50.0]\n",
      "[-70, 40.0]\n",
      "[-80, 40.0]\n",
      "[-80, 50.0]\n",
      "-70\n",
      "[-70, 50.0]\n",
      "[-60, 50.0]\n",
      "[-60, 40.0]\n",
      "[-70, 40.0]\n",
      "[-70, 50.0]\n",
      "-60\n",
      "[-60, 50.0]\n",
      "[-50, 50.0]\n",
      "[-50, 40.0]\n",
      "[-60, 40.0]\n",
      "[-60, 50.0]\n"
     ]
    }
   ],
   "source": [
    "polycs = []\n",
    "for r0 in ros:\n",
    "    for lonval in range(int(r0['start_lon']), int(r0['end_lon']+r0['increment']), r0['increment']):\n",
    "        print (lonval)\n",
    "        coords = make_poly(r0, lonval)\n",
    "        polycs.append(coords)"
   ]
  },
  {
   "cell_type": "code",
   "execution_count": 16,
   "metadata": {},
   "outputs": [],
   "source": [
    "import json\n",
    "geos = []\n",
    "for polyc in polycs:\n",
    "    poly = {\n",
    "        'type': 'Feature',\n",
    "        'properties': {},\n",
    "        'geometry': {\n",
    "            'type': 'Polygon',\n",
    "            'coordinates': [polyc]\n",
    "        }\n",
    "    }\n",
    "    geos.append(poly)\n",
    "\n",
    "geometries = {\n",
    "    'type': 'FeatureCollection',\n",
    "    'features': geos,\n",
    "}\n",
    "\n",
    "geo_str = json.dumps(geometries) "
   ]
  },
  {
   "cell_type": "code",
   "execution_count": 17,
   "metadata": {},
   "outputs": [
    {
     "data": {
      "text/plain": [
       "'{\"type\": \"FeatureCollection\", \"features\": [{\"type\": \"Feature\", \"properties\": {}, \"geometry\": {\"type\": \"Polygon\", \"coordinates\": [[[-130, 40.0], [-120, 40.0], [-120, 30.0], [-130, 30.0], [-130, 40.0]]]}}, {\"type\": \"Feature\", \"properties\": {}, \"geometry\": {\"type\": \"Polygon\", \"coordinates\": [[[-120, 40.0], [-110, 40.0], [-110, 30.0], [-120, 30.0], [-120, 40.0]]]}}, {\"type\": \"Feature\", \"properties\": {}, \"geometry\": {\"type\": \"Polygon\", \"coordinates\": [[[-110, 40.0], [-100, 40.0], [-100, 30.0], [-110, 30.0], [-110, 40.0]]]}}, {\"type\": \"Feature\", \"properties\": {}, \"geometry\": {\"type\": \"Polygon\", \"coordinates\": [[[-100, 40.0], [-90, 40.0], [-90, 30.0], [-100, 30.0], [-100, 40.0]]]}}, {\"type\": \"Feature\", \"properties\": {}, \"geometry\": {\"type\": \"Polygon\", \"coordinates\": [[[-90, 40.0], [-80, 40.0], [-80, 30.0], [-90, 30.0], [-90, 40.0]]]}}, {\"type\": \"Feature\", \"properties\": {}, \"geometry\": {\"type\": \"Polygon\", \"coordinates\": [[[-80, 40.0], [-70, 40.0], [-70, 30.0], [-80, 30.0], [-80, 40.0]]]}}, {\"type\": \"Feature\", \"properties\": {}, \"geometry\": {\"type\": \"Polygon\", \"coordinates\": [[[-70, 40.0], [-60, 40.0], [-60, 30.0], [-70, 30.0], [-70, 40.0]]]}}, {\"type\": \"Feature\", \"properties\": {}, \"geometry\": {\"type\": \"Polygon\", \"coordinates\": [[[-130, 50.0], [-120, 50.0], [-120, 40.0], [-130, 40.0], [-130, 50.0]]]}}, {\"type\": \"Feature\", \"properties\": {}, \"geometry\": {\"type\": \"Polygon\", \"coordinates\": [[[-120, 50.0], [-110, 50.0], [-110, 40.0], [-120, 40.0], [-120, 50.0]]]}}, {\"type\": \"Feature\", \"properties\": {}, \"geometry\": {\"type\": \"Polygon\", \"coordinates\": [[[-110, 50.0], [-100, 50.0], [-100, 40.0], [-110, 40.0], [-110, 50.0]]]}}, {\"type\": \"Feature\", \"properties\": {}, \"geometry\": {\"type\": \"Polygon\", \"coordinates\": [[[-100, 50.0], [-90, 50.0], [-90, 40.0], [-100, 40.0], [-100, 50.0]]]}}, {\"type\": \"Feature\", \"properties\": {}, \"geometry\": {\"type\": \"Polygon\", \"coordinates\": [[[-90, 50.0], [-80, 50.0], [-80, 40.0], [-90, 40.0], [-90, 50.0]]]}}, {\"type\": \"Feature\", \"properties\": {}, \"geometry\": {\"type\": \"Polygon\", \"coordinates\": [[[-80, 50.0], [-70, 50.0], [-70, 40.0], [-80, 40.0], [-80, 50.0]]]}}, {\"type\": \"Feature\", \"properties\": {}, \"geometry\": {\"type\": \"Polygon\", \"coordinates\": [[[-70, 50.0], [-60, 50.0], [-60, 40.0], [-70, 40.0], [-70, 50.0]]]}}, {\"type\": \"Feature\", \"properties\": {}, \"geometry\": {\"type\": \"Polygon\", \"coordinates\": [[[-60, 50.0], [-50, 50.0], [-50, 40.0], [-60, 40.0], [-60, 50.0]]]}}]}'"
      ]
     },
     "execution_count": 17,
     "metadata": {},
     "output_type": "execute_result"
    }
   ],
   "source": [
    "geo_str"
   ]
  },
  {
   "cell_type": "code",
   "execution_count": 18,
   "metadata": {},
   "outputs": [
    {
     "name": "stdout",
     "output_type": "stream",
     "text": [
      "[[-130, 40.0], [-120, 40.0], [-120, 30.0], [-130, 30.0], [-130, 40.0]]\n",
      "1\n",
      "[[-120, 40.0], [-110, 40.0], [-110, 30.0], [-120, 30.0], [-120, 40.0]]\n",
      "2\n",
      "[[-110, 40.0], [-100, 40.0], [-100, 30.0], [-110, 30.0], [-110, 40.0]]\n",
      "3\n",
      "[[-100, 40.0], [-90, 40.0], [-90, 30.0], [-100, 30.0], [-100, 40.0]]\n",
      "4\n",
      "[[-90, 40.0], [-80, 40.0], [-80, 30.0], [-90, 30.0], [-90, 40.0]]\n",
      "5\n",
      "[[-80, 40.0], [-70, 40.0], [-70, 30.0], [-80, 30.0], [-80, 40.0]]\n",
      "6\n",
      "[[-70, 40.0], [-60, 40.0], [-60, 30.0], [-70, 30.0], [-70, 40.0]]\n",
      "7\n",
      "[[-130, 50.0], [-120, 50.0], [-120, 40.0], [-130, 40.0], [-130, 50.0]]\n",
      "8\n",
      "[[-120, 50.0], [-110, 50.0], [-110, 40.0], [-120, 40.0], [-120, 50.0]]\n",
      "9\n",
      "[[-110, 50.0], [-100, 50.0], [-100, 40.0], [-110, 40.0], [-110, 50.0]]\n",
      "10\n",
      "[[-100, 50.0], [-90, 50.0], [-90, 40.0], [-100, 40.0], [-100, 50.0]]\n",
      "11\n",
      "[[-90, 50.0], [-80, 50.0], [-80, 40.0], [-90, 40.0], [-90, 50.0]]\n",
      "12\n",
      "[[-80, 50.0], [-70, 50.0], [-70, 40.0], [-80, 40.0], [-80, 50.0]]\n",
      "13\n",
      "[[-70, 50.0], [-60, 50.0], [-60, 40.0], [-70, 40.0], [-70, 50.0]]\n",
      "14\n",
      "[[-60, 50.0], [-50, 50.0], [-50, 40.0], [-60, 40.0], [-60, 50.0]]\n",
      "15\n"
     ]
    }
   ],
   "source": [
    "from shapely.geometry import Polygon \n",
    "\n",
    "ginput=[]\n",
    "d={}\n",
    "i=0\n",
    "for polyc in polycs:\n",
    "    print(polyc)\n",
    "    d={}\n",
    "    poly=Polygon(polyc)\n",
    "    r=polyc[0][1]\n",
    "    d['name']=f'r{r}_tile{i}'\n",
    "    i=i+1\n",
    "    print(i)\n",
    "    d['geometry']=poly\n",
    "    ginput.append(d)\n",
    "    \n"
   ]
  },
  {
   "cell_type": "code",
   "execution_count": 19,
   "metadata": {},
   "outputs": [
    {
     "name": "stdout",
     "output_type": "stream",
     "text": [
      "[{'name': 'r40.0_tile0', 'geometry': <shapely.geometry.polygon.Polygon object at 0x7fb5e84c6eb8>}, {'name': 'r40.0_tile1', 'geometry': <shapely.geometry.polygon.Polygon object at 0x7fb5e84c5b00>}, {'name': 'r40.0_tile2', 'geometry': <shapely.geometry.polygon.Polygon object at 0x7fb5b9975b70>}, {'name': 'r40.0_tile3', 'geometry': <shapely.geometry.polygon.Polygon object at 0x7fb5b9975c18>}, {'name': 'r40.0_tile4', 'geometry': <shapely.geometry.polygon.Polygon object at 0x7fb5b997d208>}, {'name': 'r40.0_tile5', 'geometry': <shapely.geometry.polygon.Polygon object at 0x7fb5b997d2b0>}, {'name': 'r40.0_tile6', 'geometry': <shapely.geometry.polygon.Polygon object at 0x7fb5b997d320>}, {'name': 'r50.0_tile7', 'geometry': <shapely.geometry.polygon.Polygon object at 0x7fb5b997d390>}, {'name': 'r50.0_tile8', 'geometry': <shapely.geometry.polygon.Polygon object at 0x7fb5b997d400>}, {'name': 'r50.0_tile9', 'geometry': <shapely.geometry.polygon.Polygon object at 0x7fb5b997d4a8>}, {'name': 'r50.0_tile10', 'geometry': <shapely.geometry.polygon.Polygon object at 0x7fb5b997d518>}, {'name': 'r50.0_tile11', 'geometry': <shapely.geometry.polygon.Polygon object at 0x7fb5b997d5c0>}, {'name': 'r50.0_tile12', 'geometry': <shapely.geometry.polygon.Polygon object at 0x7fb5b997d630>}, {'name': 'r50.0_tile13', 'geometry': <shapely.geometry.polygon.Polygon object at 0x7fb5b997d6a0>}, {'name': 'r50.0_tile14', 'geometry': <shapely.geometry.polygon.Polygon object at 0x7fb5b997d710>}]\n"
     ]
    }
   ],
   "source": [
    "print(ginput)"
   ]
  },
  {
   "cell_type": "code",
   "execution_count": 20,
   "metadata": {},
   "outputs": [
    {
     "name": "stdout",
     "output_type": "stream",
     "text": [
      "POLYGON ((-60 50, -50 50, -50 40, -60 40, -60 50))\n"
     ]
    }
   ],
   "source": [
    "print(poly)"
   ]
  },
  {
   "cell_type": "code",
   "execution_count": 21,
   "metadata": {},
   "outputs": [],
   "source": [
    "import geopandas as gpd\n",
    "\n",
    "gdf = gpd.GeoDataFrame(ginput)"
   ]
  },
  {
   "cell_type": "code",
   "execution_count": 22,
   "metadata": {},
   "outputs": [
    {
     "data": {
      "text/html": [
       "<div>\n",
       "<style scoped>\n",
       "    .dataframe tbody tr th:only-of-type {\n",
       "        vertical-align: middle;\n",
       "    }\n",
       "\n",
       "    .dataframe tbody tr th {\n",
       "        vertical-align: top;\n",
       "    }\n",
       "\n",
       "    .dataframe thead th {\n",
       "        text-align: right;\n",
       "    }\n",
       "</style>\n",
       "<table border=\"1\" class=\"dataframe\">\n",
       "  <thead>\n",
       "    <tr style=\"text-align: right;\">\n",
       "      <th></th>\n",
       "      <th>name</th>\n",
       "      <th>geometry</th>\n",
       "    </tr>\n",
       "  </thead>\n",
       "  <tbody>\n",
       "    <tr>\n",
       "      <th>0</th>\n",
       "      <td>r40.0_tile0</td>\n",
       "      <td>POLYGON ((-130.00000 40.00000, -120.00000 40.0...</td>\n",
       "    </tr>\n",
       "    <tr>\n",
       "      <th>1</th>\n",
       "      <td>r40.0_tile1</td>\n",
       "      <td>POLYGON ((-120.00000 40.00000, -110.00000 40.0...</td>\n",
       "    </tr>\n",
       "    <tr>\n",
       "      <th>2</th>\n",
       "      <td>r40.0_tile2</td>\n",
       "      <td>POLYGON ((-110.00000 40.00000, -100.00000 40.0...</td>\n",
       "    </tr>\n",
       "    <tr>\n",
       "      <th>3</th>\n",
       "      <td>r40.0_tile3</td>\n",
       "      <td>POLYGON ((-100.00000 40.00000, -90.00000 40.00...</td>\n",
       "    </tr>\n",
       "    <tr>\n",
       "      <th>4</th>\n",
       "      <td>r40.0_tile4</td>\n",
       "      <td>POLYGON ((-90.00000 40.00000, -80.00000 40.000...</td>\n",
       "    </tr>\n",
       "    <tr>\n",
       "      <th>5</th>\n",
       "      <td>r40.0_tile5</td>\n",
       "      <td>POLYGON ((-80.00000 40.00000, -70.00000 40.000...</td>\n",
       "    </tr>\n",
       "    <tr>\n",
       "      <th>6</th>\n",
       "      <td>r40.0_tile6</td>\n",
       "      <td>POLYGON ((-70.00000 40.00000, -60.00000 40.000...</td>\n",
       "    </tr>\n",
       "    <tr>\n",
       "      <th>7</th>\n",
       "      <td>r50.0_tile7</td>\n",
       "      <td>POLYGON ((-130.00000 50.00000, -120.00000 50.0...</td>\n",
       "    </tr>\n",
       "    <tr>\n",
       "      <th>8</th>\n",
       "      <td>r50.0_tile8</td>\n",
       "      <td>POLYGON ((-120.00000 50.00000, -110.00000 50.0...</td>\n",
       "    </tr>\n",
       "    <tr>\n",
       "      <th>9</th>\n",
       "      <td>r50.0_tile9</td>\n",
       "      <td>POLYGON ((-110.00000 50.00000, -100.00000 50.0...</td>\n",
       "    </tr>\n",
       "    <tr>\n",
       "      <th>10</th>\n",
       "      <td>r50.0_tile10</td>\n",
       "      <td>POLYGON ((-100.00000 50.00000, -90.00000 50.00...</td>\n",
       "    </tr>\n",
       "    <tr>\n",
       "      <th>11</th>\n",
       "      <td>r50.0_tile11</td>\n",
       "      <td>POLYGON ((-90.00000 50.00000, -80.00000 50.000...</td>\n",
       "    </tr>\n",
       "    <tr>\n",
       "      <th>12</th>\n",
       "      <td>r50.0_tile12</td>\n",
       "      <td>POLYGON ((-80.00000 50.00000, -70.00000 50.000...</td>\n",
       "    </tr>\n",
       "    <tr>\n",
       "      <th>13</th>\n",
       "      <td>r50.0_tile13</td>\n",
       "      <td>POLYGON ((-70.00000 50.00000, -60.00000 50.000...</td>\n",
       "    </tr>\n",
       "    <tr>\n",
       "      <th>14</th>\n",
       "      <td>r50.0_tile14</td>\n",
       "      <td>POLYGON ((-60.00000 50.00000, -50.00000 50.000...</td>\n",
       "    </tr>\n",
       "  </tbody>\n",
       "</table>\n",
       "</div>"
      ],
      "text/plain": [
       "            name                                           geometry\n",
       "0    r40.0_tile0  POLYGON ((-130.00000 40.00000, -120.00000 40.0...\n",
       "1    r40.0_tile1  POLYGON ((-120.00000 40.00000, -110.00000 40.0...\n",
       "2    r40.0_tile2  POLYGON ((-110.00000 40.00000, -100.00000 40.0...\n",
       "3    r40.0_tile3  POLYGON ((-100.00000 40.00000, -90.00000 40.00...\n",
       "4    r40.0_tile4  POLYGON ((-90.00000 40.00000, -80.00000 40.000...\n",
       "5    r40.0_tile5  POLYGON ((-80.00000 40.00000, -70.00000 40.000...\n",
       "6    r40.0_tile6  POLYGON ((-70.00000 40.00000, -60.00000 40.000...\n",
       "7    r50.0_tile7  POLYGON ((-130.00000 50.00000, -120.00000 50.0...\n",
       "8    r50.0_tile8  POLYGON ((-120.00000 50.00000, -110.00000 50.0...\n",
       "9    r50.0_tile9  POLYGON ((-110.00000 50.00000, -100.00000 50.0...\n",
       "10  r50.0_tile10  POLYGON ((-100.00000 50.00000, -90.00000 50.00...\n",
       "11  r50.0_tile11  POLYGON ((-90.00000 50.00000, -80.00000 50.000...\n",
       "12  r50.0_tile12  POLYGON ((-80.00000 50.00000, -70.00000 50.000...\n",
       "13  r50.0_tile13  POLYGON ((-70.00000 50.00000, -60.00000 50.000...\n",
       "14  r50.0_tile14  POLYGON ((-60.00000 50.00000, -50.00000 50.000..."
      ]
     },
     "execution_count": 22,
     "metadata": {},
     "output_type": "execute_result"
    }
   ],
   "source": [
    "gdf"
   ]
  },
  {
   "cell_type": "code",
   "execution_count": 23,
   "metadata": {},
   "outputs": [],
   "source": [
    "with open('conus1_tiles.json', 'w') as f:\n",
    "    f.write(gdf.to_json())"
   ]
  },
  {
   "cell_type": "code",
   "execution_count": 24,
   "metadata": {},
   "outputs": [
    {
     "name": "stdout",
     "output_type": "stream",
     "text": [
      "0_Scorecard.ipynb  conus1_tiles.json  demofile3.txt  row40_tiles.json\r\n"
     ]
    }
   ],
   "source": [
    "!ls"
   ]
  },
  {
   "cell_type": "code",
   "execution_count": 25,
   "metadata": {},
   "outputs": [],
   "source": [
    "! ogr2ogr -f KML conus1.kml conus1_tiles.json"
   ]
  },
  {
   "cell_type": "code",
   "execution_count": null,
   "metadata": {},
   "outputs": [],
   "source": []
  }
 ],
 "metadata": {
  "kernelspec": {
   "display_name": "Python 3",
   "language": "python",
   "name": "python3"
  },
  "language_info": {
   "codemirror_mode": {
    "name": "ipython",
    "version": 3
   },
   "file_extension": ".py",
   "mimetype": "text/x-python",
   "name": "python",
   "nbconvert_exporter": "python",
   "pygments_lexer": "ipython3",
   "version": "3.7.3"
  }
 },
 "nbformat": 4,
 "nbformat_minor": 4
}
