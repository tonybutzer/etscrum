{
 "cells": [
  {
   "cell_type": "code",
   "execution_count": 1,
   "metadata": {},
   "outputs": [],
   "source": [
    "row_40N = {\n",
    "       'ul_lat' : 37.0,\n",
    "       'lr_lat' : 23.0,\n",
    "       'start_lon' : -125.0,\n",
    "       'end_lon' : -73.0,\n",
    "       'increment' : 13\n",
    "   }"
   ]
  },
  {
   "cell_type": "code",
   "execution_count": 2,
   "metadata": {},
   "outputs": [],
   "source": [
    "row_50N = {\n",
    "       'ul_lat' : 50.0,\n",
    "       'lr_lat' : 37.0,\n",
    "       'start_lon' : -125.0,\n",
    "       'end_lon' : -60.0,\n",
    "       'increment' : 13\n",
    "   }"
   ]
  },
  {
   "cell_type": "code",
   "execution_count": 3,
   "metadata": {},
   "outputs": [],
   "source": [
    "ros=[]\n",
    "ros.append(row_40N)\n",
    "ros.append(row_50N)"
   ]
  },
  {
   "cell_type": "code",
   "execution_count": 4,
   "metadata": {},
   "outputs": [
    {
     "name": "stdout",
     "output_type": "stream",
     "text": [
      "-125\n",
      "-112\n",
      "-99\n",
      "-86\n",
      "-73\n"
     ]
    }
   ],
   "source": [
    "#r0 = row_0_070N\n",
    "r0=row_40N\n",
    "for lonval in range(int(r0['start_lon']), int(r0['end_lon']+r0['increment']), r0['increment']):\n",
    "    print (lonval)"
   ]
  },
  {
   "cell_type": "code",
   "execution_count": 5,
   "metadata": {},
   "outputs": [],
   "source": [
    "   def make_poly(row_dict, ul_lon):\n",
    "    coord_list = []\n",
    "    r = row_dict\n",
    "    ul_lon_lat = [ul_lon, r['ul_lat']]\n",
    "    ur_lon_lat = [ul_lon + r['increment'], r['ul_lat']]\n",
    "    lr_lon_lat = [ul_lon + r['increment'], r['lr_lat']]\n",
    "    ll_lon_lat = [ul_lon, r['lr_lat']]\n",
    "    print (ul_lon_lat)\n",
    "    coord_list.append(ul_lon_lat)\n",
    "    print (ur_lon_lat)\n",
    "    coord_list.append(ur_lon_lat)\n",
    "    print (lr_lon_lat)\n",
    "    coord_list.append(lr_lon_lat)\n",
    "    print (ll_lon_lat)\n",
    "    coord_list.append(ll_lon_lat)\n",
    "    print (ul_lon_lat)\n",
    "    coord_list.append(ul_lon_lat)\n",
    "    return(coord_list)"
   ]
  },
  {
   "cell_type": "code",
   "execution_count": 6,
   "metadata": {},
   "outputs": [
    {
     "name": "stdout",
     "output_type": "stream",
     "text": [
      "[-130.0, 37.0]\n",
      "[-117.0, 37.0]\n",
      "[-117.0, 23.0]\n",
      "[-130.0, 23.0]\n",
      "[-130.0, 37.0]\n"
     ]
    }
   ],
   "source": [
    "ul_lon = -130.0\n",
    "coords = make_poly(r0, ul_lon)"
   ]
  },
  {
   "cell_type": "code",
   "execution_count": 7,
   "metadata": {},
   "outputs": [
    {
     "data": {
      "text/plain": [
       "[[-130.0, 37.0],\n",
       " [-117.0, 37.0],\n",
       " [-117.0, 23.0],\n",
       " [-130.0, 23.0],\n",
       " [-130.0, 37.0]]"
      ]
     },
     "execution_count": 7,
     "metadata": {},
     "output_type": "execute_result"
    }
   ],
   "source": [
    "coords"
   ]
  },
  {
   "cell_type": "code",
   "execution_count": 8,
   "metadata": {},
   "outputs": [],
   "source": [
    "polycs = []\n",
    "polycs.append(coords)"
   ]
  },
  {
   "cell_type": "code",
   "execution_count": 9,
   "metadata": {},
   "outputs": [],
   "source": [
    "import json\n",
    "geos = []\n",
    "for polyc in polycs:\n",
    "    poly = {\n",
    "        'type': 'Feature',\n",
    "        'properties': {},\n",
    "        'geometry': {\n",
    "            'type': 'Polygon',\n",
    "            'coordinates': [polyc]\n",
    "        }\n",
    "    }\n",
    "    geos.append(poly)\n",
    "\n",
    "geometries = {\n",
    "    'type': 'FeatureCollection',\n",
    "    'features': geos,\n",
    "}\n",
    "\n",
    "geo_str = json.dumps(geometries) "
   ]
  },
  {
   "cell_type": "code",
   "execution_count": 10,
   "metadata": {},
   "outputs": [
    {
     "data": {
      "text/plain": [
       "'{\"type\": \"FeatureCollection\", \"features\": [{\"type\": \"Feature\", \"properties\": {}, \"geometry\": {\"type\": \"Polygon\", \"coordinates\": [[[-130.0, 37.0], [-117.0, 37.0], [-117.0, 23.0], [-130.0, 23.0], [-130.0, 37.0]]]}}]}'"
      ]
     },
     "execution_count": 10,
     "metadata": {},
     "output_type": "execute_result"
    }
   ],
   "source": [
    "geo_str"
   ]
  },
  {
   "cell_type": "code",
   "execution_count": 11,
   "metadata": {},
   "outputs": [
    {
     "name": "stdout",
     "output_type": "stream",
     "text": [
      "('{\"type\": \"FeatureCollection\", \"features\": [{\"type\": \"Feature\", \"properties\": '\n",
      " '{}, \"geometry\": {\"type\": \"Polygon\", \"coordinates\": [[[-130.0, 37.0], '\n",
      " '[-117.0, 37.0], [-117.0, 23.0], [-130.0, 23.0], [-130.0, 37.0]]]}}]}')\n"
     ]
    }
   ],
   "source": [
    "import pprint\n",
    "pp = pprint.PrettyPrinter()\n",
    "pp.pprint(geo_str)"
   ]
  },
  {
   "cell_type": "code",
   "execution_count": 12,
   "metadata": {},
   "outputs": [
    {
     "name": "stdout",
     "output_type": "stream",
     "text": [
      "{ 'features': [ { 'geometry': { 'coordinates': [ [ [-130.0, 37.0],\n",
      "                                                   [-117.0, 37.0],\n",
      "                                                   [-117.0, 23.0],\n",
      "                                                   [-130.0, 23.0],\n",
      "                                                   [-130.0, 37.0]]],\n",
      "                                'type': 'Polygon'},\n",
      "                  'properties': {},\n",
      "                  'type': 'Feature'}],\n",
      "  'type': 'FeatureCollection'}\n"
     ]
    }
   ],
   "source": [
    "pp = pprint.PrettyPrinter(indent=2)\n",
    "pp.pprint(geometries)"
   ]
  },
  {
   "cell_type": "code",
   "execution_count": 13,
   "metadata": {},
   "outputs": [
    {
     "name": "stdout",
     "output_type": "stream",
     "text": [
      "{\"type\": \"FeatureCollection\", \"features\": [{\"type\": \"Feature\", \"properties\": {}, \"geometry\": {\"type\": \"Polygon\", \"coordinates\": [[[-130.0, 37.0], [-117.0, 37.0], [-117.0, 23.0], [-130.0, 23.0], [-130.0, 37.0]]]}}]}\n"
     ]
    }
   ],
   "source": [
    "f = open(\"demofile3.txt\", \"w\")\n",
    "f.write(geo_str)\n",
    "f.close()\n",
    "\n",
    "#open and read the file after the appending:\n",
    "f = open(\"demofile3.txt\", \"r\")\n",
    "print(f.read())"
   ]
  },
  {
   "cell_type": "code",
   "execution_count": 14,
   "metadata": {},
   "outputs": [
    {
     "name": "stdout",
     "output_type": "stream",
     "text": [
      "{\r\n",
      "    \"type\": \"FeatureCollection\",\r\n",
      "    \"features\": [\r\n",
      "        {\r\n",
      "            \"type\": \"Feature\",\r\n",
      "            \"properties\": {},\r\n",
      "            \"geometry\": {\r\n",
      "                \"type\": \"Polygon\",\r\n",
      "                \"coordinates\": [\r\n",
      "                    [\r\n",
      "                        [\r\n",
      "                            -130.0,\r\n",
      "                            37.0\r\n",
      "                        ],\r\n",
      "                        [\r\n",
      "                            -117.0,\r\n",
      "                            37.0\r\n",
      "                        ],\r\n",
      "                        [\r\n",
      "                            -117.0,\r\n",
      "                            23.0\r\n",
      "                        ],\r\n",
      "                        [\r\n",
      "                            -130.0,\r\n",
      "                            23.0\r\n",
      "                        ],\r\n",
      "                        [\r\n",
      "                            -130.0,\r\n",
      "                            37.0\r\n",
      "                        ]\r\n",
      "                    ]\r\n",
      "                ]\r\n",
      "            }\r\n",
      "        }\r\n",
      "    ]\r\n",
      "}\r\n"
     ]
    }
   ],
   "source": [
    "! cat demofile3.txt | python3 -m json.tool"
   ]
  },
  {
   "cell_type": "code",
   "execution_count": 15,
   "metadata": {},
   "outputs": [
    {
     "name": "stdout",
     "output_type": "stream",
     "text": [
      "-125\n",
      "[-125, 37.0]\n",
      "[-112, 37.0]\n",
      "[-112, 23.0]\n",
      "[-125, 23.0]\n",
      "[-125, 37.0]\n",
      "-112\n",
      "[-112, 37.0]\n",
      "[-99, 37.0]\n",
      "[-99, 23.0]\n",
      "[-112, 23.0]\n",
      "[-112, 37.0]\n",
      "-99\n",
      "[-99, 37.0]\n",
      "[-86, 37.0]\n",
      "[-86, 23.0]\n",
      "[-99, 23.0]\n",
      "[-99, 37.0]\n",
      "-86\n",
      "[-86, 37.0]\n",
      "[-73, 37.0]\n",
      "[-73, 23.0]\n",
      "[-86, 23.0]\n",
      "[-86, 37.0]\n",
      "-73\n",
      "[-73, 37.0]\n",
      "[-60, 37.0]\n",
      "[-60, 23.0]\n",
      "[-73, 23.0]\n",
      "[-73, 37.0]\n",
      "-125\n",
      "[-125, 50.0]\n",
      "[-112, 50.0]\n",
      "[-112, 37.0]\n",
      "[-125, 37.0]\n",
      "[-125, 50.0]\n",
      "-112\n",
      "[-112, 50.0]\n",
      "[-99, 50.0]\n",
      "[-99, 37.0]\n",
      "[-112, 37.0]\n",
      "[-112, 50.0]\n",
      "-99\n",
      "[-99, 50.0]\n",
      "[-86, 50.0]\n",
      "[-86, 37.0]\n",
      "[-99, 37.0]\n",
      "[-99, 50.0]\n",
      "-86\n",
      "[-86, 50.0]\n",
      "[-73, 50.0]\n",
      "[-73, 37.0]\n",
      "[-86, 37.0]\n",
      "[-86, 50.0]\n",
      "-73\n",
      "[-73, 50.0]\n",
      "[-60, 50.0]\n",
      "[-60, 37.0]\n",
      "[-73, 37.0]\n",
      "[-73, 50.0]\n",
      "-60\n",
      "[-60, 50.0]\n",
      "[-47, 50.0]\n",
      "[-47, 37.0]\n",
      "[-60, 37.0]\n",
      "[-60, 50.0]\n"
     ]
    }
   ],
   "source": [
    "polycs = []\n",
    "for r0 in ros:\n",
    "    for lonval in range(int(r0['start_lon']), int(r0['end_lon']+r0['increment']), r0['increment']):\n",
    "        print (lonval)\n",
    "        coords = make_poly(r0, lonval)\n",
    "        polycs.append(coords)"
   ]
  },
  {
   "cell_type": "code",
   "execution_count": 16,
   "metadata": {},
   "outputs": [],
   "source": [
    "import json\n",
    "geos = []\n",
    "for polyc in polycs:\n",
    "    poly = {\n",
    "        'type': 'Feature',\n",
    "        'properties': {},\n",
    "        'geometry': {\n",
    "            'type': 'Polygon',\n",
    "            'coordinates': [polyc]\n",
    "        }\n",
    "    }\n",
    "    geos.append(poly)\n",
    "\n",
    "geometries = {\n",
    "    'type': 'FeatureCollection',\n",
    "    'features': geos,\n",
    "}\n",
    "\n",
    "geo_str = json.dumps(geometries) "
   ]
  },
  {
   "cell_type": "code",
   "execution_count": 17,
   "metadata": {},
   "outputs": [
    {
     "data": {
      "text/plain": [
       "'{\"type\": \"FeatureCollection\", \"features\": [{\"type\": \"Feature\", \"properties\": {}, \"geometry\": {\"type\": \"Polygon\", \"coordinates\": [[[-125, 37.0], [-112, 37.0], [-112, 23.0], [-125, 23.0], [-125, 37.0]]]}}, {\"type\": \"Feature\", \"properties\": {}, \"geometry\": {\"type\": \"Polygon\", \"coordinates\": [[[-112, 37.0], [-99, 37.0], [-99, 23.0], [-112, 23.0], [-112, 37.0]]]}}, {\"type\": \"Feature\", \"properties\": {}, \"geometry\": {\"type\": \"Polygon\", \"coordinates\": [[[-99, 37.0], [-86, 37.0], [-86, 23.0], [-99, 23.0], [-99, 37.0]]]}}, {\"type\": \"Feature\", \"properties\": {}, \"geometry\": {\"type\": \"Polygon\", \"coordinates\": [[[-86, 37.0], [-73, 37.0], [-73, 23.0], [-86, 23.0], [-86, 37.0]]]}}, {\"type\": \"Feature\", \"properties\": {}, \"geometry\": {\"type\": \"Polygon\", \"coordinates\": [[[-73, 37.0], [-60, 37.0], [-60, 23.0], [-73, 23.0], [-73, 37.0]]]}}, {\"type\": \"Feature\", \"properties\": {}, \"geometry\": {\"type\": \"Polygon\", \"coordinates\": [[[-125, 50.0], [-112, 50.0], [-112, 37.0], [-125, 37.0], [-125, 50.0]]]}}, {\"type\": \"Feature\", \"properties\": {}, \"geometry\": {\"type\": \"Polygon\", \"coordinates\": [[[-112, 50.0], [-99, 50.0], [-99, 37.0], [-112, 37.0], [-112, 50.0]]]}}, {\"type\": \"Feature\", \"properties\": {}, \"geometry\": {\"type\": \"Polygon\", \"coordinates\": [[[-99, 50.0], [-86, 50.0], [-86, 37.0], [-99, 37.0], [-99, 50.0]]]}}, {\"type\": \"Feature\", \"properties\": {}, \"geometry\": {\"type\": \"Polygon\", \"coordinates\": [[[-86, 50.0], [-73, 50.0], [-73, 37.0], [-86, 37.0], [-86, 50.0]]]}}, {\"type\": \"Feature\", \"properties\": {}, \"geometry\": {\"type\": \"Polygon\", \"coordinates\": [[[-73, 50.0], [-60, 50.0], [-60, 37.0], [-73, 37.0], [-73, 50.0]]]}}, {\"type\": \"Feature\", \"properties\": {}, \"geometry\": {\"type\": \"Polygon\", \"coordinates\": [[[-60, 50.0], [-47, 50.0], [-47, 37.0], [-60, 37.0], [-60, 50.0]]]}}]}'"
      ]
     },
     "execution_count": 17,
     "metadata": {},
     "output_type": "execute_result"
    }
   ],
   "source": [
    "geo_str"
   ]
  },
  {
   "cell_type": "code",
   "execution_count": 18,
   "metadata": {},
   "outputs": [
    {
     "name": "stdout",
     "output_type": "stream",
     "text": [
      "[[-125, 37.0], [-112, 37.0], [-112, 23.0], [-125, 23.0], [-125, 37.0]]\n",
      "1\n",
      "[[-112, 37.0], [-99, 37.0], [-99, 23.0], [-112, 23.0], [-112, 37.0]]\n",
      "2\n",
      "[[-99, 37.0], [-86, 37.0], [-86, 23.0], [-99, 23.0], [-99, 37.0]]\n",
      "3\n",
      "[[-86, 37.0], [-73, 37.0], [-73, 23.0], [-86, 23.0], [-86, 37.0]]\n",
      "4\n",
      "[[-73, 37.0], [-60, 37.0], [-60, 23.0], [-73, 23.0], [-73, 37.0]]\n",
      "5\n",
      "[[-125, 50.0], [-112, 50.0], [-112, 37.0], [-125, 37.0], [-125, 50.0]]\n",
      "6\n",
      "[[-112, 50.0], [-99, 50.0], [-99, 37.0], [-112, 37.0], [-112, 50.0]]\n",
      "7\n",
      "[[-99, 50.0], [-86, 50.0], [-86, 37.0], [-99, 37.0], [-99, 50.0]]\n",
      "8\n",
      "[[-86, 50.0], [-73, 50.0], [-73, 37.0], [-86, 37.0], [-86, 50.0]]\n",
      "9\n",
      "[[-73, 50.0], [-60, 50.0], [-60, 37.0], [-73, 37.0], [-73, 50.0]]\n",
      "10\n",
      "[[-60, 50.0], [-47, 50.0], [-47, 37.0], [-60, 37.0], [-60, 50.0]]\n",
      "11\n"
     ]
    }
   ],
   "source": [
    "from shapely.geometry import Polygon \n",
    "\n",
    "ginput=[]\n",
    "d={}\n",
    "i=0\n",
    "for polyc in polycs:\n",
    "    print(polyc)\n",
    "    d={}\n",
    "    poly=Polygon(polyc)\n",
    "    r=polyc[0][1]\n",
    "    d['name']=f'r{r}_tile{i}'\n",
    "    i=i+1\n",
    "    print(i)\n",
    "    d['geometry']=poly\n",
    "    ginput.append(d)\n",
    "    \n"
   ]
  },
  {
   "cell_type": "code",
   "execution_count": 19,
   "metadata": {},
   "outputs": [
    {
     "name": "stdout",
     "output_type": "stream",
     "text": [
      "[{'name': 'r37.0_tile0', 'geometry': <shapely.geometry.polygon.Polygon object at 0x7fbb480e7198>}, {'name': 'r37.0_tile1', 'geometry': <shapely.geometry.polygon.Polygon object at 0x7fbb480e7b00>}, {'name': 'r37.0_tile2', 'geometry': <shapely.geometry.polygon.Polygon object at 0x7fbb164776d8>}, {'name': 'r37.0_tile3', 'geometry': <shapely.geometry.polygon.Polygon object at 0x7fbb16477828>}, {'name': 'r37.0_tile4', 'geometry': <shapely.geometry.polygon.Polygon object at 0x7fbb16477cc0>}, {'name': 'r50.0_tile5', 'geometry': <shapely.geometry.polygon.Polygon object at 0x7fbb16477d30>}, {'name': 'r50.0_tile6', 'geometry': <shapely.geometry.polygon.Polygon object at 0x7fbb16477da0>}, {'name': 'r50.0_tile7', 'geometry': <shapely.geometry.polygon.Polygon object at 0x7fbb16477e80>}, {'name': 'r50.0_tile8', 'geometry': <shapely.geometry.polygon.Polygon object at 0x7fbb16477f28>}, {'name': 'r50.0_tile9', 'geometry': <shapely.geometry.polygon.Polygon object at 0x7fbb16477f98>}, {'name': 'r50.0_tile10', 'geometry': <shapely.geometry.polygon.Polygon object at 0x7fbb16477fd0>}]\n"
     ]
    }
   ],
   "source": [
    "print(ginput)"
   ]
  },
  {
   "cell_type": "code",
   "execution_count": 20,
   "metadata": {},
   "outputs": [
    {
     "name": "stdout",
     "output_type": "stream",
     "text": [
      "POLYGON ((-60 50, -47 50, -47 37, -60 37, -60 50))\n"
     ]
    }
   ],
   "source": [
    "print(poly)"
   ]
  },
  {
   "cell_type": "code",
   "execution_count": 21,
   "metadata": {},
   "outputs": [],
   "source": [
    "import geopandas as gpd\n",
    "\n",
    "gdf = gpd.GeoDataFrame(ginput)"
   ]
  },
  {
   "cell_type": "code",
   "execution_count": 22,
   "metadata": {},
   "outputs": [
    {
     "data": {
      "text/html": [
       "<div>\n",
       "<style scoped>\n",
       "    .dataframe tbody tr th:only-of-type {\n",
       "        vertical-align: middle;\n",
       "    }\n",
       "\n",
       "    .dataframe tbody tr th {\n",
       "        vertical-align: top;\n",
       "    }\n",
       "\n",
       "    .dataframe thead th {\n",
       "        text-align: right;\n",
       "    }\n",
       "</style>\n",
       "<table border=\"1\" class=\"dataframe\">\n",
       "  <thead>\n",
       "    <tr style=\"text-align: right;\">\n",
       "      <th></th>\n",
       "      <th>name</th>\n",
       "      <th>geometry</th>\n",
       "    </tr>\n",
       "  </thead>\n",
       "  <tbody>\n",
       "    <tr>\n",
       "      <th>0</th>\n",
       "      <td>r37.0_tile0</td>\n",
       "      <td>POLYGON ((-125.00000 37.00000, -112.00000 37.0...</td>\n",
       "    </tr>\n",
       "    <tr>\n",
       "      <th>1</th>\n",
       "      <td>r37.0_tile1</td>\n",
       "      <td>POLYGON ((-112.00000 37.00000, -99.00000 37.00...</td>\n",
       "    </tr>\n",
       "    <tr>\n",
       "      <th>2</th>\n",
       "      <td>r37.0_tile2</td>\n",
       "      <td>POLYGON ((-99.00000 37.00000, -86.00000 37.000...</td>\n",
       "    </tr>\n",
       "    <tr>\n",
       "      <th>3</th>\n",
       "      <td>r37.0_tile3</td>\n",
       "      <td>POLYGON ((-86.00000 37.00000, -73.00000 37.000...</td>\n",
       "    </tr>\n",
       "    <tr>\n",
       "      <th>4</th>\n",
       "      <td>r37.0_tile4</td>\n",
       "      <td>POLYGON ((-73.00000 37.00000, -60.00000 37.000...</td>\n",
       "    </tr>\n",
       "    <tr>\n",
       "      <th>5</th>\n",
       "      <td>r50.0_tile5</td>\n",
       "      <td>POLYGON ((-125.00000 50.00000, -112.00000 50.0...</td>\n",
       "    </tr>\n",
       "    <tr>\n",
       "      <th>6</th>\n",
       "      <td>r50.0_tile6</td>\n",
       "      <td>POLYGON ((-112.00000 50.00000, -99.00000 50.00...</td>\n",
       "    </tr>\n",
       "    <tr>\n",
       "      <th>7</th>\n",
       "      <td>r50.0_tile7</td>\n",
       "      <td>POLYGON ((-99.00000 50.00000, -86.00000 50.000...</td>\n",
       "    </tr>\n",
       "    <tr>\n",
       "      <th>8</th>\n",
       "      <td>r50.0_tile8</td>\n",
       "      <td>POLYGON ((-86.00000 50.00000, -73.00000 50.000...</td>\n",
       "    </tr>\n",
       "    <tr>\n",
       "      <th>9</th>\n",
       "      <td>r50.0_tile9</td>\n",
       "      <td>POLYGON ((-73.00000 50.00000, -60.00000 50.000...</td>\n",
       "    </tr>\n",
       "    <tr>\n",
       "      <th>10</th>\n",
       "      <td>r50.0_tile10</td>\n",
       "      <td>POLYGON ((-60.00000 50.00000, -47.00000 50.000...</td>\n",
       "    </tr>\n",
       "  </tbody>\n",
       "</table>\n",
       "</div>"
      ],
      "text/plain": [
       "            name                                           geometry\n",
       "0    r37.0_tile0  POLYGON ((-125.00000 37.00000, -112.00000 37.0...\n",
       "1    r37.0_tile1  POLYGON ((-112.00000 37.00000, -99.00000 37.00...\n",
       "2    r37.0_tile2  POLYGON ((-99.00000 37.00000, -86.00000 37.000...\n",
       "3    r37.0_tile3  POLYGON ((-86.00000 37.00000, -73.00000 37.000...\n",
       "4    r37.0_tile4  POLYGON ((-73.00000 37.00000, -60.00000 37.000...\n",
       "5    r50.0_tile5  POLYGON ((-125.00000 50.00000, -112.00000 50.0...\n",
       "6    r50.0_tile6  POLYGON ((-112.00000 50.00000, -99.00000 50.00...\n",
       "7    r50.0_tile7  POLYGON ((-99.00000 50.00000, -86.00000 50.000...\n",
       "8    r50.0_tile8  POLYGON ((-86.00000 50.00000, -73.00000 50.000...\n",
       "9    r50.0_tile9  POLYGON ((-73.00000 50.00000, -60.00000 50.000...\n",
       "10  r50.0_tile10  POLYGON ((-60.00000 50.00000, -47.00000 50.000..."
      ]
     },
     "execution_count": 22,
     "metadata": {},
     "output_type": "execute_result"
    }
   ],
   "source": [
    "gdf"
   ]
  },
  {
   "cell_type": "code",
   "execution_count": 23,
   "metadata": {},
   "outputs": [],
   "source": [
    "with open('conus1_tiles.json', 'w') as f:\n",
    "    f.write(gdf.to_json())"
   ]
  },
  {
   "cell_type": "code",
   "execution_count": 24,
   "metadata": {},
   "outputs": [
    {
     "name": "stdout",
     "output_type": "stream",
     "text": [
      "0_Scorecard_15x13.ipynb  conus1_tiles.json  row40_tiles.json\r\n",
      "conus1.kml\t\t demofile3.txt\r\n"
     ]
    }
   ],
   "source": [
    "!ls"
   ]
  },
  {
   "cell_type": "code",
   "execution_count": 25,
   "metadata": {},
   "outputs": [],
   "source": [
    "! ogr2ogr -f KML conus1.kml conus1_tiles.json"
   ]
  },
  {
   "cell_type": "code",
   "execution_count": 26,
   "metadata": {},
   "outputs": [
    {
     "name": "stdout",
     "output_type": "stream",
     "text": [
      "0_Scorecard_15x13.ipynb  conus1_tiles.json  row40_tiles.json\r\n",
      "conus1.kml\t\t demofile3.txt\r\n"
     ]
    }
   ],
   "source": [
    "!ls"
   ]
  },
  {
   "cell_type": "code",
   "execution_count": 28,
   "metadata": {},
   "outputs": [],
   "source": [
    "fav_tile = 'r37.0_tile1'\n",
    "\n",
    "fav_gdf = gdf.loc[gdf['name'] == fav_tile]"
   ]
  },
  {
   "cell_type": "code",
   "execution_count": 29,
   "metadata": {},
   "outputs": [
    {
     "data": {
      "text/html": [
       "<div>\n",
       "<style scoped>\n",
       "    .dataframe tbody tr th:only-of-type {\n",
       "        vertical-align: middle;\n",
       "    }\n",
       "\n",
       "    .dataframe tbody tr th {\n",
       "        vertical-align: top;\n",
       "    }\n",
       "\n",
       "    .dataframe thead th {\n",
       "        text-align: right;\n",
       "    }\n",
       "</style>\n",
       "<table border=\"1\" class=\"dataframe\">\n",
       "  <thead>\n",
       "    <tr style=\"text-align: right;\">\n",
       "      <th></th>\n",
       "      <th>name</th>\n",
       "      <th>geometry</th>\n",
       "    </tr>\n",
       "  </thead>\n",
       "  <tbody>\n",
       "    <tr>\n",
       "      <th>1</th>\n",
       "      <td>r37.0_tile1</td>\n",
       "      <td>POLYGON ((-112.00000 37.00000, -99.00000 37.00...</td>\n",
       "    </tr>\n",
       "  </tbody>\n",
       "</table>\n",
       "</div>"
      ],
      "text/plain": [
       "          name                                           geometry\n",
       "1  r37.0_tile1  POLYGON ((-112.00000 37.00000, -99.00000 37.00..."
      ]
     },
     "execution_count": 29,
     "metadata": {},
     "output_type": "execute_result"
    }
   ],
   "source": [
    "fav_gdf"
   ]
  },
  {
   "cell_type": "code",
   "execution_count": 33,
   "metadata": {},
   "outputs": [],
   "source": [
    "fav_gdf.to_file('favshape')"
   ]
  },
  {
   "cell_type": "code",
   "execution_count": 35,
   "metadata": {},
   "outputs": [
    {
     "name": "stdout",
     "output_type": "stream",
     "text": [
      "favshape.cpg  favshape.dbf  favshape.shp  favshape.shx\r\n"
     ]
    }
   ],
   "source": [
    "! ls favshape"
   ]
  },
  {
   "cell_type": "code",
   "execution_count": 36,
   "metadata": {},
   "outputs": [],
   "source": [
    "json_str = fav_gdf.to_json()"
   ]
  },
  {
   "cell_type": "code",
   "execution_count": 37,
   "metadata": {},
   "outputs": [
    {
     "data": {
      "text/plain": [
       "'{\"type\": \"FeatureCollection\", \"features\": [{\"id\": \"1\", \"type\": \"Feature\", \"properties\": {\"name\": \"r37.0_tile1\"}, \"geometry\": {\"type\": \"Polygon\", \"coordinates\": [[[-112.0, 37.0], [-99.0, 37.0], [-99.0, 23.0], [-112.0, 23.0], [-112.0, 37.0]]]}}]}'"
      ]
     },
     "execution_count": 37,
     "metadata": {},
     "output_type": "execute_result"
    }
   ],
   "source": [
    "json_str"
   ]
  },
  {
   "cell_type": "code",
   "execution_count": 38,
   "metadata": {},
   "outputs": [],
   "source": [
    "with open('favtile.json', 'w') as json_file:\n",
    "  json_file.write(json_str)"
   ]
  },
  {
   "cell_type": "code",
   "execution_count": 39,
   "metadata": {},
   "outputs": [
    {
     "name": "stdout",
     "output_type": "stream",
     "text": [
      "0_Scorecard_15x13.ipynb  conus1_tiles.json  favshape\t  row40_tiles.json\r\n",
      "conus1.kml\t\t demofile3.txt\t    favtile.json\r\n"
     ]
    }
   ],
   "source": [
    "!ls"
   ]
  },
  {
   "cell_type": "code",
   "execution_count": 41,
   "metadata": {},
   "outputs": [
    {
     "name": "stdout",
     "output_type": "stream",
     "text": [
      "{\"type\": \"FeatureCollection\", \"features\": [{\"id\": \"1\", \"type\": \"Feature\", \"properties\": {\"name\": \"r37.0_tile1\"}, \"geometry\": {\"type\": \"Polygon\", \"coordinates\": [[[-112.0, 37.0], [-99.0, 37.0], [-99.0, 23.0], [-112.0, 23.0], [-112.0, 37.0]]]}}]}"
     ]
    }
   ],
   "source": [
    "!cat favtile.json"
   ]
  },
  {
   "cell_type": "code",
   "execution_count": 42,
   "metadata": {},
   "outputs": [],
   "source": [
    "! mkdir -p tile_aoi"
   ]
  },
  {
   "cell_type": "code",
   "execution_count": 53,
   "metadata": {},
   "outputs": [],
   "source": [
    "def make_geojsons(directory, geodf):\n",
    "    for i,row in geodf.iterrows():\n",
    "        print(i)\n",
    "        tile_name = row['name']\n",
    "        print(tile_name)\n",
    "        lgdf = fav_gdf = gdf.loc[gdf['name'] == tile_name]\n",
    "        json_str = lgdf.to_json()\n",
    "        with open(f'{directory}/{tile_name}.geojson', 'w') as json_file:\n",
    "            json_file.write(json_str)"
   ]
  },
  {
   "cell_type": "code",
   "execution_count": 54,
   "metadata": {},
   "outputs": [
    {
     "name": "stdout",
     "output_type": "stream",
     "text": [
      "0\n",
      "r37.0_tile0\n",
      "1\n",
      "r37.0_tile1\n",
      "2\n",
      "r37.0_tile2\n",
      "3\n",
      "r37.0_tile3\n",
      "4\n",
      "r37.0_tile4\n",
      "5\n",
      "r50.0_tile5\n",
      "6\n",
      "r50.0_tile6\n",
      "7\n",
      "r50.0_tile7\n",
      "8\n",
      "r50.0_tile8\n",
      "9\n",
      "r50.0_tile9\n",
      "10\n",
      "r50.0_tile10\n"
     ]
    }
   ],
   "source": [
    "directory ='./tile_aoi'\n",
    "\n",
    "make_geojsons(directory, gdf)"
   ]
  },
  {
   "cell_type": "code",
   "execution_count": 55,
   "metadata": {},
   "outputs": [
    {
     "name": "stdout",
     "output_type": "stream",
     "text": [
      "r37.0_tile0.geojson  r37.0_tile4.geojson   r50.0_tile7.geojson\r\n",
      "r37.0_tile1.geojson  r50.0_tile10.geojson  r50.0_tile8.geojson\r\n",
      "r37.0_tile2.geojson  r50.0_tile5.geojson   r50.0_tile9.geojson\r\n",
      "r37.0_tile3.geojson  r50.0_tile6.geojson\r\n"
     ]
    }
   ],
   "source": [
    "! ls tile_aoi/"
   ]
  },
  {
   "cell_type": "code",
   "execution_count": null,
   "metadata": {},
   "outputs": [],
   "source": []
  }
 ],
 "metadata": {
  "kernelspec": {
   "display_name": "Python 3",
   "language": "python",
   "name": "python3"
  },
  "language_info": {
   "codemirror_mode": {
    "name": "ipython",
    "version": 3
   },
   "file_extension": ".py",
   "mimetype": "text/x-python",
   "name": "python",
   "nbconvert_exporter": "python",
   "pygments_lexer": "ipython3",
   "version": "3.7.3"
  }
 },
 "nbformat": 4,
 "nbformat_minor": 4
}
