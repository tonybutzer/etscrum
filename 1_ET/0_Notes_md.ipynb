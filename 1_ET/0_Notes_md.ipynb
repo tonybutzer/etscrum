{
 "cells": [
  {
   "cell_type": "markdown",
   "metadata": {},
   "source": [
    "# 3/12/2021\n",
    "\n",
    "- cleanup s3 bucket enduser and out\n",
    "- get yml file from steff\n",
    "- save old dropbox stuff as drb_dropbox\n",
    "- start building the etops docker image for 10 degree tiles\n",
    "- build tile scorecard notebook\n",
    "    - find prior art\n",
    "- verify inputs\n",
    "    - "
   ]
  },
  {
   "cell_type": "markdown",
   "metadata": {},
   "source": [
    "# 3/11/2021\n",
    "\n",
    "- Logan an Olena to master code.usgs.gov\n",
    "    - elicit Kelcy Smiths help if necessary\n",
    "    \n",
    "## I think eroslab gitlab is going away - not sure"
   ]
  },
  {
   "cell_type": "code",
   "execution_count": null,
   "metadata": {},
   "outputs": [],
   "source": []
  }
 ],
 "metadata": {
  "kernelspec": {
   "display_name": "Python 3",
   "language": "python",
   "name": "python3"
  },
  "language_info": {
   "codemirror_mode": {
    "name": "ipython",
    "version": 3
   },
   "file_extension": ".py",
   "mimetype": "text/x-python",
   "name": "python",
   "nbconvert_exporter": "python",
   "pygments_lexer": "ipython3",
   "version": "3.7.3"
  }
 },
 "nbformat": 4,
 "nbformat_minor": 4
}
