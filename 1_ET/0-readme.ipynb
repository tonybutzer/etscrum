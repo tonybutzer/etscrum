{
 "cells": [
  {
   "cell_type": "code",
   "execution_count": 1,
   "metadata": {},
   "outputs": [
    {
     "data": {
      "text/markdown": [
       "# High Level WBS\n",
       "\n",
       "## US CONUS 20 Years by June\n",
       "\n",
       "### S3 Data Organization and Conus Inputs\n",
       "\n",
       "- steffi and olena - to get input data ready for conus\n",
       "- `cleanup all old s3 bucket data`\n",
       "    - push to netapp if you want to keep this data - use the vdi and scp and s3fs mounts\n",
       "    - **learn aws s3 rm --recursive --dryrun**\n",
       "    - learn to use tmux\n",
       "    - setup ubuntu ssh keys for olena\n",
       "\n",
       "### Code preparation and refinements\n",
       "\n",
       "- deal with gridmeister sprawl\n",
       "- clone the repo and organize the code\n",
       "- run the model for 3 years one tile\n",
       "- WAIT for data wrangle and data cleanup activities\n",
       "- refine logging\n",
       "- refine orchestration\n",
       "- `build tile tracker`\n",
       "- run path_param.yml - extent analyzer notebook - find this notebook and organize into conus-veget repo\n",
       "\n",
       "\n",
       "### Code delivery and handoff back to Stef\n",
       "\n",
       "### Data push to netapp and/or Denali\n",
       "\n",
       "### DevOps/Tony transition to Compositing and LCMAP projects\n",
       "\n",
       "### Project completion of landsat funded ET\n"
      ],
      "text/plain": [
       "<IPython.core.display.Markdown object>"
      ]
     },
     "metadata": {},
     "output_type": "display_data"
    }
   ],
   "source": [
    "from IPython.display import display, Markdown\n",
    "\n",
    "with open('0_wbs.md', 'r') as fh:\n",
    "    content = fh.read()\n",
    "\n",
    "display(Markdown(content))"
   ]
  },
  {
   "cell_type": "code",
   "execution_count": null,
   "metadata": {},
   "outputs": [],
   "source": []
  }
 ],
 "metadata": {
  "kernelspec": {
   "display_name": "Python 3",
   "language": "python",
   "name": "python3"
  },
  "language_info": {
   "codemirror_mode": {
    "name": "ipython",
    "version": 3
   },
   "file_extension": ".py",
   "mimetype": "text/x-python",
   "name": "python",
   "nbconvert_exporter": "python",
   "pygments_lexer": "ipython3",
   "version": "3.7.3"
  }
 },
 "nbformat": 4,
 "nbformat_minor": 4
}
