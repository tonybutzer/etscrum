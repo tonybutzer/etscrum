{
 "cells": [
  {
   "cell_type": "markdown",
   "metadata": {},
   "source": [
    "# Why - from Woods Hole\n",
    "https://marine.usgs.gov/coastalchangehazardsportal/\n",
    "\n",
    "    “Science, not operations. Changing, not fixed. And the world, not local. We want to get to a flexible computing platform that lets us pay only for what we use, but lets us use whatever we want. Lets us experiment, lets us scale, lets us not wait in queues, and lets us do our research as efficiently and effectively as we can. And a platform where we can join other agencies and partners from around the world to share data, tools and approaches to help understand and protect our planet. This is what the Cloud has to offer.” – Rob Thieler, Center Director, USGS WHCMSC, remarks delivered at the NHMA Fall 2020 meeting\n",
    "    \n",
    "![](https://prd-wret.s3.us-west-2.amazonaws.com/assets/palladium/production/s3fs-public/styles/side_image/public/thumbnails/image/Rob-Thieler.jpg)\n",
    "\n",
    "https://marine.usgs.gov/coastalchangehazardsportal/\n",
    "\n",
    "\n",
    "# Also Why\n",
    "\n",
    "- ### Cloud First\n",
    "- ### Consistent with Pete Doucette's Vision\n",
    "- ### Terry Sohl part of the OpenDataCube and Pangeo working group\n",
    "\n",
    "\n",
    "\n",
    "## Cloud Benefits - McGill University\n",
    "\n",
    "### Benefits of storing data in the cloud\n",
    "\n",
    "- ### Large storage capacity: \n",
    "    - You can get virtually unlimited amounts of storage space for free or cheap.\n",
    "- ### Access files anywhere: \n",
    "    - You can easily access and synchronize your data from multiple devices anywhere in the world.\n",
    "- ### Share and collaborate: \n",
    "    - It's easy to share your information with others and control permissions to view or edit files.\n",
    "- ### Productivity: \n",
    "    - Cloud services can help you be more productive and effective.\n",
    "    \n",
    "\n",
    "# Water and Fews Synergies\n",
    "\n",
    "- Steffi Kagone - is attracting talent and scaling water science\n",
    "    - Talent: Olena Boiko, Claudia Young, Maxwell Mc..., Logan Megard, Neal Pastick, Pat Danielson\n",
    "- Proven Results\n",
    "    - 150 Year Model for Evapotranspiration\n",
    "    - 70 Years with different variables being tested and QA validated\n",
    "    - CONUS and Globe now in scope.\n",
    "    \n",
    "    \n",
    "# Meeting Objective\n",
    "\n",
    "Get an toe-hold in CHS/AWS cloud for the next set of milestones\n",
    "\n",
    "# Vision\n",
    "\n",
    "- make science fast and fun - and btw - effective and responsive and accurate\n",
    "- no more old stale data\n",
    "- move rapidly away from clunky portals and dark repositories of data\n",
    "- move away from old hampered infrastructure\n",
    "- break down silos of knowledge - cloud meets remote sensing based science is a big bite.\n",
    "- collaborate and then collaborate some more\n",
    "\n",
    "![](https://raw.githubusercontent.com/tonybutzer/harmony-docs/62b342f3367fc4ef625221cf7808191427dc4b23/documentation/source/Assets/early-adopt.PNG)\n"
   ]
  },
  {
   "cell_type": "markdown",
   "metadata": {},
   "source": [
    "# Execution - Sunne\n",
    "\n",
    "- Establish a waterFEWS account\n",
    "    - Build a CONUS ET Operational System There\n",
    "        - Develop path to HPC and Other Clouds for Data Outputs (scp push today, Globus)\n",
    "    - Move the ETa SSEBOP - modis work flow to open source and cloud\n",
    "    - Demonstrate portable infrastructure agnostic approaches using the brilliant PANGE framework\n",
    "    - Deliver data for downstream consumption as COGs and STAC as well as traditional delivery mechanisms - from cloud based infrastructure.\n",
    "    \n",
    "# Steps\n",
    "- Account Name Number BASIS+ - all that Kim Allington stuff\n",
    "- Initial Amount $20K\n",
    "- Cost Containment Strategies\n",
    "    - Simple\n",
    "        - static low cost AMD based compute\n",
    "        - turn off instances when not in use\n",
    "        - Leverage the BIG PANGEO free compute - https://pangeo.chs.usgs.gov\n",
    "    - Complex\n",
    "        - Auto scaling groups\n",
    "        - AWS batch\n",
    "        - SPOT instances - the EBAY of AWS EC2 Instances\n",
    "    - Free Labor\n",
    "        - Cloud Engineering\n",
    "        - SDSU Brain Trust Volunteers\n",
    "        - Honorable Mission - saving the planet\n",
    "        - Smart talent is migrating to cloud technologies\n",
    "    - Green Shoots investment due to stunning achievements"
   ]
  },
  {
   "cell_type": "markdown",
   "metadata": {},
   "source": [
    "# Reporting and Sponsor Engagement\n",
    "\n",
    "### Vision Congruence - Monthly Status/Progress Meetings with Rowland and Senay"
   ]
  },
  {
   "cell_type": "code",
   "execution_count": null,
   "metadata": {},
   "outputs": [],
   "source": []
  }
 ],
 "metadata": {
  "kernelspec": {
   "display_name": "Python 3",
   "language": "python",
   "name": "python3"
  },
  "language_info": {
   "codemirror_mode": {
    "name": "ipython",
    "version": 3
   },
   "file_extension": ".py",
   "mimetype": "text/x-python",
   "name": "python",
   "nbconvert_exporter": "python",
   "pygments_lexer": "ipython3",
   "version": "3.7.3"
  }
 },
 "nbformat": 4,
 "nbformat_minor": 4
}
