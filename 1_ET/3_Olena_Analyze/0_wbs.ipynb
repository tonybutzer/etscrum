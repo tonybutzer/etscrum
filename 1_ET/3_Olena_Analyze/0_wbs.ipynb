{
 "cells": [
  {
   "cell_type": "code",
   "execution_count": 1,
   "metadata": {},
   "outputs": [
    {
     "name": "stdout",
     "output_type": "stream",
     "text": [
      "--2021-03-14 14:37:05--  https://raw.githubusercontent.com/tonybutzer/etviz/52321d18bbd3458feeb91a50c27e13fd0f4c2dde/0-0-10-degree-viz/99-yaml-input-pandas.ipynb\n",
      "Resolving raw.githubusercontent.com (raw.githubusercontent.com)... 185.199.110.133, 185.199.111.133, 185.199.108.133, ...\n",
      "Connecting to raw.githubusercontent.com (raw.githubusercontent.com)|185.199.110.133|:443... connected.\n",
      "HTTP request sent, awaiting response... 200 OK\n",
      "Length: 192582 (188K) [text/plain]\n",
      "Saving to: ‘99-yaml-input-pandas.ipynb’\n",
      "\n",
      "99-yaml-input-panda 100%[===================>] 188.07K  --.-KB/s    in 0.04s   \n",
      "\n",
      "2021-03-14 14:37:06 (5.08 MB/s) - ‘99-yaml-input-pandas.ipynb’ saved [192582/192582]\n",
      "\n"
     ]
    }
   ],
   "source": [
    "! wget https://raw.githubusercontent.com/tonybutzer/etviz/52321d18bbd3458feeb91a50c27e13fd0f4c2dde/0-0-10-degree-viz/99-yaml-input-pandas.ipynb"
   ]
  },
  {
   "cell_type": "code",
   "execution_count": 2,
   "metadata": {},
   "outputs": [
    {
     "name": "stdout",
     "output_type": "stream",
     "text": [
      "0_wbs.ipynb\t\t\t\t  VegET_validation-Copy1.ipynb\r\n",
      "99-yaml-input-pandas.ipynb\t\t  VegET_validation.ipynb\r\n",
      "VegET_input_data_visual_inspection.ipynb\r\n"
     ]
    }
   ],
   "source": [
    "!ls"
   ]
  },
  {
   "cell_type": "code",
   "execution_count": 3,
   "metadata": {},
   "outputs": [],
   "source": [
    "! mv 99-yaml-input-pandas.ipynb 1_yaml_extent_viewer_tony.ipynb"
   ]
  },
  {
   "cell_type": "code",
   "execution_count": null,
   "metadata": {},
   "outputs": [],
   "source": []
  }
 ],
 "metadata": {
  "kernelspec": {
   "display_name": "Python 3",
   "language": "python",
   "name": "python3"
  },
  "language_info": {
   "codemirror_mode": {
    "name": "ipython",
    "version": 3
   },
   "file_extension": ".py",
   "mimetype": "text/x-python",
   "name": "python",
   "nbconvert_exporter": "python",
   "pygments_lexer": "ipython3",
   "version": "3.7.3"
  }
 },
 "nbformat": 4,
 "nbformat_minor": 4
}
