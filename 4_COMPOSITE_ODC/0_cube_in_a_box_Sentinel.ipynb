{
 "cells": [
  {
   "cell_type": "markdown",
   "metadata": {},
   "source": [
    "Hey\n",
    "\n",
    "So check this out: \n",
    "    \n",
    "- https://github.com/opendatacube/cube-in-a-box\n",
    "\n",
    "- https://github.com/opendatacube/cube-in-a-box/blob/master/notebooks/Indexing_More_Data.ipynb\n",
    "\n",
    "That will get you indexing 10,000 datasets at a time!\n",
    "\n",
    "Or you can use S3-to-dc to index by MGRS: https://github.com/opendatacube/odc-tools/tree/develop/apps/dc_tools and split that up somehow.\n",
    "\n",
    "I haven’t got to doing the same for Landsat yet... todo...\n",
    "\n",
    "Cheers!\n",
    "\n",
    "Alex Leith\n"
   ]
  },
  {
   "cell_type": "markdown",
   "metadata": {},
   "source": [
    "# Notes\n",
    "\n",
    "- docker-compose up\n",
    "    - builds the running container "
   ]
  },
  {
   "cell_type": "markdown",
   "metadata": {},
   "source": [
    "---\n",
    "# Todo\n",
    "\n",
    "1. fix limit issue in indexing - in a more permanent way - document now\n",
    "2. "
   ]
  },
  {
   "cell_type": "markdown",
   "metadata": {},
   "source": [
    "---\n",
    "# References\n",
    "\n",
    "https://github.com/opendatacube/cube-in-a-box/blob/master/notebooks/Sentinel_2.ipynb\n",
    "\n",
    "https://datacube-core.readthedocs.io/en/latest/ops/indexing.html\n",
    "\n",
    "## \n",
    "https://cmi.ga.gov.au/data-products/dea/346/dea-surface-reflectance-median-absolute-deviation-landsat\n",
    "\n",
    "What this product offers\n",
    "\n",
    "This product provides tools to exploit the time series of Earth Observation data available in Digital Earth Australia.\n",
    "\n",
    "It uses a Triple Median Absolute Deviation (TMAD), which provides three 'second order' high dimensional statistic composites per time period, which measure how much an area varies from the average in terms of 'distance' based on factors such as brightness and spectra:\n",
    "\n",
    "    Euclidean distance (EMAD)\n",
    "    Cosine (spectral) distance (SMAD)\n",
    "    Bray Curtis dissimilarity (BCMAD)\n",
    "\n",
    "\n",
    "## Kirill\n",
    "https://github.com/opendatacube/odc-tools/blob/42a8c1f0c6bd47204db3ba770a0ad4e1210811ca/notebooks/geomedian-example.ipynb\n",
    "https://github.com/opendatacube/odc-tools/blob/ebac4a05150f787928b668de460e6e5a99389b1e/libs/algo/odc/algo/_geomedian.py\n",
    "\n",
    "https://github.com/opendatacube/datacube-stats/blob/14054f8820ddf2b79691996af8ac7d41e200fe49/datacube_stats/statistics/geomedian.py\n",
    "\n",
    "https://github.com/opendatacube/odc-tools/blob/develop/libs/algo/odc/algo/_geomedian.py\n",
    "\n",
    "https://github.com/opendatacube/odc-tools/blob/42a8c1f0c6bd47204db3ba770a0ad4e1210811ca/notebooks/dask-stream-processing.ipynb\n",
    "\n",
    "## Chad Burton  Chad.Burton@ga.gov.au\n",
    "https://gist.github.com/cbur24/edebd3e392d53b8e9e76640ebad9ec49\n",
    "\n",
    "## Misc\n",
    "https://earth-search.aws.element84.com/v0/collections/sentinel-s2-l2a-cogs/items/S2A_33LVD_20170113_0_L2A"
   ]
  },
  {
   "cell_type": "markdown",
   "metadata": {},
   "source": [
    "# Documentation\n",
    "\n",
    "https://jupyterbook.org/publish/gh-pages.html\n",
    "\n",
    "https://jupyterbook.org/intro.html\n",
    "\n",
    "https://pages.github.com/\n",
    "\n",
    "\n",
    "https://examples.pyviz.org/landsat/landsat.html"
   ]
  },
  {
   "cell_type": "code",
   "execution_count": null,
   "metadata": {},
   "outputs": [],
   "source": []
  }
 ],
 "metadata": {
  "kernelspec": {
   "display_name": "Python 3",
   "language": "python",
   "name": "python3"
  },
  "language_info": {
   "codemirror_mode": {
    "name": "ipython",
    "version": 3
   },
   "file_extension": ".py",
   "mimetype": "text/x-python",
   "name": "python",
   "nbconvert_exporter": "python",
   "pygments_lexer": "ipython3",
   "version": "3.7.3"
  }
 },
 "nbformat": 4,
 "nbformat_minor": 4
}
